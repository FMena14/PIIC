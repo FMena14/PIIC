{
 "cells": [
  {
   "cell_type": "markdown",
   "metadata": {},
   "source": [
    "### Creacion de datos\n",
    "---\n",
    "* Crear datos para pruebas, aplicar una convolucion gausiana (PSF) al mapa de santiago con el punto central en donde se midio .."
   ]
  },
  {
   "cell_type": "code",
   "execution_count": 51,
   "metadata": {
    "collapsed": true
   },
   "outputs": [],
   "source": [
    "import numpy as np\n",
    "import pandas as pd\n",
    "import matplotlib.pyplot as plt"
   ]
  },
  {
   "cell_type": "code",
   "execution_count": 86,
   "metadata": {
    "collapsed": false
   },
   "outputs": [
    {
     "name": "stdout",
     "output_type": "stream",
     "text": [
      "Dimensiones:  odict_keys(['longitude', 'latitude'])\n",
      "HC TOT unit:  ton/yr\n",
      "HC TOT min value:  0.0\n",
      "HC TOT max value:  282.272216797\n",
      "HC TOT shape:  (3913, 1157)\n"
     ]
    }
   ],
   "source": [
    "from netCDF4 import Dataset\n",
    "#dataset = Dataset('../HC_TOT.nc',mode='r') \n",
    "dataset = Dataset('sample_files//NOx_TOT.nc',mode='r') \n",
    "print(\"Dimensiones: \",dataset.dimensions.keys() )\n",
    "measure = dataset.variables['NOxTOT']\n",
    "measure_data = measure[:]\n",
    "W,H = measure.shape\n",
    "print(\"HC TOT unit: \",measure.units)\n",
    "print(\"HC TOT min value: \",measure.min)\n",
    "print(\"HC TOT max value: \",measure.max)\n",
    "print(\"HC TOT shape: \",measure.shape)\n",
    "\n",
    "lons = dataset.variables['longitude']\n",
    "lons_data = lons[:]\n",
    "\n",
    "lats = dataset.variables['latitude']\n",
    "lats_data = lats[:]\n",
    "\n",
    "#aprox square over santiago --- coordinates\n",
    "start_long = lons_data[630]\n",
    "end_long = lons_data[680]\n",
    "\n",
    "start_lat = lats_data[1570]\n",
    "end_lat = lats_data[1630]\n",
    "\n",
    "print(\"Start longitude %f - End Longitute %f\"%(start_long,end_long))\n",
    "print(\"Start latitude %f - End latitude %f\"%(start_lat,end_lat))\n",
    "\n",
    "precision_degrees = 0.01\n",
    "\n",
    "dataset.close()"
   ]
  },
  {
   "cell_type": "code",
   "execution_count": 98,
   "metadata": {
    "collapsed": true
   },
   "outputs": [],
   "source": [
    "W , H = 50, 60"
   ]
  },
  {
   "cell_type": "code",
   "execution_count": 110,
   "metadata": {
    "collapsed": false
   },
   "outputs": [
    {
     "data": {
      "text/html": [
       "<div>\n",
       "<table border=\"1\" class=\"dataframe\">\n",
       "  <thead>\n",
       "    <tr style=\"text-align: right;\">\n",
       "      <th></th>\n",
       "      <th>registered_on</th>\n",
       "      <th>CO</th>\n",
       "      <th>PM10</th>\n",
       "      <th>PM25</th>\n",
       "      <th>NO2</th>\n",
       "      <th>NO</th>\n",
       "      <th>NOX</th>\n",
       "      <th>SO2</th>\n",
       "      <th>WD</th>\n",
       "      <th>RH</th>\n",
       "      <th>TEMP</th>\n",
       "      <th>WS</th>\n",
       "      <th>HCNM</th>\n",
       "      <th>UVA</th>\n",
       "      <th>UVB</th>\n",
       "      <th>O3</th>\n",
       "    </tr>\n",
       "  </thead>\n",
       "  <tbody>\n",
       "    <tr>\n",
       "      <th>0</th>\n",
       "      <td>1997-05-01 01:00:00</td>\n",
       "      <td>1.1</td>\n",
       "      <td>52.0</td>\n",
       "      <td>NaN</td>\n",
       "      <td>NaN</td>\n",
       "      <td>NaN</td>\n",
       "      <td>NaN</td>\n",
       "      <td>NaN</td>\n",
       "      <td>NaN</td>\n",
       "      <td>NaN</td>\n",
       "      <td>NaN</td>\n",
       "      <td>NaN</td>\n",
       "      <td>NaN</td>\n",
       "      <td>NaN</td>\n",
       "      <td>NaN</td>\n",
       "      <td>1.0</td>\n",
       "    </tr>\n",
       "    <tr>\n",
       "      <th>1</th>\n",
       "      <td>1997-05-01 02:00:00</td>\n",
       "      <td>1.6</td>\n",
       "      <td>60.0</td>\n",
       "      <td>NaN</td>\n",
       "      <td>NaN</td>\n",
       "      <td>NaN</td>\n",
       "      <td>NaN</td>\n",
       "      <td>NaN</td>\n",
       "      <td>NaN</td>\n",
       "      <td>NaN</td>\n",
       "      <td>NaN</td>\n",
       "      <td>NaN</td>\n",
       "      <td>NaN</td>\n",
       "      <td>NaN</td>\n",
       "      <td>NaN</td>\n",
       "      <td>1.0</td>\n",
       "    </tr>\n",
       "    <tr>\n",
       "      <th>2</th>\n",
       "      <td>1997-05-01 03:00:00</td>\n",
       "      <td>1.9</td>\n",
       "      <td>73.0</td>\n",
       "      <td>NaN</td>\n",
       "      <td>NaN</td>\n",
       "      <td>NaN</td>\n",
       "      <td>NaN</td>\n",
       "      <td>NaN</td>\n",
       "      <td>NaN</td>\n",
       "      <td>NaN</td>\n",
       "      <td>NaN</td>\n",
       "      <td>NaN</td>\n",
       "      <td>NaN</td>\n",
       "      <td>NaN</td>\n",
       "      <td>NaN</td>\n",
       "      <td>1.0</td>\n",
       "    </tr>\n",
       "    <tr>\n",
       "      <th>3</th>\n",
       "      <td>1997-05-01 04:00:00</td>\n",
       "      <td>2.2</td>\n",
       "      <td>104.0</td>\n",
       "      <td>NaN</td>\n",
       "      <td>NaN</td>\n",
       "      <td>NaN</td>\n",
       "      <td>NaN</td>\n",
       "      <td>NaN</td>\n",
       "      <td>NaN</td>\n",
       "      <td>NaN</td>\n",
       "      <td>NaN</td>\n",
       "      <td>NaN</td>\n",
       "      <td>NaN</td>\n",
       "      <td>NaN</td>\n",
       "      <td>NaN</td>\n",
       "      <td>2.0</td>\n",
       "    </tr>\n",
       "    <tr>\n",
       "      <th>4</th>\n",
       "      <td>1997-05-01 05:00:00</td>\n",
       "      <td>1.7</td>\n",
       "      <td>87.0</td>\n",
       "      <td>NaN</td>\n",
       "      <td>NaN</td>\n",
       "      <td>NaN</td>\n",
       "      <td>NaN</td>\n",
       "      <td>NaN</td>\n",
       "      <td>NaN</td>\n",
       "      <td>NaN</td>\n",
       "      <td>NaN</td>\n",
       "      <td>NaN</td>\n",
       "      <td>NaN</td>\n",
       "      <td>NaN</td>\n",
       "      <td>NaN</td>\n",
       "      <td>1.0</td>\n",
       "    </tr>\n",
       "  </tbody>\n",
       "</table>\n",
       "</div>"
      ],
      "text/plain": [
       "         registered_on   CO   PM10  PM25  NO2  NO  NOX  SO2  WD  RH  TEMP  WS  \\\n",
       "0  1997-05-01 01:00:00  1.1   52.0   NaN  NaN NaN  NaN  NaN NaN NaN   NaN NaN   \n",
       "1  1997-05-01 02:00:00  1.6   60.0   NaN  NaN NaN  NaN  NaN NaN NaN   NaN NaN   \n",
       "2  1997-05-01 03:00:00  1.9   73.0   NaN  NaN NaN  NaN  NaN NaN NaN   NaN NaN   \n",
       "3  1997-05-01 04:00:00  2.2  104.0   NaN  NaN NaN  NaN  NaN NaN NaN   NaN NaN   \n",
       "4  1997-05-01 05:00:00  1.7   87.0   NaN  NaN NaN  NaN  NaN NaN NaN   NaN NaN   \n",
       "\n",
       "   HCNM  UVA  UVB   O3  \n",
       "0   NaN  NaN  NaN  1.0  \n",
       "1   NaN  NaN  NaN  1.0  \n",
       "2   NaN  NaN  NaN  1.0  \n",
       "3   NaN  NaN  NaN  2.0  \n",
       "4   NaN  NaN  NaN  1.0  "
      ]
     },
     "execution_count": 110,
     "metadata": {},
     "output_type": "execute_result"
    }
   ],
   "source": [
    "folder = \"../proyecto/datasets/\"\n",
    "\n",
    "df_independencia_verano = pd.read_csv(folder+\"dump-Independencia_2018-04-12_230000-verano.csv\")\n",
    "df_independencia_invierno = pd.read_csv(folder+\"dump-Independencia_2018-04-12_230000-invierno.csv\")\n",
    "\n",
    "df_condes_verano = pd.read_csv(folder+\"dump-Las_Condes_2018-04-12_230000-verano.csv\")\n",
    "df_condes_invierno = pd.read_csv(folder+\"dump-Las_Condes_2018-04-12_230000-invierno.csv\")\n",
    "\n",
    "df_independencia_invierno.head()"
   ]
  },
  {
   "cell_type": "code",
   "execution_count": 90,
   "metadata": {
    "collapsed": true
   },
   "outputs": [],
   "source": [
    "#latitude and longitude coordinates\n",
    "LC_lat = -33.414429\n",
    "LC_long = -70.557030\n",
    "IND_lat = -33.422390\n",
    "IND_long =  -70.655200\n",
    "\n",
    "\n",
    "LC_i = int(round((LC_lat-start_lat)/precision_degrees))\n",
    "LC_j = int(round((LC_long-start_long)/precision_degrees))\n",
    "\n",
    "IND_i = int(round((IND_lat-start_lat)/precision_degrees))\n",
    "IND_j = int(round((IND_long-start_long)/precision_degrees))"
   ]
  },
  {
   "cell_type": "code",
   "execution_count": 105,
   "metadata": {
    "collapsed": false
   },
   "outputs": [
    {
     "data": {
      "image/png": "[encoded data removed]",
      "text/plain": [
       "<matplotlib.figure.Figure at 0x2aab28de36a0>"
      ]
     },
     "metadata": {},
     "output_type": "display_data"
    }
   ],
   "source": [
    "\n",
    "a = np.zeros((W,H))\n",
    "\n",
    "a[LC_i,LC_j] = 10\n",
    "a[IND_i,IND_j] =100\n",
    "\n",
    "plt.imshow(a)\n",
    "plt.show()"
   ]
  },
  {
   "cell_type": "code",
   "execution_count": 112,
   "metadata": {
    "collapsed": false
   },
   "outputs": [
    {
     "data": {
      "text/plain": [
       "(60814, 50, 60)"
      ]
     },
     "execution_count": 112,
     "metadata": {},
     "output_type": "execute_result"
    }
   ],
   "source": [
    "#data creation...\n",
    "data_ind = []\n",
    "\n",
    "for value in df_independencia_invierno.values:\n",
    "#for value in df_condes_verano.values:\n",
    "    a = np.zeros((W,H))\n",
    "    #a[LC_i,LC_j] = 10\n",
    "    a[IND_i,IND_j] = value[-1] #ozone\n",
    "\n",
    "    data_ind.append(a)    \n",
    "data_ind = np.asarray(data_ind)\n",
    "data_ind.shape"
   ]
  },
  {
   "cell_type": "code",
   "execution_count": null,
   "metadata": {
    "collapsed": true
   },
   "outputs": [],
   "source": []
  },
  {
   "cell_type": "code",
   "execution_count": null,
   "metadata": {
    "collapsed": true
   },
   "outputs": [],
   "source": []
  },
  {
   "cell_type": "code",
   "execution_count": null,
   "metadata": {
    "collapsed": true
   },
   "outputs": [],
   "source": []
  },
  {
   "cell_type": "code",
   "execution_count": 46,
   "metadata": {
    "collapsed": false,
    "scrolled": true
   },
   "outputs": [],
   "source": [
    "from scipy.stats import multivariate_normal\n",
    "from scipy.signal import convolve2d\n",
    "\n",
    "def makeGaussian(size1,size2, sigma1 = 3,sigma2=3):\n",
    "    \"\"\" Make a square gaussian kernel \"\"\"\n",
    "    mu = np.asarray([size1//2,size2//2]) # [x0, y0]\n",
    "    cov = np.asarray([sigma1,sigma2])\n",
    "\n",
    "    normal_distrib = multivariate_normal(mu,cov)\n",
    "    normal_factor = 1/normal_distrib.pdf(mu)\n",
    "    \n",
    "    result = np.zeros((size1,size2))\n",
    "    for i in range(size1):\n",
    "        for j in range(size2):\n",
    "            result[i,j] = normal_distrib.pdf([i,j])*normal_factor\n",
    "    return result, normal_factor\n",
    "\n",
    "psf, normal_factor = makeGaussian(W,H,W,H)"
   ]
  },
  {
   "cell_type": "code",
   "execution_count": 47,
   "metadata": {
    "collapsed": false,
    "scrolled": true
   },
   "outputs": [
    {
     "data": {
      "image/png": "[encoded data removed]",
      "text/plain": [
       "<matplotlib.figure.Figure at 0x2aab21e6ae48>"
      ]
     },
     "metadata": {},
     "output_type": "display_data"
    },
    {
     "data": {
      "image/png": "[encoded data removed]",
      "text/plain": [
       "<matplotlib.figure.Figure at 0x2aab21c216a0>"
      ]
     },
     "metadata": {},
     "output_type": "display_data"
    },
    {
     "data": {
      "image/png": "[encoded data removed]",
      "text/plain": [
       "<matplotlib.figure.Figure at 0x2aab219d2278>"
      ]
     },
     "metadata": {},
     "output_type": "display_data"
    },
    {
     "data": {
      "image/png": "[encoded data removed]",
      "text/plain": [
       "<matplotlib.figure.Figure at 0x2aab21f792b0>"
      ]
     },
     "metadata": {},
     "output_type": "display_data"
    },
    {
     "data": {
      "text/plain": [
       "47.419251478863707"
      ]
     },
     "execution_count": 47,
     "metadata": {},
     "output_type": "execute_result"
    }
   ],
   "source": [
    "plt.imshow(psf)\n",
    "plt.colorbar()\n",
    "plt.title(\"PSF (Point Spread Function)\")\n",
    "plt.show()\n",
    "\n",
    "a = np.zeros(psf.shape)\n",
    "i = np.random.randint(0,a.shape[0])\n",
    "j = np.random.randint(0,a.shape[1])\n",
    "a[i,j] = 50 #measurement\n",
    "plt.imshow(a)\n",
    "plt.title(\"Example data\")\n",
    "plt.colorbar()\n",
    "plt.show()\n",
    "\n",
    "operat = convolve2d(a, psf, mode='same', boundary='fill', fillvalue=0)\n",
    "plt.imshow(operat)\n",
    "plt.title(\"Convolve result\")\n",
    "plt.colorbar()\n",
    "plt.show()\n",
    "\n",
    "operat = convolve2d(a, psf/normal_factor, mode='same', boundary='fill', fillvalue=0)\n",
    "plt.imshow(operat)\n",
    "plt.title(\"Convolve result normalized\")\n",
    "plt.colorbar()\n",
    "plt.show()\n",
    "np.sum(operat)"
   ]
  },
  {
   "cell_type": "code",
   "execution_count": null,
   "metadata": {
    "collapsed": true
   },
   "outputs": [],
   "source": []
  },
  {
   "cell_type": "code",
   "execution_count": null,
   "metadata": {
    "collapsed": true
   },
   "outputs": [],
   "source": []
  },
  {
   "cell_type": "code",
   "execution_count": 114,
   "metadata": {
    "collapsed": false
   },
   "outputs": [
    {
     "ename": "KeyboardInterrupt",
     "evalue": "",
     "output_type": "error",
     "traceback": [
      "\u001b[0;31m---------------------------------------------------------------------------\u001b[0m",
      "\u001b[0;31mKeyboardInterrupt\u001b[0m                         Traceback (most recent call last)",
      "\u001b[0;32m<ipython-input-114-67ef5e19ad85>\u001b[0m in \u001b[0;36m<module>\u001b[0;34m()\u001b[0m\n\u001b[1;32m     13\u001b[0m \u001b[0;34m\u001b[0m\u001b[0m\n\u001b[1;32m     14\u001b[0m \u001b[0;34m\u001b[0m\u001b[0m\n\u001b[0;32m---> 15\u001b[0;31m \u001b[0mnew_cube_data\u001b[0m \u001b[0;34m=\u001b[0m \u001b[0mconvolve_cube\u001b[0m\u001b[0;34m(\u001b[0m\u001b[0mdata_ind\u001b[0m\u001b[0;34m)\u001b[0m\u001b[0;34m\u001b[0m\u001b[0m\n\u001b[0m\u001b[1;32m     16\u001b[0m \u001b[0;34m\u001b[0m\u001b[0m\n\u001b[1;32m     17\u001b[0m \u001b[0mnew_cube_data\u001b[0m\u001b[0;34m.\u001b[0m\u001b[0mshape\u001b[0m\u001b[0;34m\u001b[0m\u001b[0m\n",
      "\u001b[0;32m<ipython-input-114-67ef5e19ad85>\u001b[0m in \u001b[0;36mconvolve_cube\u001b[0;34m(cube)\u001b[0m\n\u001b[1;32m      9\u001b[0m \u001b[0;34m\u001b[0m\u001b[0m\n\u001b[1;32m     10\u001b[0m \u001b[0;34m\u001b[0m\u001b[0m\n\u001b[0;32m---> 11\u001b[0;31m         \u001b[0mnew_timestep_data\u001b[0m\u001b[0;34m[\u001b[0m\u001b[0mt\u001b[0m\u001b[0;34m]\u001b[0m \u001b[0;34m=\u001b[0m \u001b[0mconvolve2d\u001b[0m\u001b[0;34m(\u001b[0m\u001b[0mcube\u001b[0m\u001b[0;34m[\u001b[0m\u001b[0mt\u001b[0m\u001b[0;34m]\u001b[0m\u001b[0;34m,\u001b[0m \u001b[0mpsf\u001b[0m\u001b[0;34m,\u001b[0m \u001b[0mmode\u001b[0m\u001b[0;34m=\u001b[0m\u001b[0;34m'same'\u001b[0m\u001b[0;34m,\u001b[0m \u001b[0mboundary\u001b[0m\u001b[0;34m=\u001b[0m\u001b[0;34m'fill'\u001b[0m\u001b[0;34m,\u001b[0m \u001b[0mfillvalue\u001b[0m\u001b[0;34m=\u001b[0m\u001b[0;36m0\u001b[0m\u001b[0;34m)\u001b[0m\u001b[0;34m\u001b[0m\u001b[0m\n\u001b[0m\u001b[1;32m     12\u001b[0m     \u001b[0;32mreturn\u001b[0m \u001b[0mnew_timestep_data\u001b[0m\u001b[0;34m\u001b[0m\u001b[0m\n\u001b[1;32m     13\u001b[0m \u001b[0;34m\u001b[0m\u001b[0m\n",
      "\u001b[0;32m/users/fmena/anaconda3/lib/python3.6/site-packages/scipy/signal/signaltools.py\u001b[0m in \u001b[0;36mconvolve2d\u001b[0;34m(in1, in2, mode, boundary, fillvalue)\u001b[0m\n\u001b[1;32m   1056\u001b[0m     \u001b[0mval\u001b[0m \u001b[0;34m=\u001b[0m \u001b[0m_valfrommode\u001b[0m\u001b[0;34m(\u001b[0m\u001b[0mmode\u001b[0m\u001b[0;34m)\u001b[0m\u001b[0;34m\u001b[0m\u001b[0m\n\u001b[1;32m   1057\u001b[0m     \u001b[0mbval\u001b[0m \u001b[0;34m=\u001b[0m \u001b[0m_bvalfromboundary\u001b[0m\u001b[0;34m(\u001b[0m\u001b[0mboundary\u001b[0m\u001b[0;34m)\u001b[0m\u001b[0;34m\u001b[0m\u001b[0m\n\u001b[0;32m-> 1058\u001b[0;31m     \u001b[0mout\u001b[0m \u001b[0;34m=\u001b[0m \u001b[0msigtools\u001b[0m\u001b[0;34m.\u001b[0m\u001b[0m_convolve2d\u001b[0m\u001b[0;34m(\u001b[0m\u001b[0min1\u001b[0m\u001b[0;34m,\u001b[0m \u001b[0min2\u001b[0m\u001b[0;34m,\u001b[0m \u001b[0;36m1\u001b[0m\u001b[0;34m,\u001b[0m \u001b[0mval\u001b[0m\u001b[0;34m,\u001b[0m \u001b[0mbval\u001b[0m\u001b[0;34m,\u001b[0m \u001b[0mfillvalue\u001b[0m\u001b[0;34m)\u001b[0m\u001b[0;34m\u001b[0m\u001b[0m\n\u001b[0m\u001b[1;32m   1059\u001b[0m     \u001b[0;32mreturn\u001b[0m \u001b[0mout\u001b[0m\u001b[0;34m\u001b[0m\u001b[0m\n\u001b[1;32m   1060\u001b[0m \u001b[0;34m\u001b[0m\u001b[0m\n",
      "\u001b[0;31mKeyboardInterrupt\u001b[0m: "
     ]
    }
   ],
   "source": [
    "#timestep_data = np.zeros((T,W,H))\n",
    "\n",
    "def convolve_cube(cube,PSF):\n",
    "    new_timestep_data = np.zeros(cube.shape)\n",
    "    for t in range(new_timestep_data.shape[0]):\n",
    "        #i = np.random.randint(0,new_timestep_data.shape[1])\n",
    "        #j = np.random.randint(0,new_timestep_data.shape[2])\n",
    "        #timestep_data[t,i,j] = np.random.randint(1,50)\n",
    "\n",
    "        new_timestep_data[t] = convolve2d(cube[t], PSF, mode='same', boundary='fill', fillvalue=0)\n",
    "    return new_timestep_data\n",
    "\n",
    "\n",
    "new_cube_data = convolve_cube(data_ind,psf)\n",
    "\n",
    "new_cube_data.shape"
   ]
  },
  {
   "cell_type": "code",
   "execution_count": null,
   "metadata": {
    "collapsed": true
   },
   "outputs": [],
   "source": [
    "t"
   ]
  },
  {
   "cell_type": "code",
   "execution_count": 49,
   "metadata": {
    "collapsed": false
   },
   "outputs": [
    {
     "data": {
      "image/png": "[encoded data removed]",
      "text/plain": [
       "<matplotlib.figure.Figure at 0x2aab21b3eac8>"
      ]
     },
     "metadata": {},
     "output_type": "display_data"
    }
   ],
   "source": [
    "plt.imshow(new_timestep_data[2])\n",
    "plt.show()"
   ]
  },
  {
   "cell_type": "code",
   "execution_count": null,
   "metadata": {
    "collapsed": true
   },
   "outputs": [],
   "source": []
  },
  {
   "cell_type": "code",
   "execution_count": null,
   "metadata": {
    "collapsed": true
   },
   "outputs": [],
   "source": [
    "#when data cubes are create create timestep data.. with index (Efficient)"
   ]
  },
  {
   "cell_type": "code",
   "execution_count": null,
   "metadata": {
    "collapsed": true
   },
   "outputs": [],
   "source": []
  },
  {
   "cell_type": "code",
   "execution_count": 36,
   "metadata": {
    "collapsed": false
   },
   "outputs": [
    {
     "name": "stdout",
     "output_type": "stream",
     "text": [
      "(data, timesteps, width, heigh, channels): (5, 8, 40, 35, 10)\n"
     ]
    }
   ],
   "source": [
    "N = 5 #data\n",
    "T = 8 #timesteps (hours)\n",
    "Ch = 10 #channels of the cube (number of compound)\n",
    "input_data = np.zeros((N,T,W,H,Ch))\n",
    "print(\"(data, timesteps, width, heigh, channels):\",input_data.shape)"
   ]
  }
 ],
 "metadata": {
  "kernelspec": {
   "display_name": "Python 3",
   "language": "python",
   "name": "python3"
  },
  "language_info": {
   "codemirror_mode": {
    "name": "ipython",
    "version": 3
   },
   "file_extension": ".py",
   "mimetype": "text/x-python",
   "name": "python",
   "nbconvert_exporter": "python",
   "pygments_lexer": "ipython3",
   "version": "3.6.0"
  }
 },
 "nbformat": 4,
 "nbformat_minor": 2
}
