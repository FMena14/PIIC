{
 "cells": [
  {
   "cell_type": "markdown",
   "metadata": {},
   "source": [
    "### Creacion de datos\n",
    "---\n",
    "* Crear datos para pruebas, aplicar una convolucion gausiana (PSF) al mapa de santiago con el punto central en donde se midio .."
   ]
  },
  {
   "cell_type": "code",
   "execution_count": 4,
   "metadata": {
    "collapsed": true
   },
   "outputs": [],
   "source": [
    "import numpy as np\n",
    "import pandas as pd\n",
    "import matplotlib.pyplot as plt\n",
    "import gc,sys,time\n",
    "\n",
    "MASK_VALUE = -1."
   ]
  },
  {
   "cell_type": "code",
   "execution_count": 1,
   "metadata": {
    "collapsed": false
   },
   "outputs": [
    {
     "name": "stdout",
     "output_type": "stream",
     "text": [
      "Dimensiones:  odict_keys(['longitude', 'latitude'])\n",
      "HC TOT unit:  ton/yr\n",
      "HC TOT min value:  0.0\n",
      "HC TOT max value:  282.272216797\n",
      "HC TOT shape:  (3913, 1157)\n",
      "Start longitude -70.867122 - End Longitute -70.467122\n",
      "Start latitude -33.197764 - End latitude -33.697764\n"
     ]
    }
   ],
   "source": [
    "from netCDF4 import Dataset\n",
    "#dataset = Dataset('../HC_TOT.nc',mode='r') \n",
    "dataset = Dataset('sample_files//NOx_TOT.nc',mode='r') \n",
    "print(\"Dimensiones: \",dataset.dimensions.keys() )\n",
    "measure = dataset.variables['NOxTOT']\n",
    "measure_data = measure[:]\n",
    "W,H = measure.shape\n",
    "print(\"HC TOT unit: \",measure.units)\n",
    "print(\"HC TOT min value: \",measure.min)\n",
    "print(\"HC TOT max value: \",measure.max)\n",
    "print(\"HC TOT shape: \",measure.shape)\n",
    "\n",
    "lons = dataset.variables['longitude']\n",
    "lons_data = lons[:]\n",
    "\n",
    "lats = dataset.variables['latitude']\n",
    "lats_data = lats[:]\n",
    "\n",
    "#aprox square over santiago --- coordinates\n",
    "start_long = lons_data[635]\n",
    "end_long = lons_data[675]\n",
    "\n",
    "start_lat = lats_data[1575]\n",
    "end_lat = lats_data[1625]\n",
    "\n",
    "print(\"Start longitude %f - End Longitute %f\"%(start_long,end_long))\n",
    "print(\"Start latitude %f - End latitude %f\"%(start_lat,end_lat))\n",
    "\n",
    "precision_degrees = 0.01\n",
    "\n",
    "dataset.close()"
   ]
  },
  {
   "cell_type": "code",
   "execution_count": 2,
   "metadata": {
    "collapsed": true
   },
   "outputs": [],
   "source": [
    "W , H = 40, 50"
   ]
  },
  {
   "cell_type": "code",
   "execution_count": 5,
   "metadata": {
    "collapsed": false
   },
   "outputs": [
    {
     "data": {
      "text/html": [
       "<div>\n",
       "<table border=\"1\" class=\"dataframe\">\n",
       "  <thead>\n",
       "    <tr style=\"text-align: right;\">\n",
       "      <th></th>\n",
       "      <th>registered_on</th>\n",
       "      <th>CO</th>\n",
       "      <th>PM10</th>\n",
       "      <th>PM25</th>\n",
       "      <th>NO2</th>\n",
       "      <th>NO</th>\n",
       "      <th>NOX</th>\n",
       "      <th>SO2</th>\n",
       "      <th>WD</th>\n",
       "      <th>RH</th>\n",
       "      <th>TEMP</th>\n",
       "      <th>WS</th>\n",
       "      <th>HCNM</th>\n",
       "      <th>UVA</th>\n",
       "      <th>UVB</th>\n",
       "      <th>O3</th>\n",
       "    </tr>\n",
       "  </thead>\n",
       "  <tbody>\n",
       "    <tr>\n",
       "      <th>0</th>\n",
       "      <td>1997-05-01 01:00:00</td>\n",
       "      <td>1.1</td>\n",
       "      <td>52.0</td>\n",
       "      <td>NaN</td>\n",
       "      <td>NaN</td>\n",
       "      <td>NaN</td>\n",
       "      <td>NaN</td>\n",
       "      <td>NaN</td>\n",
       "      <td>NaN</td>\n",
       "      <td>NaN</td>\n",
       "      <td>NaN</td>\n",
       "      <td>NaN</td>\n",
       "      <td>NaN</td>\n",
       "      <td>NaN</td>\n",
       "      <td>NaN</td>\n",
       "      <td>1.0</td>\n",
       "    </tr>\n",
       "    <tr>\n",
       "      <th>1</th>\n",
       "      <td>1997-05-01 02:00:00</td>\n",
       "      <td>1.6</td>\n",
       "      <td>60.0</td>\n",
       "      <td>NaN</td>\n",
       "      <td>NaN</td>\n",
       "      <td>NaN</td>\n",
       "      <td>NaN</td>\n",
       "      <td>NaN</td>\n",
       "      <td>NaN</td>\n",
       "      <td>NaN</td>\n",
       "      <td>NaN</td>\n",
       "      <td>NaN</td>\n",
       "      <td>NaN</td>\n",
       "      <td>NaN</td>\n",
       "      <td>NaN</td>\n",
       "      <td>1.0</td>\n",
       "    </tr>\n",
       "    <tr>\n",
       "      <th>2</th>\n",
       "      <td>1997-05-01 03:00:00</td>\n",
       "      <td>1.9</td>\n",
       "      <td>73.0</td>\n",
       "      <td>NaN</td>\n",
       "      <td>NaN</td>\n",
       "      <td>NaN</td>\n",
       "      <td>NaN</td>\n",
       "      <td>NaN</td>\n",
       "      <td>NaN</td>\n",
       "      <td>NaN</td>\n",
       "      <td>NaN</td>\n",
       "      <td>NaN</td>\n",
       "      <td>NaN</td>\n",
       "      <td>NaN</td>\n",
       "      <td>NaN</td>\n",
       "      <td>1.0</td>\n",
       "    </tr>\n",
       "    <tr>\n",
       "      <th>3</th>\n",
       "      <td>1997-05-01 04:00:00</td>\n",
       "      <td>2.2</td>\n",
       "      <td>104.0</td>\n",
       "      <td>NaN</td>\n",
       "      <td>NaN</td>\n",
       "      <td>NaN</td>\n",
       "      <td>NaN</td>\n",
       "      <td>NaN</td>\n",
       "      <td>NaN</td>\n",
       "      <td>NaN</td>\n",
       "      <td>NaN</td>\n",
       "      <td>NaN</td>\n",
       "      <td>NaN</td>\n",
       "      <td>NaN</td>\n",
       "      <td>NaN</td>\n",
       "      <td>2.0</td>\n",
       "    </tr>\n",
       "    <tr>\n",
       "      <th>4</th>\n",
       "      <td>1997-05-01 05:00:00</td>\n",
       "      <td>1.7</td>\n",
       "      <td>87.0</td>\n",
       "      <td>NaN</td>\n",
       "      <td>NaN</td>\n",
       "      <td>NaN</td>\n",
       "      <td>NaN</td>\n",
       "      <td>NaN</td>\n",
       "      <td>NaN</td>\n",
       "      <td>NaN</td>\n",
       "      <td>NaN</td>\n",
       "      <td>NaN</td>\n",
       "      <td>NaN</td>\n",
       "      <td>NaN</td>\n",
       "      <td>NaN</td>\n",
       "      <td>1.0</td>\n",
       "    </tr>\n",
       "  </tbody>\n",
       "</table>\n",
       "</div>"
      ],
      "text/plain": [
       "         registered_on   CO   PM10  PM25  NO2  NO  NOX  SO2  WD  RH  TEMP  WS  \\\n",
       "0  1997-05-01 01:00:00  1.1   52.0   NaN  NaN NaN  NaN  NaN NaN NaN   NaN NaN   \n",
       "1  1997-05-01 02:00:00  1.6   60.0   NaN  NaN NaN  NaN  NaN NaN NaN   NaN NaN   \n",
       "2  1997-05-01 03:00:00  1.9   73.0   NaN  NaN NaN  NaN  NaN NaN NaN   NaN NaN   \n",
       "3  1997-05-01 04:00:00  2.2  104.0   NaN  NaN NaN  NaN  NaN NaN NaN   NaN NaN   \n",
       "4  1997-05-01 05:00:00  1.7   87.0   NaN  NaN NaN  NaN  NaN NaN NaN   NaN NaN   \n",
       "\n",
       "   HCNM  UVA  UVB   O3  \n",
       "0   NaN  NaN  NaN  1.0  \n",
       "1   NaN  NaN  NaN  1.0  \n",
       "2   NaN  NaN  NaN  1.0  \n",
       "3   NaN  NaN  NaN  2.0  \n",
       "4   NaN  NaN  NaN  1.0  "
      ]
     },
     "execution_count": 5,
     "metadata": {},
     "output_type": "execute_result"
    }
   ],
   "source": [
    "folder = \"../proyecto/datasets/\"\n",
    "\n",
    "df_independencia_verano = pd.read_csv(folder+\"dump-Independencia_2018-04-12_230000-verano.csv\")\n",
    "df_independencia_invierno = pd.read_csv(folder+\"dump-Independencia_2018-04-12_230000-invierno.csv\")\n",
    "\n",
    "df_condes_verano = pd.read_csv(folder+\"dump-Las_Condes_2018-04-12_230000-verano.csv\")\n",
    "df_condes_invierno = pd.read_csv(folder+\"dump-Las_Condes_2018-04-12_230000-invierno.csv\")\n",
    "\n",
    "df_independencia_invierno.head()"
   ]
  },
  {
   "cell_type": "code",
   "execution_count": 6,
   "metadata": {
    "collapsed": true
   },
   "outputs": [],
   "source": [
    "#latitude and longitude coordinates\n",
    "LC_lat = -33.414429\n",
    "LC_long = -70.557030\n",
    "IND_lat = -33.422390\n",
    "IND_long =  -70.655200\n",
    "\n",
    "\n",
    "LC_i = int(round((LC_lat-start_lat)/precision_degrees))\n",
    "LC_j = int(round((LC_long-start_long)/precision_degrees))\n",
    "\n",
    "IND_i = int(round((IND_lat-start_lat)/precision_degrees))\n",
    "IND_j = int(round((IND_long-start_long)/precision_degrees))"
   ]
  },
  {
   "cell_type": "code",
   "execution_count": 7,
   "metadata": {
    "collapsed": false
   },
   "outputs": [
    {
     "data": {
      "image/png": "[encoded data removed]",
      "text/plain": [
       "<matplotlib.figure.Figure at 0x2aaae8455320>"
      ]
     },
     "metadata": {},
     "output_type": "display_data"
    }
   ],
   "source": [
    "\n",
    "a = np.zeros((W,H))\n",
    "\n",
    "a[LC_i,LC_j] = 10\n",
    "a[IND_i,IND_j] =100\n",
    "\n",
    "plt.imshow(a)\n",
    "plt.show()"
   ]
  },
  {
   "cell_type": "code",
   "execution_count": 8,
   "metadata": {
    "collapsed": false
   },
   "outputs": [
    {
     "name": "stderr",
     "output_type": "stream",
     "text": [
      "Using TensorFlow backend.\n"
     ]
    }
   ],
   "source": [
    "## representacion\n",
    "rows_to_use = [\"CO\",\"PM10\",\"PM25\",\"NO2\",\"NO\",\"NOX\",\"SO2\",\"WD\",\"RH\",\"TEMP\",\"WS\",\"HCNM\",\"UVA\",\"UVB\",\"O3\"]\n",
    "from keras.preprocessing.sequence import pad_sequences\n",
    "\n",
    "def create_sequences(dataframe,lag=1):\n",
    "    #preprocesamiento asumiendo dataset es una secuencia\n",
    "    timestep = dataframe.loc[:,\"registered_on\"].values\n",
    "    \n",
    "    indices_orden = []\n",
    "    diax = timestep[0].split(\"-\")[-1].split(\" \")[0]\n",
    "    aux_indices1 = 0\n",
    "    aux_indices2 = 0 \n",
    "    for dato in timestep[1:]:\n",
    "        nuevo_dia = dato.split(\"-\")[-1].split(\" \")[0]\n",
    "        aux_indices2+=1\n",
    "        if diax != nuevo_dia:\n",
    "            diax = nuevo_dia\n",
    "            #if aux_indices2-aux_indices1==24:\n",
    "            #    aux_indices2-=1\n",
    "            indices_orden.append([aux_indices1,aux_indices2])\n",
    "            aux_indices1 = aux_indices2\n",
    "    indices_orden.append([aux_indices1,aux_indices2+1])\n",
    "    data = dataframe.loc[:,rows_to_use].values\n",
    "    data = np.asarray([data[init:finit] for init,finit in indices_orden])\n",
    "    \n",
    "    horas = 24\n",
    "    \n",
    "    dataX = []\n",
    "    dataY =[]\n",
    "    for t_plus_1 in range(lag,len(data)):\n",
    "        #se crea el Y (target)\n",
    "        predecir = data[t_plus_1][:,-1] #todas las ultimas columnas --sequence\n",
    "        dataY.append(predecir)\n",
    "        columnasX = [] #se crea el X (inputs) columnas para predecir Y\n",
    "        for i in np.arange(lag,0,-1): #para los valores anteriores al t_plus_1 durante un lag\n",
    "            columnasX.append( data[t_plus_1-i] )\n",
    "        dataX.append(columnasX)\n",
    "    \n",
    "    #mascara delete..\n",
    "    mask_delete = np.ones(len(dataY),dtype=bool)\n",
    "    for i,dato in enumerate(dataY):\n",
    "        if np.any(np.isnan(dato)): #uno en sequencia---algun nulo\n",
    "            mask_delete[i] = False #eliminar de training\n",
    "        \n",
    "    aux = [ np.concatenate(datito) for datito in dataX] #junta los lag..\n",
    "    #pad\n",
    "    mask = np.full(len(rows_to_use) , np.nan)\n",
    "    dataX = pad_sequences(aux, maxlen=lag*horas, dtype='float32', padding='pre', value=mask) #rellena \n",
    "    dataY = pad_sequences(dataY, maxlen=horas, dtype='object', padding='post', value=np.nan) #rellena \n",
    "    return np.array(dataX)[mask_delete],np.array(dataY)[mask_delete]"
   ]
  },
  {
   "cell_type": "code",
   "execution_count": 9,
   "metadata": {
    "collapsed": false
   },
   "outputs": [
    {
     "name": "stdout",
     "output_type": "stream",
     "text": [
      "All arrays shapes Condes\n",
      "Train verano (input):  (993, 48, 15)\n",
      "Train invierno (input):  (1004, 48, 15)\n",
      "Train verano (output):  (993, 24)\n",
      "Train invierno (output):  (1004, 24)\n",
      "All arrays shapes INDEPENDENCIA\n",
      "Train verano (input):  (998, 48, 15)\n",
      "Train invierno (input):  (979, 48, 15)\n",
      "Train verano (output):  (998, 24)\n",
      "Train invierno (output):  (979, 24)\n"
     ]
    }
   ],
   "source": [
    "lag = 2\n",
    "trainX1_cond, trainY1_cond = create_sequences(df_condes_verano, lag)\n",
    "trainX2_cond, trainY2_cond = create_sequences(df_condes_invierno, lag)\n",
    "\n",
    "trainX1_inv, trainY1_inv = create_sequences(df_independencia_verano, lag)\n",
    "trainX2_inv, trainY2_inv = create_sequences(df_independencia_invierno, lag)\n",
    "\n",
    "#testX1_cond, testY1_cond = create_sequences(df_condes_verano_test, lag,dia)\n",
    "#testX2_cond, testY2_cond = create_sequences(df_condes_invierno_test, lag,dia)\n",
    "\n",
    "print(\"All arrays shapes Condes\")\n",
    "print(\"Train verano (input): \",trainX1_cond.shape)\n",
    "print(\"Train invierno (input): \",trainX2_cond.shape)\n",
    "print(\"Train verano (output): \",trainY1_cond.shape)\n",
    "print(\"Train invierno (output): \",trainY2_cond.shape)\n",
    "\n",
    "print(\"All arrays shapes INDEPENDENCIA\")\n",
    "print(\"Train verano (input): \",trainX1_inv.shape)\n",
    "print(\"Train invierno (input): \",trainX2_inv.shape)\n",
    "print(\"Train verano (output): \",trainY1_inv.shape)\n",
    "print(\"Train invierno (output): \",trainY2_inv.shape)"
   ]
  },
  {
   "cell_type": "code",
   "execution_count": 10,
   "metadata": {
    "collapsed": false
   },
   "outputs": [
    {
     "name": "stdout",
     "output_type": "stream",
     "text": [
      "Verano independencia:  (998, 48, 40, 50, 15)\n",
      "Verano Las Condes:  (993, 48, 40, 50, 15)\n"
     ]
    }
   ],
   "source": [
    "#data creation...\n",
    "\n",
    "def seq_2_matrix(seq,c1,c2):\n",
    "    result = []\n",
    "    for timesteps in seq:\n",
    "        aux_timesteps = []\n",
    "        for timestep in timesteps:\n",
    "            aux_compounds = []\n",
    "            for comp in timestep:\n",
    "                a = np.zeros((W,H))\n",
    "                if np.isnan(comp):\n",
    "                    #algo\n",
    "                    a[:] = MASK_VALUE #for now\n",
    "                else:\n",
    "                    a[c1,c2] = comp\n",
    "                aux_compounds.append(a)\n",
    "            aux_timesteps.append(aux_compounds)\n",
    "        result.append(aux_timesteps)\n",
    "    gc.collect()\n",
    "    return np.asarray(result).transpose(0,1,3,4,2).astype('float32')\n",
    "\n",
    "data_ind = seq_2_matrix(trainX1_inv, IND_i, IND_j) #verano\n",
    "data_cond = seq_2_matrix(trainX1_cond, LC_i, LC_j) #verano\n",
    "\n",
    "print(\"Verano independencia: \",data_ind.shape)\n",
    "print(\"Verano Las Condes: \",data_cond.shape)"
   ]
  },
  {
   "cell_type": "code",
   "execution_count": null,
   "metadata": {
    "collapsed": true
   },
   "outputs": [],
   "source": []
  },
  {
   "cell_type": "code",
   "execution_count": null,
   "metadata": {
    "collapsed": true
   },
   "outputs": [],
   "source": []
  },
  {
   "cell_type": "code",
   "execution_count": 8,
   "metadata": {
    "collapsed": false,
    "scrolled": true
   },
   "outputs": [],
   "source": [
    "from scipy.stats import multivariate_normal\n",
    "from scipy.signal import convolve2d\n",
    "\n",
    "def makeGaussian(size1,size2, sigma1 = 3,sigma2=3):\n",
    "    \"\"\" Make a square gaussian kernel \"\"\"\n",
    "    mu = np.asarray([size1//2,size2//2]) # [x0, y0]\n",
    "    cov = np.asarray([sigma1,sigma2])\n",
    "\n",
    "    normal_distrib = multivariate_normal(mu,cov)\n",
    "    normal_factor = 1/normal_distrib.pdf(mu)\n",
    "    \n",
    "    result = np.zeros((size1,size2))\n",
    "    for i in range(size1):\n",
    "        for j in range(size2):\n",
    "            result[i,j] = normal_distrib.pdf([i,j])#*normal_factor\n",
    "    return result, normal_factor\n",
    "\n",
    "psf_norm, normal_factor = makeGaussian(W,H,W,H)\n",
    "psf_unnorm = psf_norm*normal_factor"
   ]
  },
  {
   "cell_type": "code",
   "execution_count": 27,
   "metadata": {
    "collapsed": false,
    "scrolled": true
   },
   "outputs": [
    {
     "data": {
      "image/png": "[encoded data removed]",
      "text/plain": [
       "<matplotlib.figure.Figure at 0x2ab1750fecf8>"
      ]
     },
     "metadata": {},
     "output_type": "display_data"
    },
    {
     "data": {
      "image/png": "[encoded data removed]",
      "text/plain": [
       "<matplotlib.figure.Figure at 0x2ab17507f470>"
      ]
     },
     "metadata": {},
     "output_type": "display_data"
    },
    {
     "data": {
      "image/png": "[encoded data removed]",
      "text/plain": [
       "<matplotlib.figure.Figure at 0x2ab174e07f60>"
      ]
     },
     "metadata": {},
     "output_type": "display_data"
    },
    {
     "data": {
      "image/png": "[encoded data removed]",
      "text/plain": [
       "<matplotlib.figure.Figure at 0x2ab1751e99e8>"
      ]
     },
     "metadata": {},
     "output_type": "display_data"
    },
    {
     "data": {
      "text/plain": [
       "49.793590662466798"
      ]
     },
     "execution_count": 27,
     "metadata": {},
     "output_type": "execute_result"
    }
   ],
   "source": [
    "plt.imshow(psf_unnorm)\n",
    "plt.colorbar()\n",
    "plt.title(\"PSF (Point Spread Function)\")\n",
    "plt.show()\n",
    "\n",
    "a = np.zeros(psf.shape)\n",
    "i = np.random.randint(0,a.shape[0])\n",
    "j = np.random.randint(0,a.shape[1])\n",
    "a[i,j] = 50 #measurement\n",
    "plt.imshow(a)\n",
    "plt.title(\"Example data\")\n",
    "plt.colorbar()\n",
    "plt.show()\n",
    "\n",
    "operat = convolve2d(a, psf_unnorm, mode='same', boundary='fill', fillvalue=0)\n",
    "plt.imshow(operat)\n",
    "plt.title(\"Convolve result\")\n",
    "plt.colorbar()\n",
    "plt.show()\n",
    "\n",
    "operat = convolve2d(a, psf_norm, mode='same', boundary='fill', fillvalue=0)\n",
    "plt.imshow(operat)\n",
    "plt.title(\"Convolve result normalized\")\n",
    "plt.colorbar()\n",
    "plt.show()\n",
    "np.sum(operat)"
   ]
  },
  {
   "cell_type": "code",
   "execution_count": null,
   "metadata": {
    "collapsed": true
   },
   "outputs": [],
   "source": []
  },
  {
   "cell_type": "code",
   "execution_count": null,
   "metadata": {
    "collapsed": true
   },
   "outputs": [],
   "source": []
  },
  {
   "cell_type": "code",
   "execution_count": 13,
   "metadata": {
    "collapsed": false,
    "scrolled": true
   },
   "outputs": [],
   "source": [
    "def convolve_cube(cube,PSF):\n",
    "    new_timestep_data = np.zeros(cube.shape)\n",
    "    for t in range(new_timestep_data.shape[0]):\n",
    "        if t%10000==0:\n",
    "            print(\"Va en : \",t)\n",
    "        for c in range(new_timestep_data.shape[-1]):\n",
    "            if np.sum(np.isnan(cube[t,:,:,c])) > 0: #any nan\n",
    "                new_timestep_data[t,:,:,c] = cube[t,:,:,c] #leave nans\n",
    "            else:\n",
    "                new_timestep_data[t,:,:,c] = convolve2d(cube[t,:,:,c], PSF, mode='same', boundary='fill', fillvalue=0)\n",
    "    return new_timestep_data"
   ]
  },
  {
   "cell_type": "code",
   "execution_count": 18,
   "metadata": {
    "collapsed": true
   },
   "outputs": [],
   "source": [
    "np.save('targetY_verano_Independencia.npy',trainY1_inv)\n",
    "np.save('targetY_verano_LasCondes.npy',trainY1_cond)"
   ]
  },
  {
   "cell_type": "code",
   "execution_count": 14,
   "metadata": {
    "collapsed": false
   },
   "outputs": [
    {
     "name": "stdout",
     "output_type": "stream",
     "text": [
      "Va en :  0\n",
      "Va en :  10000\n"
     ]
    },
    {
     "ename": "KeyboardInterrupt",
     "evalue": "",
     "output_type": "error",
     "traceback": [
      "\u001b[0;31m---------------------------------------------------------------------------\u001b[0m",
      "\u001b[0;31mKeyboardInterrupt\u001b[0m                         Traceback (most recent call last)",
      "\u001b[0;32m<ipython-input-14-9fa15264879e>\u001b[0m in \u001b[0;36m<module>\u001b[0;34m()\u001b[0m\n\u001b[0;32m----> 1\u001b[0;31m \u001b[0mnew_cube_data1\u001b[0m \u001b[0;34m=\u001b[0m \u001b[0mconvolve_cube\u001b[0m\u001b[0;34m(\u001b[0m\u001b[0mdata_ind\u001b[0m\u001b[0;34m,\u001b[0m\u001b[0mpsf_norm\u001b[0m\u001b[0;34m)\u001b[0m\u001b[0;34m\u001b[0m\u001b[0m\n\u001b[0m\u001b[1;32m      2\u001b[0m \u001b[0mnp\u001b[0m\u001b[0;34m.\u001b[0m\u001b[0msave\u001b[0m\u001b[0;34m(\u001b[0m\u001b[0;34m'matrix_data_Independencia_norm.npy'\u001b[0m\u001b[0;34m,\u001b[0m\u001b[0mnew_cube_data1\u001b[0m\u001b[0;34m)\u001b[0m\u001b[0;34m\u001b[0m\u001b[0m\n\u001b[1;32m      3\u001b[0m \u001b[0mnew_cube_data2\u001b[0m \u001b[0;34m=\u001b[0m \u001b[0mconvolve_cube\u001b[0m\u001b[0;34m(\u001b[0m\u001b[0mdata_cond\u001b[0m\u001b[0;34m,\u001b[0m\u001b[0mpsf_norm\u001b[0m\u001b[0;34m)\u001b[0m\u001b[0;34m\u001b[0m\u001b[0m\n\u001b[1;32m      4\u001b[0m \u001b[0mnp\u001b[0m\u001b[0;34m.\u001b[0m\u001b[0msave\u001b[0m\u001b[0;34m(\u001b[0m\u001b[0;34m'matrix_data_LasCondes_norm.npy'\u001b[0m\u001b[0;34m,\u001b[0m\u001b[0mnew_cube_data2\u001b[0m\u001b[0;34m)\u001b[0m\u001b[0;34m\u001b[0m\u001b[0m\n\u001b[1;32m      5\u001b[0m \u001b[0;34m\u001b[0m\u001b[0m\n",
      "\u001b[0;32m<ipython-input-13-e9ac189f46a3>\u001b[0m in \u001b[0;36mconvolve_cube\u001b[0;34m(cube, PSF)\u001b[0m\n\u001b[1;32m      8\u001b[0m                 \u001b[0mnew_timestep_data\u001b[0m\u001b[0;34m[\u001b[0m\u001b[0mt\u001b[0m\u001b[0;34m,\u001b[0m\u001b[0;34m:\u001b[0m\u001b[0;34m,\u001b[0m\u001b[0;34m:\u001b[0m\u001b[0;34m,\u001b[0m\u001b[0mc\u001b[0m\u001b[0;34m]\u001b[0m \u001b[0;34m=\u001b[0m \u001b[0mcube\u001b[0m\u001b[0;34m[\u001b[0m\u001b[0mt\u001b[0m\u001b[0;34m,\u001b[0m\u001b[0;34m:\u001b[0m\u001b[0;34m,\u001b[0m\u001b[0;34m:\u001b[0m\u001b[0;34m,\u001b[0m\u001b[0mc\u001b[0m\u001b[0;34m]\u001b[0m \u001b[0;31m#leave nans\u001b[0m\u001b[0;34m\u001b[0m\u001b[0m\n\u001b[1;32m      9\u001b[0m             \u001b[0;32melse\u001b[0m\u001b[0;34m:\u001b[0m\u001b[0;34m\u001b[0m\u001b[0m\n\u001b[0;32m---> 10\u001b[0;31m                 \u001b[0mnew_timestep_data\u001b[0m\u001b[0;34m[\u001b[0m\u001b[0mt\u001b[0m\u001b[0;34m,\u001b[0m\u001b[0;34m:\u001b[0m\u001b[0;34m,\u001b[0m\u001b[0;34m:\u001b[0m\u001b[0;34m,\u001b[0m\u001b[0mc\u001b[0m\u001b[0;34m]\u001b[0m \u001b[0;34m=\u001b[0m \u001b[0mconvolve2d\u001b[0m\u001b[0;34m(\u001b[0m\u001b[0mcube\u001b[0m\u001b[0;34m[\u001b[0m\u001b[0mt\u001b[0m\u001b[0;34m,\u001b[0m\u001b[0;34m:\u001b[0m\u001b[0;34m,\u001b[0m\u001b[0;34m:\u001b[0m\u001b[0;34m,\u001b[0m\u001b[0mc\u001b[0m\u001b[0;34m]\u001b[0m\u001b[0;34m,\u001b[0m \u001b[0mPSF\u001b[0m\u001b[0;34m,\u001b[0m \u001b[0mmode\u001b[0m\u001b[0;34m=\u001b[0m\u001b[0;34m'same'\u001b[0m\u001b[0;34m,\u001b[0m \u001b[0mboundary\u001b[0m\u001b[0;34m=\u001b[0m\u001b[0;34m'fill'\u001b[0m\u001b[0;34m,\u001b[0m \u001b[0mfillvalue\u001b[0m\u001b[0;34m=\u001b[0m\u001b[0;36m0\u001b[0m\u001b[0;34m)\u001b[0m\u001b[0;34m\u001b[0m\u001b[0m\n\u001b[0m\u001b[1;32m     11\u001b[0m     \u001b[0;32mreturn\u001b[0m \u001b[0mnew_timestep_data\u001b[0m\u001b[0;34m\u001b[0m\u001b[0m\n",
      "\u001b[0;32m/users/fmena/anaconda3/lib/python3.6/site-packages/scipy/signal/signaltools.py\u001b[0m in \u001b[0;36mconvolve2d\u001b[0;34m(in1, in2, mode, boundary, fillvalue)\u001b[0m\n\u001b[1;32m   1056\u001b[0m     \u001b[0mval\u001b[0m \u001b[0;34m=\u001b[0m \u001b[0m_valfrommode\u001b[0m\u001b[0;34m(\u001b[0m\u001b[0mmode\u001b[0m\u001b[0;34m)\u001b[0m\u001b[0;34m\u001b[0m\u001b[0m\n\u001b[1;32m   1057\u001b[0m     \u001b[0mbval\u001b[0m \u001b[0;34m=\u001b[0m \u001b[0m_bvalfromboundary\u001b[0m\u001b[0;34m(\u001b[0m\u001b[0mboundary\u001b[0m\u001b[0;34m)\u001b[0m\u001b[0;34m\u001b[0m\u001b[0m\n\u001b[0;32m-> 1058\u001b[0;31m     \u001b[0mout\u001b[0m \u001b[0;34m=\u001b[0m \u001b[0msigtools\u001b[0m\u001b[0;34m.\u001b[0m\u001b[0m_convolve2d\u001b[0m\u001b[0;34m(\u001b[0m\u001b[0min1\u001b[0m\u001b[0;34m,\u001b[0m \u001b[0min2\u001b[0m\u001b[0;34m,\u001b[0m \u001b[0;36m1\u001b[0m\u001b[0;34m,\u001b[0m \u001b[0mval\u001b[0m\u001b[0;34m,\u001b[0m \u001b[0mbval\u001b[0m\u001b[0;34m,\u001b[0m \u001b[0mfillvalue\u001b[0m\u001b[0;34m)\u001b[0m\u001b[0;34m\u001b[0m\u001b[0m\n\u001b[0m\u001b[1;32m   1059\u001b[0m     \u001b[0;32mreturn\u001b[0m \u001b[0mout\u001b[0m\u001b[0;34m\u001b[0m\u001b[0m\n\u001b[1;32m   1060\u001b[0m \u001b[0;34m\u001b[0m\u001b[0m\n",
      "\u001b[0;31mKeyboardInterrupt\u001b[0m: "
     ]
    }
   ],
   "source": [
    "new_cube_data1 = convolve_cube(data_ind,psf_norm)\n",
    "np.save('inputX_verano_Independencia_norm.npy',new_cube_data1)\n",
    "new_cube_data2 = convolve_cube(data_cond,psf_norm)\n",
    "np.save('inputX_verano_LasCondes_norm.npy',new_cube_data2)\n",
    "\n",
    "new_cube_data1.shape"
   ]
  },
  {
   "cell_type": "code",
   "execution_count": null,
   "metadata": {
    "collapsed": true
   },
   "outputs": [],
   "source": [
    "#when data cubes are create create timestep data.. with index (Efficient)"
   ]
  },
  {
   "cell_type": "code",
   "execution_count": null,
   "metadata": {
    "collapsed": true
   },
   "outputs": [],
   "source": []
  },
  {
   "cell_type": "code",
   "execution_count": 36,
   "metadata": {
    "collapsed": false
   },
   "outputs": [
    {
     "name": "stdout",
     "output_type": "stream",
     "text": [
      "(data, timesteps, width, heigh, channels): (5, 8, 40, 35, 10)\n"
     ]
    }
   ],
   "source": [
    "N = 5 #data\n",
    "T = 8 #timesteps (hours)\n",
    "Ch = 10 #channels of the cube (number of compound)\n",
    "input_data = np.zeros((N,T,W,H,Ch))\n",
    "print(\"(data, timesteps, width, heigh, channels):\",input_data.shape)"
   ]
  }
 ],
 "metadata": {
  "kernelspec": {
   "display_name": "Python 3",
   "language": "python",
   "name": "python3"
  },
  "language_info": {
   "codemirror_mode": {
    "name": "ipython",
    "version": 3
   },
   "file_extension": ".py",
   "mimetype": "text/x-python",
   "name": "python",
   "nbconvert_exporter": "python",
   "pygments_lexer": "ipython3",
   "version": "3.6.0"
  }
 },
 "nbformat": 4,
 "nbformat_minor": 2
}
