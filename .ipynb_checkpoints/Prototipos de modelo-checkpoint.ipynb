{
 "cells": [
  {
   "cell_type": "code",
   "execution_count": 28,
   "metadata": {},
   "outputs": [],
   "source": [
    "import keras\n",
    "from keras.layers import *\n",
    "from keras.models import Model, Sequential\n",
    "import numpy as np\n",
    "import matplotlib.pyplot as plt\n",
    "\n",
    "from IPython.display import SVG\n",
    "from keras.utils.vis_utils import model_to_dot"
   ]
  },
  {
   "cell_type": "code",
   "execution_count": 3,
   "metadata": {},
   "outputs": [],
   "source": [
    "N = 5\n",
    "T = 5 #timestepts\n",
    "W = H = 40 #dimensiones de la imagen\n",
    "C = 3 #canales de la imagen\n",
    "data_t = np.random.rand(N,T,W,H,C)"
   ]
  },
  {
   "cell_type": "code",
   "execution_count": null,
   "metadata": {},
   "outputs": [],
   "source": [
    "## recurrentes si tiemstep es largo?"
   ]
  },
  {
   "cell_type": "markdown",
   "metadata": {},
   "source": [
    "1. Redes recurrentes con convoluciones 2D en sus operaciones\n",
    ">> RCNN (RNN with Convolutional inside)"
   ]
  },
  {
   "cell_type": "code",
   "execution_count": 29,
   "metadata": {},
   "outputs": [
    {
     "name": "stdout",
     "output_type": "stream",
     "text": [
      "_________________________________________________________________\n",
      "Layer (type)                 Output Shape              Param #   \n",
      "=================================================================\n",
      "input_18 (InputLayer)        (None, 5, 40, 40, 3)      0         \n",
      "_________________________________________________________________\n",
      "conv_lst_m2d_15 (ConvLSTM2D) (None, 5, 40, 40, 32)     40448     \n",
      "_________________________________________________________________\n",
      "conv_lst_m2d_16 (ConvLSTM2D) (None, 20, 20, 32)        73856     \n",
      "_________________________________________________________________\n",
      "flatten_8 (Flatten)          (None, 12800)             0         \n",
      "_________________________________________________________________\n",
      "dense_26 (Dense)             (None, 512)               6554112   \n",
      "_________________________________________________________________\n",
      "dense_27 (Dense)             (None, 256)               131328    \n",
      "_________________________________________________________________\n",
      "dense_28 (Dense)             (None, 1)                 257       \n",
      "=================================================================\n",
      "Total params: 6,800,001\n",
      "Trainable params: 6,800,001\n",
      "Non-trainable params: 0\n",
      "_________________________________________________________________\n"
     ]
    }
   ],
   "source": [
    "i1 = Input(shape=(T,W,H,C))#four dimensional array (3 without the channels of the image) \n",
    "#extraer caracteristicas\n",
    "\n",
    "f1 = ConvLSTM2D(32, (3,3), strides=(1,1), padding='same',return_sequences=True)(i1)\n",
    "#pooling?\n",
    "f1 = ConvLSTM2D(32, (3,3), strides=(2,2), padding='same',return_sequences=False)(f1)\n",
    "\n",
    "#mas convolcuion aca?\n",
    "#Conv2D()\n",
    "\n",
    "#flatten\n",
    "fla = Flatten()(f1)\n",
    "\n",
    "#dense\n",
    "f3 = Dense(512,activation='relu')(fla)\n",
    "f3 = Dense(256,activation='relu')(f3)\n",
    "\n",
    "#clasificacion\n",
    "f4 = Dense(1,activation='linear')(f3)\n",
    "\n",
    "arquitectura = Model(i1,f4)\n",
    "arquitectura.summary()"
   ]
  },
  {
   "cell_type": "code",
   "execution_count": 30,
   "metadata": {},
   "outputs": [
    {
     "data": {
      "image/svg+xml": [
       "<svg height=\"483pt\" viewBox=\"0.00 0.00 212.00 483.00\" width=\"212pt\" xmlns=\"http://www.w3.org/2000/svg\" xmlns:xlink=\"http://www.w3.org/1999/xlink\">\n",
       "<g class=\"graph\" id=\"graph0\" transform=\"scale(1 1) rotate(0) translate(4 479)\">\n",
       "<title>G</title>\n",
       "<polygon fill=\"#ffffff\" points=\"-4,4 -4,-479 208,-479 208,4 -4,4\" stroke=\"transparent\"/>\n",
       "<!-- 140319635426384 -->\n",
       "<g class=\"node\" id=\"node1\">\n",
       "<title>140319635426384</title>\n",
       "<polygon fill=\"none\" points=\"36,-438.5 36,-474.5 168,-474.5 168,-438.5 36,-438.5\" stroke=\"#000000\"/>\n",
       "<text fill=\"#000000\" font-family=\"Times,serif\" font-size=\"14.00\" text-anchor=\"middle\" x=\"102\" y=\"-452.8\">input_18: InputLayer</text>\n",
       "</g>\n",
       "<!-- 140319635426320 -->\n",
       "<g class=\"node\" id=\"node2\">\n",
       "<title>140319635426320</title>\n",
       "<polygon fill=\"none\" points=\"0,-365.5 0,-401.5 204,-401.5 204,-365.5 0,-365.5\" stroke=\"#000000\"/>\n",
       "<text fill=\"#000000\" font-family=\"Times,serif\" font-size=\"14.00\" text-anchor=\"middle\" x=\"102\" y=\"-379.8\">conv_lst_m2d_15: ConvLSTM2D</text>\n",
       "</g>\n",
       "<!-- 140319635426384&#45;&gt;140319635426320 -->\n",
       "<g class=\"edge\" id=\"edge1\">\n",
       "<title>140319635426384-&gt;140319635426320</title>\n",
       "<path d=\"M102,-438.4551C102,-430.3828 102,-420.6764 102,-411.6817\" fill=\"none\" stroke=\"#000000\"/>\n",
       "<polygon fill=\"#000000\" points=\"105.5001,-411.5903 102,-401.5904 98.5001,-411.5904 105.5001,-411.5903\" stroke=\"#000000\"/>\n",
       "</g>\n",
       "<!-- 140319635426576 -->\n",
       "<g class=\"node\" id=\"node3\">\n",
       "<title>140319635426576</title>\n",
       "<polygon fill=\"none\" points=\"0,-292.5 0,-328.5 204,-328.5 204,-292.5 0,-292.5\" stroke=\"#000000\"/>\n",
       "<text fill=\"#000000\" font-family=\"Times,serif\" font-size=\"14.00\" text-anchor=\"middle\" x=\"102\" y=\"-306.8\">conv_lst_m2d_16: ConvLSTM2D</text>\n",
       "</g>\n",
       "<!-- 140319635426320&#45;&gt;140319635426576 -->\n",
       "<g class=\"edge\" id=\"edge2\">\n",
       "<title>140319635426320-&gt;140319635426576</title>\n",
       "<path d=\"M102,-365.4551C102,-357.3828 102,-347.6764 102,-338.6817\" fill=\"none\" stroke=\"#000000\"/>\n",
       "<polygon fill=\"#000000\" points=\"105.5001,-338.5903 102,-328.5904 98.5001,-338.5904 105.5001,-338.5903\" stroke=\"#000000\"/>\n",
       "</g>\n",
       "<!-- 140319640114256 -->\n",
       "<g class=\"node\" id=\"node4\">\n",
       "<title>140319640114256</title>\n",
       "<polygon fill=\"none\" points=\"47,-219.5 47,-255.5 157,-255.5 157,-219.5 47,-219.5\" stroke=\"#000000\"/>\n",
       "<text fill=\"#000000\" font-family=\"Times,serif\" font-size=\"14.00\" text-anchor=\"middle\" x=\"102\" y=\"-233.8\">flatten_8: Flatten</text>\n",
       "</g>\n",
       "<!-- 140319635426576&#45;&gt;140319640114256 -->\n",
       "<g class=\"edge\" id=\"edge3\">\n",
       "<title>140319635426576-&gt;140319640114256</title>\n",
       "<path d=\"M102,-292.4551C102,-284.3828 102,-274.6764 102,-265.6817\" fill=\"none\" stroke=\"#000000\"/>\n",
       "<polygon fill=\"#000000\" points=\"105.5001,-265.5903 102,-255.5904 98.5001,-265.5904 105.5001,-265.5903\" stroke=\"#000000\"/>\n",
       "</g>\n",
       "<!-- 140319722913936 -->\n",
       "<g class=\"node\" id=\"node5\">\n",
       "<title>140319722913936</title>\n",
       "<polygon fill=\"none\" points=\"47.5,-146.5 47.5,-182.5 156.5,-182.5 156.5,-146.5 47.5,-146.5\" stroke=\"#000000\"/>\n",
       "<text fill=\"#000000\" font-family=\"Times,serif\" font-size=\"14.00\" text-anchor=\"middle\" x=\"102\" y=\"-160.8\">dense_26: Dense</text>\n",
       "</g>\n",
       "<!-- 140319640114256&#45;&gt;140319722913936 -->\n",
       "<g class=\"edge\" id=\"edge4\">\n",
       "<title>140319640114256-&gt;140319722913936</title>\n",
       "<path d=\"M102,-219.4551C102,-211.3828 102,-201.6764 102,-192.6817\" fill=\"none\" stroke=\"#000000\"/>\n",
       "<polygon fill=\"#000000\" points=\"105.5001,-192.5903 102,-182.5904 98.5001,-192.5904 105.5001,-192.5903\" stroke=\"#000000\"/>\n",
       "</g>\n",
       "<!-- 140319633427600 -->\n",
       "<g class=\"node\" id=\"node6\">\n",
       "<title>140319633427600</title>\n",
       "<polygon fill=\"none\" points=\"47.5,-73.5 47.5,-109.5 156.5,-109.5 156.5,-73.5 47.5,-73.5\" stroke=\"#000000\"/>\n",
       "<text fill=\"#000000\" font-family=\"Times,serif\" font-size=\"14.00\" text-anchor=\"middle\" x=\"102\" y=\"-87.8\">dense_27: Dense</text>\n",
       "</g>\n",
       "<!-- 140319722913936&#45;&gt;140319633427600 -->\n",
       "<g class=\"edge\" id=\"edge5\">\n",
       "<title>140319722913936-&gt;140319633427600</title>\n",
       "<path d=\"M102,-146.4551C102,-138.3828 102,-128.6764 102,-119.6817\" fill=\"none\" stroke=\"#000000\"/>\n",
       "<polygon fill=\"#000000\" points=\"105.5001,-119.5903 102,-109.5904 98.5001,-119.5904 105.5001,-119.5903\" stroke=\"#000000\"/>\n",
       "</g>\n",
       "<!-- 140319630383568 -->\n",
       "<g class=\"node\" id=\"node7\">\n",
       "<title>140319630383568</title>\n",
       "<polygon fill=\"none\" points=\"47.5,-.5 47.5,-36.5 156.5,-36.5 156.5,-.5 47.5,-.5\" stroke=\"#000000\"/>\n",
       "<text fill=\"#000000\" font-family=\"Times,serif\" font-size=\"14.00\" text-anchor=\"middle\" x=\"102\" y=\"-14.8\">dense_28: Dense</text>\n",
       "</g>\n",
       "<!-- 140319633427600&#45;&gt;140319630383568 -->\n",
       "<g class=\"edge\" id=\"edge6\">\n",
       "<title>140319633427600-&gt;140319630383568</title>\n",
       "<path d=\"M102,-73.4551C102,-65.3828 102,-55.6764 102,-46.6817\" fill=\"none\" stroke=\"#000000\"/>\n",
       "<polygon fill=\"#000000\" points=\"105.5001,-46.5903 102,-36.5904 98.5001,-46.5904 105.5001,-46.5903\" stroke=\"#000000\"/>\n",
       "</g>\n",
       "</g>\n",
       "</svg>"
      ],
      "text/plain": [
       "<IPython.core.display.SVG object>"
      ]
     },
     "execution_count": 30,
     "metadata": {},
     "output_type": "execute_result"
    }
   ],
   "source": [
    "SVG(model_to_dot(arquitectura).create(prog='dot', format='svg'))"
   ]
  },
  {
   "cell_type": "markdown",
   "metadata": {},
   "source": [
    "2. Redes convolucionales 3D para entrega la salida final.\n",
    ">> 3D-CNN (CNN with 3D kernel -> to end)"
   ]
  },
  {
   "cell_type": "code",
   "execution_count": 31,
   "metadata": {},
   "outputs": [
    {
     "name": "stdout",
     "output_type": "stream",
     "text": [
      "_________________________________________________________________\n",
      "Layer (type)                 Output Shape              Param #   \n",
      "=================================================================\n",
      "input_19 (InputLayer)        (None, 5, 40, 40, 3)      0         \n",
      "_________________________________________________________________\n",
      "conv3d_3 (Conv3D)            (None, 5, 40, 40, 32)     2624      \n",
      "_________________________________________________________________\n",
      "max_pooling3d_4 (MaxPooling3 (None, 2, 20, 20, 32)     0         \n",
      "_________________________________________________________________\n",
      "flatten_9 (Flatten)          (None, 25600)             0         \n",
      "_________________________________________________________________\n",
      "dense_29 (Dense)             (None, 512)               13107712  \n",
      "_________________________________________________________________\n",
      "dense_30 (Dense)             (None, 256)               131328    \n",
      "_________________________________________________________________\n",
      "dense_31 (Dense)             (None, 1)                 257       \n",
      "=================================================================\n",
      "Total params: 13,241,921\n",
      "Trainable params: 13,241,921\n",
      "Non-trainable params: 0\n",
      "_________________________________________________________________\n"
     ]
    }
   ],
   "source": [
    "i1 = Input(shape=(T,W,H,C))#four dimensional array (3 without the channels of the image) \n",
    "#extraer caracteristicas\n",
    "kernel_size = (3,3,3) # tercera es el largo temporal\n",
    "f1 = Conv3D(32,kernel_size, strides=(1, 1, 1), padding='same', data_format=None, activation=None)(i1)\n",
    "f1 = MaxPool3D((2,2,2))(f1)\n",
    "\n",
    "#mas conv3D?\n",
    "\n",
    "#flatten\n",
    "fla = Flatten()(f1)\n",
    "\n",
    "#dense\n",
    "f3 = Dense(512,activation='relu')(fla)\n",
    "f3 = Dense(256,activation='relu')(f3)\n",
    "\n",
    "#clasificacion\n",
    "f4 = Dense(1,activation='linear')(f3)\n",
    "\n",
    "arquitectura = Model(i1,f4)\n",
    "arquitectura.summary()"
   ]
  },
  {
   "cell_type": "code",
   "execution_count": 32,
   "metadata": {},
   "outputs": [
    {
     "data": {
      "image/svg+xml": [
       "<svg height=\"483pt\" viewBox=\"0.00 0.00 215.00 483.00\" width=\"215pt\" xmlns=\"http://www.w3.org/2000/svg\" xmlns:xlink=\"http://www.w3.org/1999/xlink\">\n",
       "<g class=\"graph\" id=\"graph0\" transform=\"scale(1 1) rotate(0) translate(4 479)\">\n",
       "<title>G</title>\n",
       "<polygon fill=\"#ffffff\" points=\"-4,4 -4,-479 211,-479 211,4 -4,4\" stroke=\"transparent\"/>\n",
       "<!-- 140319627082576 -->\n",
       "<g class=\"node\" id=\"node1\">\n",
       "<title>140319627082576</title>\n",
       "<polygon fill=\"none\" points=\"37.5,-438.5 37.5,-474.5 169.5,-474.5 169.5,-438.5 37.5,-438.5\" stroke=\"#000000\"/>\n",
       "<text fill=\"#000000\" font-family=\"Times,serif\" font-size=\"14.00\" text-anchor=\"middle\" x=\"103.5\" y=\"-452.8\">input_19: InputLayer</text>\n",
       "</g>\n",
       "<!-- 140319627082768 -->\n",
       "<g class=\"node\" id=\"node2\">\n",
       "<title>140319627082768</title>\n",
       "<polygon fill=\"none\" points=\"42,-365.5 42,-401.5 165,-401.5 165,-365.5 42,-365.5\" stroke=\"#000000\"/>\n",
       "<text fill=\"#000000\" font-family=\"Times,serif\" font-size=\"14.00\" text-anchor=\"middle\" x=\"103.5\" y=\"-379.8\">conv3d_3: Conv3D</text>\n",
       "</g>\n",
       "<!-- 140319627082576&#45;&gt;140319627082768 -->\n",
       "<g class=\"edge\" id=\"edge1\">\n",
       "<title>140319627082576-&gt;140319627082768</title>\n",
       "<path d=\"M103.5,-438.4551C103.5,-430.3828 103.5,-420.6764 103.5,-411.6817\" fill=\"none\" stroke=\"#000000\"/>\n",
       "<polygon fill=\"#000000\" points=\"107.0001,-411.5903 103.5,-401.5904 100.0001,-411.5904 107.0001,-411.5903\" stroke=\"#000000\"/>\n",
       "</g>\n",
       "<!-- 140319627083216 -->\n",
       "<g class=\"node\" id=\"node3\">\n",
       "<title>140319627083216</title>\n",
       "<polygon fill=\"none\" points=\"0,-292.5 0,-328.5 207,-328.5 207,-292.5 0,-292.5\" stroke=\"#000000\"/>\n",
       "<text fill=\"#000000\" font-family=\"Times,serif\" font-size=\"14.00\" text-anchor=\"middle\" x=\"103.5\" y=\"-306.8\">max_pooling3d_4: MaxPooling3D</text>\n",
       "</g>\n",
       "<!-- 140319627082768&#45;&gt;140319627083216 -->\n",
       "<g class=\"edge\" id=\"edge2\">\n",
       "<title>140319627082768-&gt;140319627083216</title>\n",
       "<path d=\"M103.5,-365.4551C103.5,-357.3828 103.5,-347.6764 103.5,-338.6817\" fill=\"none\" stroke=\"#000000\"/>\n",
       "<polygon fill=\"#000000\" points=\"107.0001,-338.5903 103.5,-328.5904 100.0001,-338.5904 107.0001,-338.5903\" stroke=\"#000000\"/>\n",
       "</g>\n",
       "<!-- 140319627082512 -->\n",
       "<g class=\"node\" id=\"node4\">\n",
       "<title>140319627082512</title>\n",
       "<polygon fill=\"none\" points=\"48.5,-219.5 48.5,-255.5 158.5,-255.5 158.5,-219.5 48.5,-219.5\" stroke=\"#000000\"/>\n",
       "<text fill=\"#000000\" font-family=\"Times,serif\" font-size=\"14.00\" text-anchor=\"middle\" x=\"103.5\" y=\"-233.8\">flatten_9: Flatten</text>\n",
       "</g>\n",
       "<!-- 140319627083216&#45;&gt;140319627082512 -->\n",
       "<g class=\"edge\" id=\"edge3\">\n",
       "<title>140319627083216-&gt;140319627082512</title>\n",
       "<path d=\"M103.5,-292.4551C103.5,-284.3828 103.5,-274.6764 103.5,-265.6817\" fill=\"none\" stroke=\"#000000\"/>\n",
       "<polygon fill=\"#000000\" points=\"107.0001,-265.5903 103.5,-255.5904 100.0001,-265.5904 107.0001,-265.5903\" stroke=\"#000000\"/>\n",
       "</g>\n",
       "<!-- 140319627083344 -->\n",
       "<g class=\"node\" id=\"node5\">\n",
       "<title>140319627083344</title>\n",
       "<polygon fill=\"none\" points=\"49,-146.5 49,-182.5 158,-182.5 158,-146.5 49,-146.5\" stroke=\"#000000\"/>\n",
       "<text fill=\"#000000\" font-family=\"Times,serif\" font-size=\"14.00\" text-anchor=\"middle\" x=\"103.5\" y=\"-160.8\">dense_29: Dense</text>\n",
       "</g>\n",
       "<!-- 140319627082512&#45;&gt;140319627083344 -->\n",
       "<g class=\"edge\" id=\"edge4\">\n",
       "<title>140319627082512-&gt;140319627083344</title>\n",
       "<path d=\"M103.5,-219.4551C103.5,-211.3828 103.5,-201.6764 103.5,-192.6817\" fill=\"none\" stroke=\"#000000\"/>\n",
       "<polygon fill=\"#000000\" points=\"107.0001,-192.5903 103.5,-182.5904 100.0001,-192.5904 107.0001,-192.5903\" stroke=\"#000000\"/>\n",
       "</g>\n",
       "<!-- 140319627082832 -->\n",
       "<g class=\"node\" id=\"node6\">\n",
       "<title>140319627082832</title>\n",
       "<polygon fill=\"none\" points=\"49,-73.5 49,-109.5 158,-109.5 158,-73.5 49,-73.5\" stroke=\"#000000\"/>\n",
       "<text fill=\"#000000\" font-family=\"Times,serif\" font-size=\"14.00\" text-anchor=\"middle\" x=\"103.5\" y=\"-87.8\">dense_30: Dense</text>\n",
       "</g>\n",
       "<!-- 140319627083344&#45;&gt;140319627082832 -->\n",
       "<g class=\"edge\" id=\"edge5\">\n",
       "<title>140319627083344-&gt;140319627082832</title>\n",
       "<path d=\"M103.5,-146.4551C103.5,-138.3828 103.5,-128.6764 103.5,-119.6817\" fill=\"none\" stroke=\"#000000\"/>\n",
       "<polygon fill=\"#000000\" points=\"107.0001,-119.5903 103.5,-109.5904 100.0001,-119.5904 107.0001,-119.5903\" stroke=\"#000000\"/>\n",
       "</g>\n",
       "<!-- 140319626762064 -->\n",
       "<g class=\"node\" id=\"node7\">\n",
       "<title>140319626762064</title>\n",
       "<polygon fill=\"none\" points=\"49,-.5 49,-36.5 158,-36.5 158,-.5 49,-.5\" stroke=\"#000000\"/>\n",
       "<text fill=\"#000000\" font-family=\"Times,serif\" font-size=\"14.00\" text-anchor=\"middle\" x=\"103.5\" y=\"-14.8\">dense_31: Dense</text>\n",
       "</g>\n",
       "<!-- 140319627082832&#45;&gt;140319626762064 -->\n",
       "<g class=\"edge\" id=\"edge6\">\n",
       "<title>140319627082832-&gt;140319626762064</title>\n",
       "<path d=\"M103.5,-73.4551C103.5,-65.3828 103.5,-55.6764 103.5,-46.6817\" fill=\"none\" stroke=\"#000000\"/>\n",
       "<polygon fill=\"#000000\" points=\"107.0001,-46.5903 103.5,-36.5904 100.0001,-46.5904 107.0001,-46.5903\" stroke=\"#000000\"/>\n",
       "</g>\n",
       "</g>\n",
       "</svg>"
      ],
      "text/plain": [
       "<IPython.core.display.SVG object>"
      ]
     },
     "execution_count": 32,
     "metadata": {},
     "output_type": "execute_result"
    }
   ],
   "source": [
    "SVG(model_to_dot(arquitectura).create(prog='dot', format='svg'))"
   ]
  },
  {
   "cell_type": "markdown",
   "metadata": {},
   "source": [
    "\n",
    "3. Redes convolucionales (2D o 3D) para extraer caract y luego alimentar una red recurrente con vectores 1D. (*two level network*)\n",
    ">> CRNN (2D or 3D -Convs -> to RNN)"
   ]
  },
  {
   "cell_type": "code",
   "execution_count": 33,
   "metadata": {},
   "outputs": [
    {
     "name": "stdout",
     "output_type": "stream",
     "text": [
      "_________________________________________________________________\n",
      "Layer (type)                 Output Shape              Param #   \n",
      "=================================================================\n",
      "input_20 (InputLayer)        (None, 5, 40, 40, 3)      0         \n",
      "_________________________________________________________________\n",
      "time_distributed_14 (TimeDis (None, 5, 40, 40, 32)     896       \n",
      "_________________________________________________________________\n",
      "time_distributed_15 (TimeDis (None, 5, 20, 20, 32)     0         \n",
      "_________________________________________________________________\n",
      "reshape_5 (Reshape)          (None, 5, 12800)          0         \n",
      "_________________________________________________________________\n",
      "lstm_5 (LSTM)                (None, 5, 128)            6619648   \n",
      "_________________________________________________________________\n",
      "lstm_6 (LSTM)                (None, 128)               131584    \n",
      "_________________________________________________________________\n",
      "dense_32 (Dense)             (None, 1)                 129       \n",
      "=================================================================\n",
      "Total params: 6,752,257\n",
      "Trainable params: 6,752,257\n",
      "Non-trainable params: 0\n",
      "_________________________________________________________________\n"
     ]
    }
   ],
   "source": [
    "i1 = Input(shape=(T,W,H,C))#four dimensional array (3 without the channels of the image) \n",
    "#extraer caracteristicas\n",
    "kernel_size = (3,3,3) # tercera es el largo temporal\n",
    "f1 = TimeDistributed(Conv2D(32,(3,3),strides=(1, 1), padding='same', data_format=None, activation='relu'))(i1)\n",
    "f1 = TimeDistributed(MaxPool2D((2,2)))(f1)\n",
    "\n",
    "#flatten\n",
    "aux = f1.get_shape().as_list()\n",
    "r1 = Reshape((aux[1],aux[2]*aux[3]*aux[4]))(f1)\n",
    "\n",
    "#recurrencia\n",
    "f2 = LSTM(128,return_sequences=True)(r1)\n",
    "\n",
    "#a uno\n",
    "f3 = LSTM(128,return_sequences=False)(f2)\n",
    "\n",
    "#clasificacion\n",
    "f4 = Dense(1,activation='linear')(f3)\n",
    "\n",
    "arquitectura = Model(i1,f4)\n",
    "arquitectura.summary()"
   ]
  },
  {
   "cell_type": "code",
   "execution_count": 34,
   "metadata": {},
   "outputs": [
    {
     "data": {
      "image/svg+xml": [
       "<svg height=\"483pt\" viewBox=\"0.00 0.00 433.00 483.00\" width=\"433pt\" xmlns=\"http://www.w3.org/2000/svg\" xmlns:xlink=\"http://www.w3.org/1999/xlink\">\n",
       "<g class=\"graph\" id=\"graph0\" transform=\"scale(1 1) rotate(0) translate(4 479)\">\n",
       "<title>G</title>\n",
       "<polygon fill=\"#ffffff\" points=\"-4,4 -4,-479 429,-479 429,4 -4,4\" stroke=\"transparent\"/>\n",
       "<!-- 140319625967952 -->\n",
       "<g class=\"node\" id=\"node1\">\n",
       "<title>140319625967952</title>\n",
       "<polygon fill=\"none\" points=\"146.5,-438.5 146.5,-474.5 278.5,-474.5 278.5,-438.5 146.5,-438.5\" stroke=\"#000000\"/>\n",
       "<text fill=\"#000000\" font-family=\"Times,serif\" font-size=\"14.00\" text-anchor=\"middle\" x=\"212.5\" y=\"-452.8\">input_20: InputLayer</text>\n",
       "</g>\n",
       "<!-- 140319635426256 -->\n",
       "<g class=\"node\" id=\"node2\">\n",
       "<title>140319635426256</title>\n",
       "<polygon fill=\"none\" points=\"42,-365.5 42,-401.5 383,-401.5 383,-365.5 42,-365.5\" stroke=\"#000000\"/>\n",
       "<text fill=\"#000000\" font-family=\"Times,serif\" font-size=\"14.00\" text-anchor=\"middle\" x=\"212.5\" y=\"-379.8\">time_distributed_14(conv2d_8): TimeDistributed(Conv2D)</text>\n",
       "</g>\n",
       "<!-- 140319625967952&#45;&gt;140319635426256 -->\n",
       "<g class=\"edge\" id=\"edge1\">\n",
       "<title>140319625967952-&gt;140319635426256</title>\n",
       "<path d=\"M212.5,-438.4551C212.5,-430.3828 212.5,-420.6764 212.5,-411.6817\" fill=\"none\" stroke=\"#000000\"/>\n",
       "<polygon fill=\"#000000\" points=\"216.0001,-411.5903 212.5,-401.5904 209.0001,-411.5904 216.0001,-411.5903\" stroke=\"#000000\"/>\n",
       "</g>\n",
       "<!-- 140319625968528 -->\n",
       "<g class=\"node\" id=\"node3\">\n",
       "<title>140319625968528</title>\n",
       "<polygon fill=\"none\" points=\"0,-292.5 0,-328.5 425,-328.5 425,-292.5 0,-292.5\" stroke=\"#000000\"/>\n",
       "<text fill=\"#000000\" font-family=\"Times,serif\" font-size=\"14.00\" text-anchor=\"middle\" x=\"212.5\" y=\"-306.8\">time_distributed_15(max_pooling2d_7): TimeDistributed(MaxPooling2D)</text>\n",
       "</g>\n",
       "<!-- 140319635426256&#45;&gt;140319625968528 -->\n",
       "<g class=\"edge\" id=\"edge2\">\n",
       "<title>140319635426256-&gt;140319625968528</title>\n",
       "<path d=\"M212.5,-365.4551C212.5,-357.3828 212.5,-347.6764 212.5,-338.6817\" fill=\"none\" stroke=\"#000000\"/>\n",
       "<polygon fill=\"#000000\" points=\"216.0001,-338.5903 212.5,-328.5904 209.0001,-338.5904 216.0001,-338.5903\" stroke=\"#000000\"/>\n",
       "</g>\n",
       "<!-- 140319625968848 -->\n",
       "<g class=\"node\" id=\"node4\">\n",
       "<title>140319625968848</title>\n",
       "<polygon fill=\"none\" points=\"150,-219.5 150,-255.5 275,-255.5 275,-219.5 150,-219.5\" stroke=\"#000000\"/>\n",
       "<text fill=\"#000000\" font-family=\"Times,serif\" font-size=\"14.00\" text-anchor=\"middle\" x=\"212.5\" y=\"-233.8\">reshape_5: Reshape</text>\n",
       "</g>\n",
       "<!-- 140319625968528&#45;&gt;140319625968848 -->\n",
       "<g class=\"edge\" id=\"edge3\">\n",
       "<title>140319625968528-&gt;140319625968848</title>\n",
       "<path d=\"M212.5,-292.4551C212.5,-284.3828 212.5,-274.6764 212.5,-265.6817\" fill=\"none\" stroke=\"#000000\"/>\n",
       "<polygon fill=\"#000000\" points=\"216.0001,-265.5903 212.5,-255.5904 209.0001,-265.5904 216.0001,-265.5903\" stroke=\"#000000\"/>\n",
       "</g>\n",
       "<!-- 140319625968144 -->\n",
       "<g class=\"node\" id=\"node5\">\n",
       "<title>140319625968144</title>\n",
       "<polygon fill=\"none\" points=\"163.5,-146.5 163.5,-182.5 261.5,-182.5 261.5,-146.5 163.5,-146.5\" stroke=\"#000000\"/>\n",
       "<text fill=\"#000000\" font-family=\"Times,serif\" font-size=\"14.00\" text-anchor=\"middle\" x=\"212.5\" y=\"-160.8\">lstm_5: LSTM</text>\n",
       "</g>\n",
       "<!-- 140319625968848&#45;&gt;140319625968144 -->\n",
       "<g class=\"edge\" id=\"edge4\">\n",
       "<title>140319625968848-&gt;140319625968144</title>\n",
       "<path d=\"M212.5,-219.4551C212.5,-211.3828 212.5,-201.6764 212.5,-192.6817\" fill=\"none\" stroke=\"#000000\"/>\n",
       "<polygon fill=\"#000000\" points=\"216.0001,-192.5903 212.5,-182.5904 209.0001,-192.5904 216.0001,-192.5903\" stroke=\"#000000\"/>\n",
       "</g>\n",
       "<!-- 140319626019216 -->\n",
       "<g class=\"node\" id=\"node6\">\n",
       "<title>140319626019216</title>\n",
       "<polygon fill=\"none\" points=\"163.5,-73.5 163.5,-109.5 261.5,-109.5 261.5,-73.5 163.5,-73.5\" stroke=\"#000000\"/>\n",
       "<text fill=\"#000000\" font-family=\"Times,serif\" font-size=\"14.00\" text-anchor=\"middle\" x=\"212.5\" y=\"-87.8\">lstm_6: LSTM</text>\n",
       "</g>\n",
       "<!-- 140319625968144&#45;&gt;140319626019216 -->\n",
       "<g class=\"edge\" id=\"edge5\">\n",
       "<title>140319625968144-&gt;140319626019216</title>\n",
       "<path d=\"M212.5,-146.4551C212.5,-138.3828 212.5,-128.6764 212.5,-119.6817\" fill=\"none\" stroke=\"#000000\"/>\n",
       "<polygon fill=\"#000000\" points=\"216.0001,-119.5903 212.5,-109.5904 209.0001,-119.5904 216.0001,-119.5903\" stroke=\"#000000\"/>\n",
       "</g>\n",
       "<!-- 140319625666896 -->\n",
       "<g class=\"node\" id=\"node7\">\n",
       "<title>140319625666896</title>\n",
       "<polygon fill=\"none\" points=\"158,-.5 158,-36.5 267,-36.5 267,-.5 158,-.5\" stroke=\"#000000\"/>\n",
       "<text fill=\"#000000\" font-family=\"Times,serif\" font-size=\"14.00\" text-anchor=\"middle\" x=\"212.5\" y=\"-14.8\">dense_32: Dense</text>\n",
       "</g>\n",
       "<!-- 140319626019216&#45;&gt;140319625666896 -->\n",
       "<g class=\"edge\" id=\"edge6\">\n",
       "<title>140319626019216-&gt;140319625666896</title>\n",
       "<path d=\"M212.5,-73.4551C212.5,-65.3828 212.5,-55.6764 212.5,-46.6817\" fill=\"none\" stroke=\"#000000\"/>\n",
       "<polygon fill=\"#000000\" points=\"216.0001,-46.5903 212.5,-36.5904 209.0001,-46.5904 216.0001,-46.5903\" stroke=\"#000000\"/>\n",
       "</g>\n",
       "</g>\n",
       "</svg>"
      ],
      "text/plain": [
       "<IPython.core.display.SVG object>"
      ]
     },
     "execution_count": 34,
     "metadata": {},
     "output_type": "execute_result"
    }
   ],
   "source": [
    "SVG(model_to_dot(arquitectura).create(prog='dot', format='svg'))"
   ]
  },
  {
   "cell_type": "markdown",
   "metadata": {},
   "source": [
    "4. Redes convolucionales 2D a cada instante de tiempo, para entregar una salida final\n",
    ">> 2D-CNN (CNN with 2D kernel -> to end)"
   ]
  },
  {
   "cell_type": "code",
   "execution_count": null,
   "metadata": {},
   "outputs": [],
   "source": []
  },
  {
   "cell_type": "markdown",
   "metadata": {},
   "source": [
    "5. MLP"
   ]
  },
  {
   "cell_type": "code",
   "execution_count": 35,
   "metadata": {},
   "outputs": [
    {
     "name": "stdout",
     "output_type": "stream",
     "text": [
      "_________________________________________________________________\n",
      "Layer (type)                 Output Shape              Param #   \n",
      "=================================================================\n",
      "input_21 (InputLayer)        (None, 24000)             0         \n",
      "_________________________________________________________________\n",
      "dense_33 (Dense)             (None, 1024)              24577024  \n",
      "_________________________________________________________________\n",
      "dense_34 (Dense)             (None, 1024)              1049600   \n",
      "_________________________________________________________________\n",
      "dense_35 (Dense)             (None, 1)                 1025      \n",
      "=================================================================\n",
      "Total params: 25,627,649\n",
      "Trainable params: 25,627,649\n",
      "Non-trainable params: 0\n",
      "_________________________________________________________________\n"
     ]
    }
   ],
   "source": [
    "i1 = Input(shape=(np.prod((T,W,H,C)),))#four dimensional array (3 without the channels of the image) \n",
    "#extraer caracteristicas\n",
    "f1 = Dense(1024,activation='relu')(i1)\n",
    "f1 = Dense(1024,activation='relu')(f1)\n",
    "\n",
    "#clasificacion\n",
    "f4 = Dense(1,activation='linear')(f1)\n",
    "\n",
    "arquitectura = Model(i1,f4)\n",
    "arquitectura.summary()"
   ]
  },
  {
   "cell_type": "code",
   "execution_count": 36,
   "metadata": {},
   "outputs": [
    {
     "data": {
      "image/svg+xml": [
       "<svg height=\"264pt\" viewBox=\"0.00 0.00 140.00 264.00\" width=\"140pt\" xmlns=\"http://www.w3.org/2000/svg\" xmlns:xlink=\"http://www.w3.org/1999/xlink\">\n",
       "<g class=\"graph\" id=\"graph0\" transform=\"scale(1 1) rotate(0) translate(4 260)\">\n",
       "<title>G</title>\n",
       "<polygon fill=\"#ffffff\" points=\"-4,4 -4,-260 136,-260 136,4 -4,4\" stroke=\"transparent\"/>\n",
       "<!-- 140319621464848 -->\n",
       "<g class=\"node\" id=\"node1\">\n",
       "<title>140319621464848</title>\n",
       "<polygon fill=\"none\" points=\"0,-219.5 0,-255.5 132,-255.5 132,-219.5 0,-219.5\" stroke=\"#000000\"/>\n",
       "<text fill=\"#000000\" font-family=\"Times,serif\" font-size=\"14.00\" text-anchor=\"middle\" x=\"66\" y=\"-233.8\">input_21: InputLayer</text>\n",
       "</g>\n",
       "<!-- 140319621464784 -->\n",
       "<g class=\"node\" id=\"node2\">\n",
       "<title>140319621464784</title>\n",
       "<polygon fill=\"none\" points=\"11.5,-146.5 11.5,-182.5 120.5,-182.5 120.5,-146.5 11.5,-146.5\" stroke=\"#000000\"/>\n",
       "<text fill=\"#000000\" font-family=\"Times,serif\" font-size=\"14.00\" text-anchor=\"middle\" x=\"66\" y=\"-160.8\">dense_33: Dense</text>\n",
       "</g>\n",
       "<!-- 140319621464848&#45;&gt;140319621464784 -->\n",
       "<g class=\"edge\" id=\"edge1\">\n",
       "<title>140319621464848-&gt;140319621464784</title>\n",
       "<path d=\"M66,-219.4551C66,-211.3828 66,-201.6764 66,-192.6817\" fill=\"none\" stroke=\"#000000\"/>\n",
       "<polygon fill=\"#000000\" points=\"69.5001,-192.5903 66,-182.5904 62.5001,-192.5904 69.5001,-192.5903\" stroke=\"#000000\"/>\n",
       "</g>\n",
       "<!-- 140319621465040 -->\n",
       "<g class=\"node\" id=\"node3\">\n",
       "<title>140319621465040</title>\n",
       "<polygon fill=\"none\" points=\"11.5,-73.5 11.5,-109.5 120.5,-109.5 120.5,-73.5 11.5,-73.5\" stroke=\"#000000\"/>\n",
       "<text fill=\"#000000\" font-family=\"Times,serif\" font-size=\"14.00\" text-anchor=\"middle\" x=\"66\" y=\"-87.8\">dense_34: Dense</text>\n",
       "</g>\n",
       "<!-- 140319621464784&#45;&gt;140319621465040 -->\n",
       "<g class=\"edge\" id=\"edge2\">\n",
       "<title>140319621464784-&gt;140319621465040</title>\n",
       "<path d=\"M66,-146.4551C66,-138.3828 66,-128.6764 66,-119.6817\" fill=\"none\" stroke=\"#000000\"/>\n",
       "<polygon fill=\"#000000\" points=\"69.5001,-119.5903 66,-109.5904 62.5001,-119.5904 69.5001,-119.5903\" stroke=\"#000000\"/>\n",
       "</g>\n",
       "<!-- 140319621465360 -->\n",
       "<g class=\"node\" id=\"node4\">\n",
       "<title>140319621465360</title>\n",
       "<polygon fill=\"none\" points=\"11.5,-.5 11.5,-36.5 120.5,-36.5 120.5,-.5 11.5,-.5\" stroke=\"#000000\"/>\n",
       "<text fill=\"#000000\" font-family=\"Times,serif\" font-size=\"14.00\" text-anchor=\"middle\" x=\"66\" y=\"-14.8\">dense_35: Dense</text>\n",
       "</g>\n",
       "<!-- 140319621465040&#45;&gt;140319621465360 -->\n",
       "<g class=\"edge\" id=\"edge3\">\n",
       "<title>140319621465040-&gt;140319621465360</title>\n",
       "<path d=\"M66,-73.4551C66,-65.3828 66,-55.6764 66,-46.6817\" fill=\"none\" stroke=\"#000000\"/>\n",
       "<polygon fill=\"#000000\" points=\"69.5001,-46.5903 66,-36.5904 62.5001,-46.5904 69.5001,-46.5903\" stroke=\"#000000\"/>\n",
       "</g>\n",
       "</g>\n",
       "</svg>"
      ],
      "text/plain": [
       "<IPython.core.display.SVG object>"
      ]
     },
     "execution_count": 36,
     "metadata": {},
     "output_type": "execute_result"
    }
   ],
   "source": [
    "SVG(model_to_dot(arquitectura).create(prog='dot', format='svg'))"
   ]
  },
  {
   "cell_type": "code",
   "execution_count": null,
   "metadata": {},
   "outputs": [],
   "source": []
  }
 ],
 "metadata": {
  "kernelspec": {
   "display_name": "Python [default]",
   "language": "python",
   "name": "python2"
  },
  "language_info": {
   "codemirror_mode": {
    "name": "ipython",
    "version": 2
   },
   "file_extension": ".py",
   "mimetype": "text/x-python",
   "name": "python",
   "nbconvert_exporter": "python",
   "pygments_lexer": "ipython2",
   "version": "2.7.14"
  }
 },
 "nbformat": 4,
 "nbformat_minor": 2
}
