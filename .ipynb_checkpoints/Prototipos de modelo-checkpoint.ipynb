{
 "cells": [
  {
   "cell_type": "markdown",
   "metadata": {},
   "source": [
    "## Con pruebas\n",
    "* Tener espectro de posibilidad de los hiper-parámetros de las redes\n",
    "    * kernel size (espacial y temporal) -- en base a papers temporal =3\n",
    "    * stride (Depende)\n",
    "    * Profundidad (en base a papers: )"
   ]
  },
  {
   "cell_type": "code",
   "execution_count": 1,
   "metadata": {
    "collapsed": false
   },
   "outputs": [
    {
     "name": "stderr",
     "output_type": "stream",
     "text": [
      "Using TensorFlow backend.\n"
     ]
    }
   ],
   "source": [
    "import keras\n",
    "from keras.layers import *\n",
    "from keras.models import Model, Sequential\n",
    "import numpy as np\n",
    "import matplotlib.pyplot as plt\n",
    "%matplotlib inline\n",
    "from IPython.display import SVG\n",
    "from keras.utils.vis_utils import model_to_dot"
   ]
  },
  {
   "cell_type": "code",
   "execution_count": 2,
   "metadata": {
    "collapsed": false
   },
   "outputs": [
    {
     "name": "stdout",
     "output_type": "stream",
     "text": [
      "('Dimensionalidad: ', (1000, 50, 40, 40, 3))\n"
     ]
    }
   ],
   "source": [
    "N = 1000\n",
    "T = 50 #timestepts\n",
    "W = H = 40 #dimensiones de la imagen\n",
    "C = 3 #canales de la imagen\n",
    "data_t = np.random.rand(N,T,W,H,C)\n",
    "print(\"Dimensionalidad: \",data_t.shape)"
   ]
  },
  {
   "cell_type": "code",
   "execution_count": 6,
   "metadata": {
    "collapsed": true
   },
   "outputs": [],
   "source": [
    "label_t = np.concatenate((np.ones(N/2), np.zeros(N/2)),axis=0)"
   ]
  },
  {
   "cell_type": "code",
   "execution_count": null,
   "metadata": {
    "collapsed": true
   },
   "outputs": [],
   "source": [
    "## recurrentes si tiemstep es largo?"
   ]
  },
  {
   "cell_type": "markdown",
   "metadata": {},
   "source": [
    "1. Redes recurrentes con convoluciones 2D en sus operaciones\n",
    ">> RCNN (RNN with Convolutional inside)"
   ]
  },
  {
   "cell_type": "code",
   "execution_count": 15,
   "metadata": {
    "collapsed": false
   },
   "outputs": [
    {
     "name": "stdout",
     "output_type": "stream",
     "text": [
      "_________________________________________________________________\n",
      "Layer (type)                 Output Shape              Param #   \n",
      "=================================================================\n",
      "input_7 (InputLayer)         (None, 50, 40, 40, 3)     0         \n",
      "_________________________________________________________________\n",
      "conv_lst_m2d_24 (ConvLSTM2D) (None, 50, 40, 40, 16)    11008     \n",
      "_________________________________________________________________\n",
      "conv_lst_m2d_25 (ConvLSTM2D) (None, 50, 20, 20, 16)    18496     \n",
      "_________________________________________________________________\n",
      "conv_lst_m2d_26 (ConvLSTM2D) (None, 50, 20, 20, 32)    55424     \n",
      "_________________________________________________________________\n",
      "conv_lst_m2d_27 (ConvLSTM2D) (None, 50, 10, 10, 32)    73856     \n",
      "_________________________________________________________________\n",
      "conv_lst_m2d_28 (ConvLSTM2D) (None, 10, 10, 32)        73856     \n",
      "_________________________________________________________________\n",
      "flatten_7 (Flatten)          (None, 3200)              0         \n",
      "_________________________________________________________________\n",
      "dense_16 (Dense)             (None, 512)               1638912   \n",
      "_________________________________________________________________\n",
      "dense_17 (Dense)             (None, 1)                 513       \n",
      "=================================================================\n",
      "Total params: 1,872,065\n",
      "Trainable params: 1,872,065\n",
      "Non-trainable params: 0\n",
      "_________________________________________________________________\n"
     ]
    }
   ],
   "source": [
    "i1 = Input(shape=(T,W,H,C))#four dimensional array (3 without the channels of the image) \n",
    "#extraer caracteristicas\n",
    "\n",
    "f1 = ConvLSTM2D(16, (3,3), strides=(1,1), padding='same',return_sequences=True)(i1)\n",
    "f1 = ConvLSTM2D(16, (3,3), strides=(2,2), padding='same',return_sequences=True)(f1)\n",
    "#pooling?\n",
    "f2 = ConvLSTM2D(32, (3,3), strides=(1,1), padding='same',return_sequences=True)(f1)\n",
    "f2 = ConvLSTM2D(32, (3,3), strides=(2,2), padding='same',return_sequences=True)(f2)\n",
    "#pooling?\n",
    "\n",
    "\n",
    "stop_r1 = ConvLSTM2D(32, (3,3), strides=(1,1), padding='same',return_sequences=False)(f2)\n",
    "#mas convolcuion aca?\n",
    "#Conv2D()\n",
    "\n",
    "#flatten\n",
    "fla = Flatten()(stop_r1)\n",
    "\n",
    "#dense\n",
    "f3 = Dense(512,activation='relu')(fla)\n",
    "#f3 = Dense(256,activation='relu')(f3)\n",
    "\n",
    "#clasificacion\n",
    "f4 = Dense(1,activation='linear')(f3)\n",
    "\n",
    "arquitectura = Model(i1,f4)\n",
    "arquitectura.summary()"
   ]
  },
  {
   "cell_type": "code",
   "execution_count": 4,
   "metadata": {
    "collapsed": false,
    "scrolled": true
   },
   "outputs": [
    {
     "data": {
      "image/svg+xml": [
       "<svg height=\"483pt\" viewBox=\"0.00 0.00 205.00 483.00\" width=\"205pt\" xmlns=\"http://www.w3.org/2000/svg\" xmlns:xlink=\"http://www.w3.org/1999/xlink\">\n",
       "<g class=\"graph\" id=\"graph0\" transform=\"scale(1 1) rotate(0) translate(4 479)\">\n",
       "<title>G</title>\n",
       "<polygon fill=\"#ffffff\" points=\"-4,4 -4,-479 201,-479 201,4 -4,4\" stroke=\"transparent\"/>\n",
       "<!-- 139917546346512 -->\n",
       "<g class=\"node\" id=\"node1\">\n",
       "<title>139917546346512</title>\n",
       "<polygon fill=\"none\" points=\"36,-438.5 36,-474.5 161,-474.5 161,-438.5 36,-438.5\" stroke=\"#000000\"/>\n",
       "<text fill=\"#000000\" font-family=\"Times,serif\" font-size=\"14.00\" text-anchor=\"middle\" x=\"98.5\" y=\"-452.8\">input_1: InputLayer</text>\n",
       "</g>\n",
       "<!-- 139917546346448 -->\n",
       "<g class=\"node\" id=\"node2\">\n",
       "<title>139917546346448</title>\n",
       "<polygon fill=\"none\" points=\"0,-365.5 0,-401.5 197,-401.5 197,-365.5 0,-365.5\" stroke=\"#000000\"/>\n",
       "<text fill=\"#000000\" font-family=\"Times,serif\" font-size=\"14.00\" text-anchor=\"middle\" x=\"98.5\" y=\"-379.8\">conv_lst_m2d_1: ConvLSTM2D</text>\n",
       "</g>\n",
       "<!-- 139917546346512&#45;&gt;139917546346448 -->\n",
       "<g class=\"edge\" id=\"edge1\">\n",
       "<title>139917546346512-&gt;139917546346448</title>\n",
       "<path d=\"M98.5,-438.4551C98.5,-430.3828 98.5,-420.6764 98.5,-411.6817\" fill=\"none\" stroke=\"#000000\"/>\n",
       "<polygon fill=\"#000000\" points=\"102.0001,-411.5903 98.5,-401.5904 95.0001,-411.5904 102.0001,-411.5903\" stroke=\"#000000\"/>\n",
       "</g>\n",
       "<!-- 139921650762128 -->\n",
       "<g class=\"node\" id=\"node3\">\n",
       "<title>139921650762128</title>\n",
       "<polygon fill=\"none\" points=\"0,-292.5 0,-328.5 197,-328.5 197,-292.5 0,-292.5\" stroke=\"#000000\"/>\n",
       "<text fill=\"#000000\" font-family=\"Times,serif\" font-size=\"14.00\" text-anchor=\"middle\" x=\"98.5\" y=\"-306.8\">conv_lst_m2d_2: ConvLSTM2D</text>\n",
       "</g>\n",
       "<!-- 139917546346448&#45;&gt;139921650762128 -->\n",
       "<g class=\"edge\" id=\"edge2\">\n",
       "<title>139917546346448-&gt;139921650762128</title>\n",
       "<path d=\"M98.5,-365.4551C98.5,-357.3828 98.5,-347.6764 98.5,-338.6817\" fill=\"none\" stroke=\"#000000\"/>\n",
       "<polygon fill=\"#000000\" points=\"102.0001,-338.5903 98.5,-328.5904 95.0001,-338.5904 102.0001,-338.5903\" stroke=\"#000000\"/>\n",
       "</g>\n",
       "<!-- 139919466727504 -->\n",
       "<g class=\"node\" id=\"node4\">\n",
       "<title>139919466727504</title>\n",
       "<polygon fill=\"none\" points=\"43.5,-219.5 43.5,-255.5 153.5,-255.5 153.5,-219.5 43.5,-219.5\" stroke=\"#000000\"/>\n",
       "<text fill=\"#000000\" font-family=\"Times,serif\" font-size=\"14.00\" text-anchor=\"middle\" x=\"98.5\" y=\"-233.8\">flatten_1: Flatten</text>\n",
       "</g>\n",
       "<!-- 139921650762128&#45;&gt;139919466727504 -->\n",
       "<g class=\"edge\" id=\"edge3\">\n",
       "<title>139921650762128-&gt;139919466727504</title>\n",
       "<path d=\"M98.5,-292.4551C98.5,-284.3828 98.5,-274.6764 98.5,-265.6817\" fill=\"none\" stroke=\"#000000\"/>\n",
       "<polygon fill=\"#000000\" points=\"102.0001,-265.5903 98.5,-255.5904 95.0001,-265.5904 102.0001,-265.5903\" stroke=\"#000000\"/>\n",
       "</g>\n",
       "<!-- 139917546347536 -->\n",
       "<g class=\"node\" id=\"node5\">\n",
       "<title>139917546347536</title>\n",
       "<polygon fill=\"none\" points=\"47.5,-146.5 47.5,-182.5 149.5,-182.5 149.5,-146.5 47.5,-146.5\" stroke=\"#000000\"/>\n",
       "<text fill=\"#000000\" font-family=\"Times,serif\" font-size=\"14.00\" text-anchor=\"middle\" x=\"98.5\" y=\"-160.8\">dense_1: Dense</text>\n",
       "</g>\n",
       "<!-- 139919466727504&#45;&gt;139917546347536 -->\n",
       "<g class=\"edge\" id=\"edge4\">\n",
       "<title>139919466727504-&gt;139917546347536</title>\n",
       "<path d=\"M98.5,-219.4551C98.5,-211.3828 98.5,-201.6764 98.5,-192.6817\" fill=\"none\" stroke=\"#000000\"/>\n",
       "<polygon fill=\"#000000\" points=\"102.0001,-192.5903 98.5,-182.5904 95.0001,-192.5904 102.0001,-192.5903\" stroke=\"#000000\"/>\n",
       "</g>\n",
       "<!-- 139917509295696 -->\n",
       "<g class=\"node\" id=\"node6\">\n",
       "<title>139917509295696</title>\n",
       "<polygon fill=\"none\" points=\"47.5,-73.5 47.5,-109.5 149.5,-109.5 149.5,-73.5 47.5,-73.5\" stroke=\"#000000\"/>\n",
       "<text fill=\"#000000\" font-family=\"Times,serif\" font-size=\"14.00\" text-anchor=\"middle\" x=\"98.5\" y=\"-87.8\">dense_2: Dense</text>\n",
       "</g>\n",
       "<!-- 139917546347536&#45;&gt;139917509295696 -->\n",
       "<g class=\"edge\" id=\"edge5\">\n",
       "<title>139917546347536-&gt;139917509295696</title>\n",
       "<path d=\"M98.5,-146.4551C98.5,-138.3828 98.5,-128.6764 98.5,-119.6817\" fill=\"none\" stroke=\"#000000\"/>\n",
       "<polygon fill=\"#000000\" points=\"102.0001,-119.5903 98.5,-109.5904 95.0001,-119.5904 102.0001,-119.5903\" stroke=\"#000000\"/>\n",
       "</g>\n",
       "<!-- 139917505710800 -->\n",
       "<g class=\"node\" id=\"node7\">\n",
       "<title>139917505710800</title>\n",
       "<polygon fill=\"none\" points=\"47.5,-.5 47.5,-36.5 149.5,-36.5 149.5,-.5 47.5,-.5\" stroke=\"#000000\"/>\n",
       "<text fill=\"#000000\" font-family=\"Times,serif\" font-size=\"14.00\" text-anchor=\"middle\" x=\"98.5\" y=\"-14.8\">dense_3: Dense</text>\n",
       "</g>\n",
       "<!-- 139917509295696&#45;&gt;139917505710800 -->\n",
       "<g class=\"edge\" id=\"edge6\">\n",
       "<title>139917509295696-&gt;139917505710800</title>\n",
       "<path d=\"M98.5,-73.4551C98.5,-65.3828 98.5,-55.6764 98.5,-46.6817\" fill=\"none\" stroke=\"#000000\"/>\n",
       "<polygon fill=\"#000000\" points=\"102.0001,-46.5903 98.5,-36.5904 95.0001,-46.5904 102.0001,-46.5903\" stroke=\"#000000\"/>\n",
       "</g>\n",
       "</g>\n",
       "</svg>"
      ],
      "text/plain": [
       "<IPython.core.display.SVG object>"
      ]
     },
     "execution_count": 4,
     "metadata": {},
     "output_type": "execute_result"
    }
   ],
   "source": [
    "SVG(model_to_dot(arquitectura).create(prog='dot', format='svg'))"
   ]
  },
  {
   "cell_type": "markdown",
   "metadata": {},
   "source": [
    "2. Redes convolucionales 3D para entrega la salida final.\n",
    ">> 3D-CNN (CNN with 3D kernel -> to end)\n",
    "\n",
    "Quizás cambiar a CCP"
   ]
  },
  {
   "cell_type": "code",
   "execution_count": 24,
   "metadata": {
    "collapsed": false
   },
   "outputs": [
    {
     "name": "stdout",
     "output_type": "stream",
     "text": [
      "_________________________________________________________________\n",
      "Layer (type)                 Output Shape              Param #   \n",
      "=================================================================\n",
      "input_14 (InputLayer)        (None, 50, 40, 40, 3)     0         \n",
      "_________________________________________________________________\n",
      "conv3d_12 (Conv3D)           (None, 50, 40, 40, 16)    1312      \n",
      "_________________________________________________________________\n",
      "max_pooling3d_12 (MaxPooling (None, 25, 20, 20, 16)    0         \n",
      "_________________________________________________________________\n",
      "conv3d_13 (Conv3D)           (None, 25, 20, 20, 32)    13856     \n",
      "_________________________________________________________________\n",
      "max_pooling3d_13 (MaxPooling (None, 12, 10, 10, 32)    0         \n",
      "_________________________________________________________________\n",
      "conv3d_14 (Conv3D)           (None, 12, 10, 10, 64)    55360     \n",
      "_________________________________________________________________\n",
      "max_pooling3d_14 (MaxPooling (None, 6, 5, 5, 64)       0         \n",
      "_________________________________________________________________\n",
      "flatten_14 (Flatten)         (None, 9600)              0         \n",
      "_________________________________________________________________\n",
      "dense_31 (Dense)             (None, 512)               4915712   \n",
      "_________________________________________________________________\n",
      "dense_32 (Dense)             (None, 1)                 513       \n",
      "=================================================================\n",
      "Total params: 4,986,753\n",
      "Trainable params: 4,986,753\n",
      "Non-trainable params: 0\n",
      "_________________________________________________________________\n"
     ]
    }
   ],
   "source": [
    "i1 = Input(shape=(T,W,H,C))#four dimensional array (3 without the channels of the image) \n",
    "#extraer caracteristicas\n",
    "kernel_size = (3,3,3) # tercera es el largo temporal\n",
    "f1 = Conv3D(16,kernel_size, strides=(1, 1, 1), padding='same', data_format=None, activation='relu')(i1)\n",
    "f1 = MaxPool3D((2,2,2))(f1)\n",
    "f2 = Conv3D(32,kernel_size, strides=(1, 1, 1), padding='same', data_format=None, activation='relu')(f1)\n",
    "f2 = MaxPool3D((2,2,2))(f2)\n",
    "#mas conv3D?\n",
    "f3 = Conv3D(64,kernel_size, strides=(1, 1, 1), padding='same', data_format=None, activation='relu')(f2)\n",
    "f3 = MaxPool3D((2,2,2))(f3)\n",
    "\n",
    "#flatten\n",
    "fla = Flatten()(f3)\n",
    "\n",
    "#dense\n",
    "f3 = Dense(512,activation='relu')(fla)\n",
    "#f3 = Dense(256,activation='relu')(f3)\n",
    "\n",
    "#clasificacion\n",
    "f4 = Dense(1,activation='linear')(f3)\n",
    "\n",
    "arquitectura = Model(i1,f4)\n",
    "arquitectura.summary()"
   ]
  },
  {
   "cell_type": "code",
   "execution_count": 26,
   "metadata": {
    "collapsed": false,
    "scrolled": true
   },
   "outputs": [
    {
     "data": {
      "image/svg+xml": [
       "<svg height=\"702pt\" viewBox=\"0.00 0.00 222.00 702.00\" width=\"222pt\" xmlns=\"http://www.w3.org/2000/svg\" xmlns:xlink=\"http://www.w3.org/1999/xlink\">\n",
       "<g class=\"graph\" id=\"graph0\" transform=\"scale(1 1) rotate(0) translate(4 698)\">\n",
       "<title>G</title>\n",
       "<polygon fill=\"#ffffff\" points=\"-4,4 -4,-698 218,-698 218,4 -4,4\" stroke=\"transparent\"/>\n",
       "<!-- 139906908700880 -->\n",
       "<g class=\"node\" id=\"node1\">\n",
       "<title>139906908700880</title>\n",
       "<polygon fill=\"none\" points=\"41,-657.5 41,-693.5 173,-693.5 173,-657.5 41,-657.5\" stroke=\"#000000\"/>\n",
       "<text fill=\"#000000\" font-family=\"Times,serif\" font-size=\"14.00\" text-anchor=\"middle\" x=\"107\" y=\"-671.8\">input_14: InputLayer</text>\n",
       "</g>\n",
       "<!-- 139906908700944 -->\n",
       "<g class=\"node\" id=\"node2\">\n",
       "<title>139906908700944</title>\n",
       "<polygon fill=\"none\" points=\"42,-584.5 42,-620.5 172,-620.5 172,-584.5 42,-584.5\" stroke=\"#000000\"/>\n",
       "<text fill=\"#000000\" font-family=\"Times,serif\" font-size=\"14.00\" text-anchor=\"middle\" x=\"107\" y=\"-598.8\">conv3d_12: Conv3D</text>\n",
       "</g>\n",
       "<!-- 139906908700880&#45;&gt;139906908700944 -->\n",
       "<g class=\"edge\" id=\"edge1\">\n",
       "<title>139906908700880-&gt;139906908700944</title>\n",
       "<path d=\"M107,-657.4551C107,-649.3828 107,-639.6764 107,-630.6817\" fill=\"none\" stroke=\"#000000\"/>\n",
       "<polygon fill=\"#000000\" points=\"110.5001,-630.5903 107,-620.5904 103.5001,-630.5904 110.5001,-630.5903\" stroke=\"#000000\"/>\n",
       "</g>\n",
       "<!-- 139906908701328 -->\n",
       "<g class=\"node\" id=\"node3\">\n",
       "<title>139906908701328</title>\n",
       "<polygon fill=\"none\" points=\"0,-511.5 0,-547.5 214,-547.5 214,-511.5 0,-511.5\" stroke=\"#000000\"/>\n",
       "<text fill=\"#000000\" font-family=\"Times,serif\" font-size=\"14.00\" text-anchor=\"middle\" x=\"107\" y=\"-525.8\">max_pooling3d_12: MaxPooling3D</text>\n",
       "</g>\n",
       "<!-- 139906908700944&#45;&gt;139906908701328 -->\n",
       "<g class=\"edge\" id=\"edge2\">\n",
       "<title>139906908700944-&gt;139906908701328</title>\n",
       "<path d=\"M107,-584.4551C107,-576.3828 107,-566.6764 107,-557.6817\" fill=\"none\" stroke=\"#000000\"/>\n",
       "<polygon fill=\"#000000\" points=\"110.5001,-557.5903 107,-547.5904 103.5001,-557.5904 110.5001,-557.5903\" stroke=\"#000000\"/>\n",
       "</g>\n",
       "<!-- 139909905265808 -->\n",
       "<g class=\"node\" id=\"node4\">\n",
       "<title>139909905265808</title>\n",
       "<polygon fill=\"none\" points=\"42,-438.5 42,-474.5 172,-474.5 172,-438.5 42,-438.5\" stroke=\"#000000\"/>\n",
       "<text fill=\"#000000\" font-family=\"Times,serif\" font-size=\"14.00\" text-anchor=\"middle\" x=\"107\" y=\"-452.8\">conv3d_13: Conv3D</text>\n",
       "</g>\n",
       "<!-- 139906908701328&#45;&gt;139909905265808 -->\n",
       "<g class=\"edge\" id=\"edge3\">\n",
       "<title>139906908701328-&gt;139909905265808</title>\n",
       "<path d=\"M107,-511.4551C107,-503.3828 107,-493.6764 107,-484.6817\" fill=\"none\" stroke=\"#000000\"/>\n",
       "<polygon fill=\"#000000\" points=\"110.5001,-484.5903 107,-474.5904 103.5001,-484.5904 110.5001,-484.5903\" stroke=\"#000000\"/>\n",
       "</g>\n",
       "<!-- 139906908702224 -->\n",
       "<g class=\"node\" id=\"node5\">\n",
       "<title>139906908702224</title>\n",
       "<polygon fill=\"none\" points=\"0,-365.5 0,-401.5 214,-401.5 214,-365.5 0,-365.5\" stroke=\"#000000\"/>\n",
       "<text fill=\"#000000\" font-family=\"Times,serif\" font-size=\"14.00\" text-anchor=\"middle\" x=\"107\" y=\"-379.8\">max_pooling3d_13: MaxPooling3D</text>\n",
       "</g>\n",
       "<!-- 139909905265808&#45;&gt;139906908702224 -->\n",
       "<g class=\"edge\" id=\"edge4\">\n",
       "<title>139909905265808-&gt;139906908702224</title>\n",
       "<path d=\"M107,-438.4551C107,-430.3828 107,-420.6764 107,-411.6817\" fill=\"none\" stroke=\"#000000\"/>\n",
       "<polygon fill=\"#000000\" points=\"110.5001,-411.5903 107,-401.5904 103.5001,-411.5904 110.5001,-411.5903\" stroke=\"#000000\"/>\n",
       "</g>\n",
       "<!-- 139906908703696 -->\n",
       "<g class=\"node\" id=\"node6\">\n",
       "<title>139906908703696</title>\n",
       "<polygon fill=\"none\" points=\"42,-292.5 42,-328.5 172,-328.5 172,-292.5 42,-292.5\" stroke=\"#000000\"/>\n",
       "<text fill=\"#000000\" font-family=\"Times,serif\" font-size=\"14.00\" text-anchor=\"middle\" x=\"107\" y=\"-306.8\">conv3d_14: Conv3D</text>\n",
       "</g>\n",
       "<!-- 139906908702224&#45;&gt;139906908703696 -->\n",
       "<g class=\"edge\" id=\"edge5\">\n",
       "<title>139906908702224-&gt;139906908703696</title>\n",
       "<path d=\"M107,-365.4551C107,-357.3828 107,-347.6764 107,-338.6817\" fill=\"none\" stroke=\"#000000\"/>\n",
       "<polygon fill=\"#000000\" points=\"110.5001,-338.5903 107,-328.5904 103.5001,-338.5904 110.5001,-338.5903\" stroke=\"#000000\"/>\n",
       "</g>\n",
       "<!-- 139906907610320 -->\n",
       "<g class=\"node\" id=\"node7\">\n",
       "<title>139906907610320</title>\n",
       "<polygon fill=\"none\" points=\"0,-219.5 0,-255.5 214,-255.5 214,-219.5 0,-219.5\" stroke=\"#000000\"/>\n",
       "<text fill=\"#000000\" font-family=\"Times,serif\" font-size=\"14.00\" text-anchor=\"middle\" x=\"107\" y=\"-233.8\">max_pooling3d_14: MaxPooling3D</text>\n",
       "</g>\n",
       "<!-- 139906908703696&#45;&gt;139906907610320 -->\n",
       "<g class=\"edge\" id=\"edge6\">\n",
       "<title>139906908703696-&gt;139906907610320</title>\n",
       "<path d=\"M107,-292.4551C107,-284.3828 107,-274.6764 107,-265.6817\" fill=\"none\" stroke=\"#000000\"/>\n",
       "<polygon fill=\"#000000\" points=\"110.5001,-265.5903 107,-255.5904 103.5001,-265.5904 110.5001,-265.5903\" stroke=\"#000000\"/>\n",
       "</g>\n",
       "<!-- 139906907611024 -->\n",
       "<g class=\"node\" id=\"node8\">\n",
       "<title>139906907611024</title>\n",
       "<polygon fill=\"none\" points=\"49,-146.5 49,-182.5 165,-182.5 165,-146.5 49,-146.5\" stroke=\"#000000\"/>\n",
       "<text fill=\"#000000\" font-family=\"Times,serif\" font-size=\"14.00\" text-anchor=\"middle\" x=\"107\" y=\"-160.8\">flatten_14: Flatten</text>\n",
       "</g>\n",
       "<!-- 139906907610320&#45;&gt;139906907611024 -->\n",
       "<g class=\"edge\" id=\"edge7\">\n",
       "<title>139906907610320-&gt;139906907611024</title>\n",
       "<path d=\"M107,-219.4551C107,-211.3828 107,-201.6764 107,-192.6817\" fill=\"none\" stroke=\"#000000\"/>\n",
       "<polygon fill=\"#000000\" points=\"110.5001,-192.5903 107,-182.5904 103.5001,-192.5904 110.5001,-192.5903\" stroke=\"#000000\"/>\n",
       "</g>\n",
       "<!-- 139906907744976 -->\n",
       "<g class=\"node\" id=\"node9\">\n",
       "<title>139906907744976</title>\n",
       "<polygon fill=\"none\" points=\"52.5,-73.5 52.5,-109.5 161.5,-109.5 161.5,-73.5 52.5,-73.5\" stroke=\"#000000\"/>\n",
       "<text fill=\"#000000\" font-family=\"Times,serif\" font-size=\"14.00\" text-anchor=\"middle\" x=\"107\" y=\"-87.8\">dense_31: Dense</text>\n",
       "</g>\n",
       "<!-- 139906907611024&#45;&gt;139906907744976 -->\n",
       "<g class=\"edge\" id=\"edge8\">\n",
       "<title>139906907611024-&gt;139906907744976</title>\n",
       "<path d=\"M107,-146.4551C107,-138.3828 107,-128.6764 107,-119.6817\" fill=\"none\" stroke=\"#000000\"/>\n",
       "<polygon fill=\"#000000\" points=\"110.5001,-119.5903 107,-109.5904 103.5001,-119.5904 110.5001,-119.5903\" stroke=\"#000000\"/>\n",
       "</g>\n",
       "<!-- 139906908700816 -->\n",
       "<g class=\"node\" id=\"node10\">\n",
       "<title>139906908700816</title>\n",
       "<polygon fill=\"none\" points=\"52.5,-.5 52.5,-36.5 161.5,-36.5 161.5,-.5 52.5,-.5\" stroke=\"#000000\"/>\n",
       "<text fill=\"#000000\" font-family=\"Times,serif\" font-size=\"14.00\" text-anchor=\"middle\" x=\"107\" y=\"-14.8\">dense_32: Dense</text>\n",
       "</g>\n",
       "<!-- 139906907744976&#45;&gt;139906908700816 -->\n",
       "<g class=\"edge\" id=\"edge9\">\n",
       "<title>139906907744976-&gt;139906908700816</title>\n",
       "<path d=\"M107,-73.4551C107,-65.3828 107,-55.6764 107,-46.6817\" fill=\"none\" stroke=\"#000000\"/>\n",
       "<polygon fill=\"#000000\" points=\"110.5001,-46.5903 107,-36.5904 103.5001,-46.5904 110.5001,-46.5903\" stroke=\"#000000\"/>\n",
       "</g>\n",
       "</g>\n",
       "</svg>"
      ],
      "text/plain": [
       "<IPython.core.display.SVG object>"
      ]
     },
     "execution_count": 26,
     "metadata": {},
     "output_type": "execute_result"
    }
   ],
   "source": [
    "SVG(model_to_dot(arquitectura).create(prog='dot', format='svg'))"
   ]
  },
  {
   "cell_type": "markdown",
   "metadata": {},
   "source": [
    "\n",
    "3. Redes convolucionales (2D o 3D) para extraer caract y luego alimentar una red recurrente con vectores 1D. (*two level network*)\n",
    ">> CRNN (2D or 3D -Convs -> to RNN)"
   ]
  },
  {
   "cell_type": "code",
   "execution_count": 30,
   "metadata": {
    "collapsed": false
   },
   "outputs": [
    {
     "name": "stdout",
     "output_type": "stream",
     "text": [
      "_________________________________________________________________\n",
      "Layer (type)                 Output Shape              Param #   \n",
      "=================================================================\n",
      "input_18 (InputLayer)        (None, 50, 40, 40, 3)     0         \n",
      "_________________________________________________________________\n",
      "time_distributed_11 (TimeDis (None, 50, 40, 40, 16)    448       \n",
      "_________________________________________________________________\n",
      "time_distributed_12 (TimeDis (None, 50, 20, 20, 16)    0         \n",
      "_________________________________________________________________\n",
      "time_distributed_13 (TimeDis (None, 50, 20, 20, 32)    4640      \n",
      "_________________________________________________________________\n",
      "time_distributed_14 (TimeDis (None, 50, 10, 10, 32)    0         \n",
      "_________________________________________________________________\n",
      "reshape_4 (Reshape)          (None, 50, 3200)          0         \n",
      "_________________________________________________________________\n",
      "gru_3 (GRU)                  (None, 50, 128)           1278336   \n",
      "_________________________________________________________________\n",
      "gru_4 (GRU)                  (None, 128)               98688     \n",
      "_________________________________________________________________\n",
      "dense_35 (Dense)             (None, 1)                 129       \n",
      "=================================================================\n",
      "Total params: 1,382,241\n",
      "Trainable params: 1,382,241\n",
      "Non-trainable params: 0\n",
      "_________________________________________________________________\n"
     ]
    }
   ],
   "source": [
    "i1 = Input(shape=(T,W,H,C))#four dimensional array (3 without the channels of the image) \n",
    "#extraer caracteristicas\n",
    "kernel_size = (3,3,3) # tercera es el largo temporal\n",
    "f1 = TimeDistributed(Conv2D(16,(3,3),strides=(1, 1), padding='same', data_format=None, activation='relu'))(i1)\n",
    "f1 = TimeDistributed(MaxPool2D((2,2)))(f1)\n",
    "f2 = TimeDistributed(Conv2D(32,(3,3),strides=(1, 1), padding='same', data_format=None, activation='relu'))(f1)\n",
    "f2 = TimeDistributed(MaxPool2D((2,2)))(f2)\n",
    "\n",
    "#flatten\n",
    "aux = f2.get_shape().as_list()\n",
    "r1 = Reshape((aux[1],aux[2]*aux[3]*aux[4]))(f2)\n",
    "\n",
    "#recurrencia\n",
    "f2 = GRU(128,return_sequences=True)(r1)\n",
    "#a uno\n",
    "f3 = GRU(128,return_sequences=False)(f2)\n",
    "\n",
    "#clasificacion\n",
    "f4 = Dense(1,activation='linear')(f3)\n",
    "\n",
    "arquitectura = Model(i1,f4)\n",
    "arquitectura.summary()"
   ]
  },
  {
   "cell_type": "code",
   "execution_count": 32,
   "metadata": {
    "collapsed": false,
    "scrolled": true
   },
   "outputs": [
    {
     "data": {
      "image/svg+xml": [
       "<svg height=\"629pt\" viewBox=\"0.00 0.00 433.00 629.00\" width=\"433pt\" xmlns=\"http://www.w3.org/2000/svg\" xmlns:xlink=\"http://www.w3.org/1999/xlink\">\n",
       "<g class=\"graph\" id=\"graph0\" transform=\"scale(1 1) rotate(0) translate(4 625)\">\n",
       "<title>G</title>\n",
       "<polygon fill=\"#ffffff\" points=\"-4,4 -4,-625 429,-625 429,4 -4,4\" stroke=\"transparent\"/>\n",
       "<!-- 139906893501008 -->\n",
       "<g class=\"node\" id=\"node1\">\n",
       "<title>139906893501008</title>\n",
       "<polygon fill=\"none\" points=\"146.5,-584.5 146.5,-620.5 278.5,-620.5 278.5,-584.5 146.5,-584.5\" stroke=\"#000000\"/>\n",
       "<text fill=\"#000000\" font-family=\"Times,serif\" font-size=\"14.00\" text-anchor=\"middle\" x=\"212.5\" y=\"-598.8\">input_18: InputLayer</text>\n",
       "</g>\n",
       "<!-- 139906893501072 -->\n",
       "<g class=\"node\" id=\"node2\">\n",
       "<title>139906893501072</title>\n",
       "<polygon fill=\"none\" points=\"42,-511.5 42,-547.5 383,-547.5 383,-511.5 42,-511.5\" stroke=\"#000000\"/>\n",
       "<text fill=\"#000000\" font-family=\"Times,serif\" font-size=\"14.00\" text-anchor=\"middle\" x=\"212.5\" y=\"-525.8\">time_distributed_11(conv2d_6): TimeDistributed(Conv2D)</text>\n",
       "</g>\n",
       "<!-- 139906893501008&#45;&gt;139906893501072 -->\n",
       "<g class=\"edge\" id=\"edge1\">\n",
       "<title>139906893501008-&gt;139906893501072</title>\n",
       "<path d=\"M212.5,-584.4551C212.5,-576.3828 212.5,-566.6764 212.5,-557.6817\" fill=\"none\" stroke=\"#000000\"/>\n",
       "<polygon fill=\"#000000\" points=\"216.0001,-557.5903 212.5,-547.5904 209.0001,-557.5904 216.0001,-557.5903\" stroke=\"#000000\"/>\n",
       "</g>\n",
       "<!-- 139906893501456 -->\n",
       "<g class=\"node\" id=\"node3\">\n",
       "<title>139906893501456</title>\n",
       "<polygon fill=\"none\" points=\"0,-438.5 0,-474.5 425,-474.5 425,-438.5 0,-438.5\" stroke=\"#000000\"/>\n",
       "<text fill=\"#000000\" font-family=\"Times,serif\" font-size=\"14.00\" text-anchor=\"middle\" x=\"212.5\" y=\"-452.8\">time_distributed_12(max_pooling2d_6): TimeDistributed(MaxPooling2D)</text>\n",
       "</g>\n",
       "<!-- 139906893501072&#45;&gt;139906893501456 -->\n",
       "<g class=\"edge\" id=\"edge2\">\n",
       "<title>139906893501072-&gt;139906893501456</title>\n",
       "<path d=\"M212.5,-511.4551C212.5,-503.3828 212.5,-493.6764 212.5,-484.6817\" fill=\"none\" stroke=\"#000000\"/>\n",
       "<polygon fill=\"#000000\" points=\"216.0001,-484.5903 212.5,-474.5904 209.0001,-484.5904 216.0001,-484.5903\" stroke=\"#000000\"/>\n",
       "</g>\n",
       "<!-- 139906893503632 -->\n",
       "<g class=\"node\" id=\"node4\">\n",
       "<title>139906893503632</title>\n",
       "<polygon fill=\"none\" points=\"42,-365.5 42,-401.5 383,-401.5 383,-365.5 42,-365.5\" stroke=\"#000000\"/>\n",
       "<text fill=\"#000000\" font-family=\"Times,serif\" font-size=\"14.00\" text-anchor=\"middle\" x=\"212.5\" y=\"-379.8\">time_distributed_13(conv2d_7): TimeDistributed(Conv2D)</text>\n",
       "</g>\n",
       "<!-- 139906893501456&#45;&gt;139906893503632 -->\n",
       "<g class=\"edge\" id=\"edge3\">\n",
       "<title>139906893501456-&gt;139906893503632</title>\n",
       "<path d=\"M212.5,-438.4551C212.5,-430.3828 212.5,-420.6764 212.5,-411.6817\" fill=\"none\" stroke=\"#000000\"/>\n",
       "<polygon fill=\"#000000\" points=\"216.0001,-411.5903 212.5,-401.5904 209.0001,-411.5904 216.0001,-411.5903\" stroke=\"#000000\"/>\n",
       "</g>\n",
       "<!-- 139906893625360 -->\n",
       "<g class=\"node\" id=\"node5\">\n",
       "<title>139906893625360</title>\n",
       "<polygon fill=\"none\" points=\"0,-292.5 0,-328.5 425,-328.5 425,-292.5 0,-292.5\" stroke=\"#000000\"/>\n",
       "<text fill=\"#000000\" font-family=\"Times,serif\" font-size=\"14.00\" text-anchor=\"middle\" x=\"212.5\" y=\"-306.8\">time_distributed_14(max_pooling2d_7): TimeDistributed(MaxPooling2D)</text>\n",
       "</g>\n",
       "<!-- 139906893503632&#45;&gt;139906893625360 -->\n",
       "<g class=\"edge\" id=\"edge4\">\n",
       "<title>139906893503632-&gt;139906893625360</title>\n",
       "<path d=\"M212.5,-365.4551C212.5,-357.3828 212.5,-347.6764 212.5,-338.6817\" fill=\"none\" stroke=\"#000000\"/>\n",
       "<polygon fill=\"#000000\" points=\"216.0001,-338.5903 212.5,-328.5904 209.0001,-338.5904 216.0001,-338.5903\" stroke=\"#000000\"/>\n",
       "</g>\n",
       "<!-- 139906893625104 -->\n",
       "<g class=\"node\" id=\"node6\">\n",
       "<title>139906893625104</title>\n",
       "<polygon fill=\"none\" points=\"150,-219.5 150,-255.5 275,-255.5 275,-219.5 150,-219.5\" stroke=\"#000000\"/>\n",
       "<text fill=\"#000000\" font-family=\"Times,serif\" font-size=\"14.00\" text-anchor=\"middle\" x=\"212.5\" y=\"-233.8\">reshape_4: Reshape</text>\n",
       "</g>\n",
       "<!-- 139906893625360&#45;&gt;139906893625104 -->\n",
       "<g class=\"edge\" id=\"edge5\">\n",
       "<title>139906893625360-&gt;139906893625104</title>\n",
       "<path d=\"M212.5,-292.4551C212.5,-284.3828 212.5,-274.6764 212.5,-265.6817\" fill=\"none\" stroke=\"#000000\"/>\n",
       "<polygon fill=\"#000000\" points=\"216.0001,-265.5903 212.5,-255.5904 209.0001,-265.5904 216.0001,-265.5903\" stroke=\"#000000\"/>\n",
       "</g>\n",
       "<!-- 139906893624976 -->\n",
       "<g class=\"node\" id=\"node7\">\n",
       "<title>139906893624976</title>\n",
       "<polygon fill=\"none\" points=\"170.5,-146.5 170.5,-182.5 254.5,-182.5 254.5,-146.5 170.5,-146.5\" stroke=\"#000000\"/>\n",
       "<text fill=\"#000000\" font-family=\"Times,serif\" font-size=\"14.00\" text-anchor=\"middle\" x=\"212.5\" y=\"-160.8\">gru_3: GRU</text>\n",
       "</g>\n",
       "<!-- 139906893625104&#45;&gt;139906893624976 -->\n",
       "<g class=\"edge\" id=\"edge6\">\n",
       "<title>139906893625104-&gt;139906893624976</title>\n",
       "<path d=\"M212.5,-219.4551C212.5,-211.3828 212.5,-201.6764 212.5,-192.6817\" fill=\"none\" stroke=\"#000000\"/>\n",
       "<polygon fill=\"#000000\" points=\"216.0001,-192.5903 212.5,-182.5904 209.0001,-192.5904 216.0001,-192.5903\" stroke=\"#000000\"/>\n",
       "</g>\n",
       "<!-- 139906892924240 -->\n",
       "<g class=\"node\" id=\"node8\">\n",
       "<title>139906892924240</title>\n",
       "<polygon fill=\"none\" points=\"170.5,-73.5 170.5,-109.5 254.5,-109.5 254.5,-73.5 170.5,-73.5\" stroke=\"#000000\"/>\n",
       "<text fill=\"#000000\" font-family=\"Times,serif\" font-size=\"14.00\" text-anchor=\"middle\" x=\"212.5\" y=\"-87.8\">gru_4: GRU</text>\n",
       "</g>\n",
       "<!-- 139906893624976&#45;&gt;139906892924240 -->\n",
       "<g class=\"edge\" id=\"edge7\">\n",
       "<title>139906893624976-&gt;139906892924240</title>\n",
       "<path d=\"M212.5,-146.4551C212.5,-138.3828 212.5,-128.6764 212.5,-119.6817\" fill=\"none\" stroke=\"#000000\"/>\n",
       "<polygon fill=\"#000000\" points=\"216.0001,-119.5903 212.5,-109.5904 209.0001,-119.5904 216.0001,-119.5903\" stroke=\"#000000\"/>\n",
       "</g>\n",
       "<!-- 139906892924368 -->\n",
       "<g class=\"node\" id=\"node9\">\n",
       "<title>139906892924368</title>\n",
       "<polygon fill=\"none\" points=\"158,-.5 158,-36.5 267,-36.5 267,-.5 158,-.5\" stroke=\"#000000\"/>\n",
       "<text fill=\"#000000\" font-family=\"Times,serif\" font-size=\"14.00\" text-anchor=\"middle\" x=\"212.5\" y=\"-14.8\">dense_35: Dense</text>\n",
       "</g>\n",
       "<!-- 139906892924240&#45;&gt;139906892924368 -->\n",
       "<g class=\"edge\" id=\"edge8\">\n",
       "<title>139906892924240-&gt;139906892924368</title>\n",
       "<path d=\"M212.5,-73.4551C212.5,-65.3828 212.5,-55.6764 212.5,-46.6817\" fill=\"none\" stroke=\"#000000\"/>\n",
       "<polygon fill=\"#000000\" points=\"216.0001,-46.5903 212.5,-36.5904 209.0001,-46.5904 216.0001,-46.5903\" stroke=\"#000000\"/>\n",
       "</g>\n",
       "</g>\n",
       "</svg>"
      ],
      "text/plain": [
       "<IPython.core.display.SVG object>"
      ]
     },
     "execution_count": 32,
     "metadata": {},
     "output_type": "execute_result"
    }
   ],
   "source": [
    "SVG(model_to_dot(arquitectura).create(prog='dot', format='svg'))"
   ]
  },
  {
   "cell_type": "markdown",
   "metadata": {},
   "source": [
    "4. Redes convolucionales 2D a cada instante de tiempo, para entregar una salida final\n",
    ">> 2D-CNN (CNN with 2D kernel -> to end)"
   ]
  },
  {
   "cell_type": "code",
   "execution_count": null,
   "metadata": {
    "collapsed": true
   },
   "outputs": [],
   "source": []
  },
  {
   "cell_type": "markdown",
   "metadata": {},
   "source": [
    "5. MLP"
   ]
  },
  {
   "cell_type": "code",
   "execution_count": 33,
   "metadata": {
    "collapsed": false
   },
   "outputs": [
    {
     "name": "stdout",
     "output_type": "stream",
     "text": [
      "_________________________________________________________________\n",
      "Layer (type)                 Output Shape              Param #   \n",
      "=================================================================\n",
      "input_19 (InputLayer)        (None, 240000)            0         \n",
      "_________________________________________________________________\n",
      "dense_36 (Dense)             (None, 1024)              245761024 \n",
      "_________________________________________________________________\n",
      "dense_37 (Dense)             (None, 1024)              1049600   \n",
      "_________________________________________________________________\n",
      "dense_38 (Dense)             (None, 1)                 1025      \n",
      "=================================================================\n",
      "Total params: 246,811,649\n",
      "Trainable params: 246,811,649\n",
      "Non-trainable params: 0\n",
      "_________________________________________________________________\n"
     ]
    }
   ],
   "source": [
    "i1 = Input(shape=(np.prod((T,W,H,C)),))#four dimensional array (3 without the channels of the image) \n",
    "#extraer caracteristicas\n",
    "f1 = Dense(1024,activation='relu')(i1)\n",
    "f1 = Dense(1024,activation='relu')(f1)\n",
    "\n",
    "#clasificacion\n",
    "f4 = Dense(1,activation='linear')(f1)\n",
    "\n",
    "arquitectura = Model(i1,f4)\n",
    "arquitectura.summary()"
   ]
  },
  {
   "cell_type": "markdown",
   "metadata": {},
   "source": [
    "### Prueba de concepto\n",
    "---"
   ]
  },
  {
   "cell_type": "code",
   "execution_count": 16,
   "metadata": {
    "collapsed": false,
    "scrolled": true
   },
   "outputs": [
    {
     "name": "stdout",
     "output_type": "stream",
     "text": [
      "Epoch 1/10\n",
      "1000/1000 [==============================] - 88s 88ms/step - loss: 12.6523\n",
      "Epoch 2/10\n",
      "1000/1000 [==============================] - 82s 82ms/step - loss: 0.3297\n",
      "Epoch 3/10\n",
      "  64/1000 [>.............................] - ETA: 1:15 - loss: 0.2506"
     ]
    },
    {
     "ename": "KeyboardInterrupt",
     "evalue": "",
     "output_type": "error",
     "traceback": [
      "\u001b[0;31m---------------------------------------------------------------------------\u001b[0m",
      "\u001b[0;31mKeyboardInterrupt\u001b[0m                         Traceback (most recent call last)",
      "\u001b[0;32m<ipython-input-16-ef50781bc721>\u001b[0m in \u001b[0;36m<module>\u001b[0;34m()\u001b[0m\n\u001b[1;32m      1\u001b[0m \u001b[0marquitectura\u001b[0m\u001b[0;34m.\u001b[0m\u001b[0mcompile\u001b[0m\u001b[0;34m(\u001b[0m\u001b[0mloss\u001b[0m\u001b[0;34m=\u001b[0m\u001b[0;34m'mse'\u001b[0m\u001b[0;34m,\u001b[0m\u001b[0moptimizer\u001b[0m\u001b[0;34m=\u001b[0m\u001b[0;34m'rmsprop'\u001b[0m\u001b[0;34m)\u001b[0m\u001b[0;34m\u001b[0m\u001b[0m\n\u001b[0;32m----> 2\u001b[0;31m \u001b[0marquitectura\u001b[0m\u001b[0;34m.\u001b[0m\u001b[0mfit\u001b[0m\u001b[0;34m(\u001b[0m\u001b[0mdata_t\u001b[0m\u001b[0;34m,\u001b[0m\u001b[0mlabel_t\u001b[0m\u001b[0;34m,\u001b[0m \u001b[0mbatch_size\u001b[0m\u001b[0;34m=\u001b[0m\u001b[0;36m32\u001b[0m\u001b[0;34m,\u001b[0m\u001b[0mepochs\u001b[0m\u001b[0;34m=\u001b[0m\u001b[0;36m10\u001b[0m\u001b[0;34m)\u001b[0m\u001b[0;34m\u001b[0m\u001b[0m\n\u001b[0m",
      "\u001b[0;32m/home/casapanshop/anaconda2/lib/python2.7/site-packages/keras/engine/training.pyc\u001b[0m in \u001b[0;36mfit\u001b[0;34m(self, x, y, batch_size, epochs, verbose, callbacks, validation_split, validation_data, shuffle, class_weight, sample_weight, initial_epoch, steps_per_epoch, validation_steps, **kwargs)\u001b[0m\n\u001b[1;32m   1040\u001b[0m                                         \u001b[0minitial_epoch\u001b[0m\u001b[0;34m=\u001b[0m\u001b[0minitial_epoch\u001b[0m\u001b[0;34m,\u001b[0m\u001b[0;34m\u001b[0m\u001b[0m\n\u001b[1;32m   1041\u001b[0m                                         \u001b[0msteps_per_epoch\u001b[0m\u001b[0;34m=\u001b[0m\u001b[0msteps_per_epoch\u001b[0m\u001b[0;34m,\u001b[0m\u001b[0;34m\u001b[0m\u001b[0m\n\u001b[0;32m-> 1042\u001b[0;31m                                         validation_steps=validation_steps)\n\u001b[0m\u001b[1;32m   1043\u001b[0m \u001b[0;34m\u001b[0m\u001b[0m\n\u001b[1;32m   1044\u001b[0m     def evaluate(self, x=None, y=None,\n",
      "\u001b[0;32m/home/casapanshop/anaconda2/lib/python2.7/site-packages/keras/engine/training_arrays.pyc\u001b[0m in \u001b[0;36mfit_loop\u001b[0;34m(model, f, ins, out_labels, batch_size, epochs, verbose, callbacks, val_f, val_ins, shuffle, callback_metrics, initial_epoch, steps_per_epoch, validation_steps)\u001b[0m\n\u001b[1;32m    197\u001b[0m                     \u001b[0mins_batch\u001b[0m\u001b[0;34m[\u001b[0m\u001b[0mi\u001b[0m\u001b[0;34m]\u001b[0m \u001b[0;34m=\u001b[0m \u001b[0mins_batch\u001b[0m\u001b[0;34m[\u001b[0m\u001b[0mi\u001b[0m\u001b[0;34m]\u001b[0m\u001b[0;34m.\u001b[0m\u001b[0mtoarray\u001b[0m\u001b[0;34m(\u001b[0m\u001b[0;34m)\u001b[0m\u001b[0;34m\u001b[0m\u001b[0m\n\u001b[1;32m    198\u001b[0m \u001b[0;34m\u001b[0m\u001b[0m\n\u001b[0;32m--> 199\u001b[0;31m                 \u001b[0mouts\u001b[0m \u001b[0;34m=\u001b[0m \u001b[0mf\u001b[0m\u001b[0;34m(\u001b[0m\u001b[0mins_batch\u001b[0m\u001b[0;34m)\u001b[0m\u001b[0;34m\u001b[0m\u001b[0m\n\u001b[0m\u001b[1;32m    200\u001b[0m                 \u001b[0;32mif\u001b[0m \u001b[0;32mnot\u001b[0m \u001b[0misinstance\u001b[0m\u001b[0;34m(\u001b[0m\u001b[0mouts\u001b[0m\u001b[0;34m,\u001b[0m \u001b[0mlist\u001b[0m\u001b[0;34m)\u001b[0m\u001b[0;34m:\u001b[0m\u001b[0;34m\u001b[0m\u001b[0m\n\u001b[1;32m    201\u001b[0m                     \u001b[0mouts\u001b[0m \u001b[0;34m=\u001b[0m \u001b[0;34m[\u001b[0m\u001b[0mouts\u001b[0m\u001b[0;34m]\u001b[0m\u001b[0;34m\u001b[0m\u001b[0m\n",
      "\u001b[0;32m/home/casapanshop/anaconda2/lib/python2.7/site-packages/keras/backend/tensorflow_backend.pyc\u001b[0m in \u001b[0;36m__call__\u001b[0;34m(self, inputs)\u001b[0m\n\u001b[1;32m   2665\u001b[0m                     \u001b[0;34m'In order to feed symbolic tensors to a Keras model '\u001b[0m\u001b[0;34m\u001b[0m\u001b[0m\n\u001b[1;32m   2666\u001b[0m                     'in TensorFlow, you need tensorflow 1.8 or higher.')\n\u001b[0;32m-> 2667\u001b[0;31m             \u001b[0;32mreturn\u001b[0m \u001b[0mself\u001b[0m\u001b[0;34m.\u001b[0m\u001b[0m_legacy_call\u001b[0m\u001b[0;34m(\u001b[0m\u001b[0minputs\u001b[0m\u001b[0;34m)\u001b[0m\u001b[0;34m\u001b[0m\u001b[0m\n\u001b[0m\u001b[1;32m   2668\u001b[0m \u001b[0;34m\u001b[0m\u001b[0m\n\u001b[1;32m   2669\u001b[0m \u001b[0;34m\u001b[0m\u001b[0m\n",
      "\u001b[0;32m/home/casapanshop/anaconda2/lib/python2.7/site-packages/keras/backend/tensorflow_backend.pyc\u001b[0m in \u001b[0;36m_legacy_call\u001b[0;34m(self, inputs)\u001b[0m\n\u001b[1;32m   2647\u001b[0m         \u001b[0msession\u001b[0m \u001b[0;34m=\u001b[0m \u001b[0mget_session\u001b[0m\u001b[0;34m(\u001b[0m\u001b[0;34m)\u001b[0m\u001b[0;34m\u001b[0m\u001b[0m\n\u001b[1;32m   2648\u001b[0m         updated = session.run(fetches=fetches, feed_dict=feed_dict,\n\u001b[0;32m-> 2649\u001b[0;31m                               **self.session_kwargs)\n\u001b[0m\u001b[1;32m   2650\u001b[0m         \u001b[0;32mreturn\u001b[0m \u001b[0mupdated\u001b[0m\u001b[0;34m[\u001b[0m\u001b[0;34m:\u001b[0m\u001b[0mlen\u001b[0m\u001b[0;34m(\u001b[0m\u001b[0mself\u001b[0m\u001b[0;34m.\u001b[0m\u001b[0moutputs\u001b[0m\u001b[0;34m)\u001b[0m\u001b[0;34m]\u001b[0m\u001b[0;34m\u001b[0m\u001b[0m\n\u001b[1;32m   2651\u001b[0m \u001b[0;34m\u001b[0m\u001b[0m\n",
      "\u001b[0;32m/home/casapanshop/anaconda2/lib/python2.7/site-packages/tensorflow/python/client/session.pyc\u001b[0m in \u001b[0;36mrun\u001b[0;34m(self, fetches, feed_dict, options, run_metadata)\u001b[0m\n\u001b[1;32m    903\u001b[0m     \u001b[0;32mtry\u001b[0m\u001b[0;34m:\u001b[0m\u001b[0;34m\u001b[0m\u001b[0m\n\u001b[1;32m    904\u001b[0m       result = self._run(None, fetches, feed_dict, options_ptr,\n\u001b[0;32m--> 905\u001b[0;31m                          run_metadata_ptr)\n\u001b[0m\u001b[1;32m    906\u001b[0m       \u001b[0;32mif\u001b[0m \u001b[0mrun_metadata\u001b[0m\u001b[0;34m:\u001b[0m\u001b[0;34m\u001b[0m\u001b[0m\n\u001b[1;32m    907\u001b[0m         \u001b[0mproto_data\u001b[0m \u001b[0;34m=\u001b[0m \u001b[0mtf_session\u001b[0m\u001b[0;34m.\u001b[0m\u001b[0mTF_GetBuffer\u001b[0m\u001b[0;34m(\u001b[0m\u001b[0mrun_metadata_ptr\u001b[0m\u001b[0;34m)\u001b[0m\u001b[0;34m\u001b[0m\u001b[0m\n",
      "\u001b[0;32m/home/casapanshop/anaconda2/lib/python2.7/site-packages/tensorflow/python/client/session.pyc\u001b[0m in \u001b[0;36m_run\u001b[0;34m(self, handle, fetches, feed_dict, options, run_metadata)\u001b[0m\n\u001b[1;32m   1138\u001b[0m     \u001b[0;32mif\u001b[0m \u001b[0mfinal_fetches\u001b[0m \u001b[0;32mor\u001b[0m \u001b[0mfinal_targets\u001b[0m \u001b[0;32mor\u001b[0m \u001b[0;34m(\u001b[0m\u001b[0mhandle\u001b[0m \u001b[0;32mand\u001b[0m \u001b[0mfeed_dict_tensor\u001b[0m\u001b[0;34m)\u001b[0m\u001b[0;34m:\u001b[0m\u001b[0;34m\u001b[0m\u001b[0m\n\u001b[1;32m   1139\u001b[0m       results = self._do_run(handle, final_targets, final_fetches,\n\u001b[0;32m-> 1140\u001b[0;31m                              feed_dict_tensor, options, run_metadata)\n\u001b[0m\u001b[1;32m   1141\u001b[0m     \u001b[0;32melse\u001b[0m\u001b[0;34m:\u001b[0m\u001b[0;34m\u001b[0m\u001b[0m\n\u001b[1;32m   1142\u001b[0m       \u001b[0mresults\u001b[0m \u001b[0;34m=\u001b[0m \u001b[0;34m[\u001b[0m\u001b[0;34m]\u001b[0m\u001b[0;34m\u001b[0m\u001b[0m\n",
      "\u001b[0;32m/home/casapanshop/anaconda2/lib/python2.7/site-packages/tensorflow/python/client/session.pyc\u001b[0m in \u001b[0;36m_do_run\u001b[0;34m(self, handle, target_list, fetch_list, feed_dict, options, run_metadata)\u001b[0m\n\u001b[1;32m   1319\u001b[0m     \u001b[0;32mif\u001b[0m \u001b[0mhandle\u001b[0m \u001b[0;32mis\u001b[0m \u001b[0mNone\u001b[0m\u001b[0;34m:\u001b[0m\u001b[0;34m\u001b[0m\u001b[0m\n\u001b[1;32m   1320\u001b[0m       return self._do_call(_run_fn, feeds, fetches, targets, options,\n\u001b[0;32m-> 1321\u001b[0;31m                            run_metadata)\n\u001b[0m\u001b[1;32m   1322\u001b[0m     \u001b[0;32melse\u001b[0m\u001b[0;34m:\u001b[0m\u001b[0;34m\u001b[0m\u001b[0m\n\u001b[1;32m   1323\u001b[0m       \u001b[0;32mreturn\u001b[0m \u001b[0mself\u001b[0m\u001b[0;34m.\u001b[0m\u001b[0m_do_call\u001b[0m\u001b[0;34m(\u001b[0m\u001b[0m_prun_fn\u001b[0m\u001b[0;34m,\u001b[0m \u001b[0mhandle\u001b[0m\u001b[0;34m,\u001b[0m \u001b[0mfeeds\u001b[0m\u001b[0;34m,\u001b[0m \u001b[0mfetches\u001b[0m\u001b[0;34m)\u001b[0m\u001b[0;34m\u001b[0m\u001b[0m\n",
      "\u001b[0;32m/home/casapanshop/anaconda2/lib/python2.7/site-packages/tensorflow/python/client/session.pyc\u001b[0m in \u001b[0;36m_do_call\u001b[0;34m(self, fn, *args)\u001b[0m\n\u001b[1;32m   1325\u001b[0m   \u001b[0;32mdef\u001b[0m \u001b[0m_do_call\u001b[0m\u001b[0;34m(\u001b[0m\u001b[0mself\u001b[0m\u001b[0;34m,\u001b[0m \u001b[0mfn\u001b[0m\u001b[0;34m,\u001b[0m \u001b[0;34m*\u001b[0m\u001b[0margs\u001b[0m\u001b[0;34m)\u001b[0m\u001b[0;34m:\u001b[0m\u001b[0;34m\u001b[0m\u001b[0m\n\u001b[1;32m   1326\u001b[0m     \u001b[0;32mtry\u001b[0m\u001b[0;34m:\u001b[0m\u001b[0;34m\u001b[0m\u001b[0m\n\u001b[0;32m-> 1327\u001b[0;31m       \u001b[0;32mreturn\u001b[0m \u001b[0mfn\u001b[0m\u001b[0;34m(\u001b[0m\u001b[0;34m*\u001b[0m\u001b[0margs\u001b[0m\u001b[0;34m)\u001b[0m\u001b[0;34m\u001b[0m\u001b[0m\n\u001b[0m\u001b[1;32m   1328\u001b[0m     \u001b[0;32mexcept\u001b[0m \u001b[0merrors\u001b[0m\u001b[0;34m.\u001b[0m\u001b[0mOpError\u001b[0m \u001b[0;32mas\u001b[0m \u001b[0me\u001b[0m\u001b[0;34m:\u001b[0m\u001b[0;34m\u001b[0m\u001b[0m\n\u001b[1;32m   1329\u001b[0m       \u001b[0mmessage\u001b[0m \u001b[0;34m=\u001b[0m \u001b[0mcompat\u001b[0m\u001b[0;34m.\u001b[0m\u001b[0mas_text\u001b[0m\u001b[0;34m(\u001b[0m\u001b[0me\u001b[0m\u001b[0;34m.\u001b[0m\u001b[0mmessage\u001b[0m\u001b[0;34m)\u001b[0m\u001b[0;34m\u001b[0m\u001b[0m\n",
      "\u001b[0;32m/home/casapanshop/anaconda2/lib/python2.7/site-packages/tensorflow/python/client/session.pyc\u001b[0m in \u001b[0;36m_run_fn\u001b[0;34m(feed_dict, fetch_list, target_list, options, run_metadata)\u001b[0m\n\u001b[1;32m   1310\u001b[0m       \u001b[0mself\u001b[0m\u001b[0;34m.\u001b[0m\u001b[0m_extend_graph\u001b[0m\u001b[0;34m(\u001b[0m\u001b[0;34m)\u001b[0m\u001b[0;34m\u001b[0m\u001b[0m\n\u001b[1;32m   1311\u001b[0m       return self._call_tf_sessionrun(\n\u001b[0;32m-> 1312\u001b[0;31m           options, feed_dict, fetch_list, target_list, run_metadata)\n\u001b[0m\u001b[1;32m   1313\u001b[0m \u001b[0;34m\u001b[0m\u001b[0m\n\u001b[1;32m   1314\u001b[0m     \u001b[0;32mdef\u001b[0m \u001b[0m_prun_fn\u001b[0m\u001b[0;34m(\u001b[0m\u001b[0mhandle\u001b[0m\u001b[0;34m,\u001b[0m \u001b[0mfeed_dict\u001b[0m\u001b[0;34m,\u001b[0m \u001b[0mfetch_list\u001b[0m\u001b[0;34m)\u001b[0m\u001b[0;34m:\u001b[0m\u001b[0;34m\u001b[0m\u001b[0m\n",
      "\u001b[0;32m/home/casapanshop/anaconda2/lib/python2.7/site-packages/tensorflow/python/client/session.pyc\u001b[0m in \u001b[0;36m_call_tf_sessionrun\u001b[0;34m(self, options, feed_dict, fetch_list, target_list, run_metadata)\u001b[0m\n\u001b[1;32m   1418\u001b[0m         return tf_session.TF_Run(\n\u001b[1;32m   1419\u001b[0m             \u001b[0mself\u001b[0m\u001b[0;34m.\u001b[0m\u001b[0m_session\u001b[0m\u001b[0;34m,\u001b[0m \u001b[0moptions\u001b[0m\u001b[0;34m,\u001b[0m \u001b[0mfeed_dict\u001b[0m\u001b[0;34m,\u001b[0m \u001b[0mfetch_list\u001b[0m\u001b[0;34m,\u001b[0m \u001b[0mtarget_list\u001b[0m\u001b[0;34m,\u001b[0m\u001b[0;34m\u001b[0m\u001b[0m\n\u001b[0;32m-> 1420\u001b[0;31m             status, run_metadata)\n\u001b[0m\u001b[1;32m   1421\u001b[0m \u001b[0;34m\u001b[0m\u001b[0m\n\u001b[1;32m   1422\u001b[0m   \u001b[0;32mdef\u001b[0m \u001b[0m_call_tf_sessionprun\u001b[0m\u001b[0;34m(\u001b[0m\u001b[0mself\u001b[0m\u001b[0;34m,\u001b[0m \u001b[0mhandle\u001b[0m\u001b[0;34m,\u001b[0m \u001b[0mfeed_dict\u001b[0m\u001b[0;34m,\u001b[0m \u001b[0mfetch_list\u001b[0m\u001b[0;34m)\u001b[0m\u001b[0;34m:\u001b[0m\u001b[0;34m\u001b[0m\u001b[0m\n",
      "\u001b[0;31mKeyboardInterrupt\u001b[0m: "
     ]
    }
   ],
   "source": [
    "arquitectura.compile(loss='mse',optimizer='rmsprop')\n",
    "arquitectura.fit(data_t,label_t, batch_size=32,epochs=10)"
   ]
  },
  {
   "cell_type": "code",
   "execution_count": 25,
   "metadata": {
    "collapsed": false,
    "scrolled": true
   },
   "outputs": [
    {
     "name": "stdout",
     "output_type": "stream",
     "text": [
      "Epoch 1/10\n",
      "1000/1000 [==============================] - 10s 10ms/step - loss: 189.9605\n",
      "Epoch 2/10\n",
      "1000/1000 [==============================] - 8s 8ms/step - loss: 0.2969\n",
      "Epoch 3/10\n",
      "1000/1000 [==============================] - 8s 8ms/step - loss: 0.2831\n",
      "Epoch 4/10\n",
      " 160/1000 [===>..........................] - ETA: 6s - loss: 0.3409"
     ]
    },
    {
     "ename": "KeyboardInterrupt",
     "evalue": "",
     "output_type": "error",
     "traceback": [
      "\u001b[0;31m---------------------------------------------------------------------------\u001b[0m",
      "\u001b[0;31mKeyboardInterrupt\u001b[0m                         Traceback (most recent call last)",
      "\u001b[0;32m<ipython-input-25-ef50781bc721>\u001b[0m in \u001b[0;36m<module>\u001b[0;34m()\u001b[0m\n\u001b[1;32m      1\u001b[0m \u001b[0marquitectura\u001b[0m\u001b[0;34m.\u001b[0m\u001b[0mcompile\u001b[0m\u001b[0;34m(\u001b[0m\u001b[0mloss\u001b[0m\u001b[0;34m=\u001b[0m\u001b[0;34m'mse'\u001b[0m\u001b[0;34m,\u001b[0m\u001b[0moptimizer\u001b[0m\u001b[0;34m=\u001b[0m\u001b[0;34m'rmsprop'\u001b[0m\u001b[0;34m)\u001b[0m\u001b[0;34m\u001b[0m\u001b[0m\n\u001b[0;32m----> 2\u001b[0;31m \u001b[0marquitectura\u001b[0m\u001b[0;34m.\u001b[0m\u001b[0mfit\u001b[0m\u001b[0;34m(\u001b[0m\u001b[0mdata_t\u001b[0m\u001b[0;34m,\u001b[0m\u001b[0mlabel_t\u001b[0m\u001b[0;34m,\u001b[0m \u001b[0mbatch_size\u001b[0m\u001b[0;34m=\u001b[0m\u001b[0;36m32\u001b[0m\u001b[0;34m,\u001b[0m\u001b[0mepochs\u001b[0m\u001b[0;34m=\u001b[0m\u001b[0;36m10\u001b[0m\u001b[0;34m)\u001b[0m\u001b[0;34m\u001b[0m\u001b[0m\n\u001b[0m",
      "\u001b[0;32m/home/casapanshop/anaconda2/lib/python2.7/site-packages/keras/engine/training.pyc\u001b[0m in \u001b[0;36mfit\u001b[0;34m(self, x, y, batch_size, epochs, verbose, callbacks, validation_split, validation_data, shuffle, class_weight, sample_weight, initial_epoch, steps_per_epoch, validation_steps, **kwargs)\u001b[0m\n\u001b[1;32m   1040\u001b[0m                                         \u001b[0minitial_epoch\u001b[0m\u001b[0;34m=\u001b[0m\u001b[0minitial_epoch\u001b[0m\u001b[0;34m,\u001b[0m\u001b[0;34m\u001b[0m\u001b[0m\n\u001b[1;32m   1041\u001b[0m                                         \u001b[0msteps_per_epoch\u001b[0m\u001b[0;34m=\u001b[0m\u001b[0msteps_per_epoch\u001b[0m\u001b[0;34m,\u001b[0m\u001b[0;34m\u001b[0m\u001b[0m\n\u001b[0;32m-> 1042\u001b[0;31m                                         validation_steps=validation_steps)\n\u001b[0m\u001b[1;32m   1043\u001b[0m \u001b[0;34m\u001b[0m\u001b[0m\n\u001b[1;32m   1044\u001b[0m     def evaluate(self, x=None, y=None,\n",
      "\u001b[0;32m/home/casapanshop/anaconda2/lib/python2.7/site-packages/keras/engine/training_arrays.pyc\u001b[0m in \u001b[0;36mfit_loop\u001b[0;34m(model, f, ins, out_labels, batch_size, epochs, verbose, callbacks, val_f, val_ins, shuffle, callback_metrics, initial_epoch, steps_per_epoch, validation_steps)\u001b[0m\n\u001b[1;32m    185\u001b[0m                             ins[:-1], batch_ids) + [ins[-1]]\n\u001b[1;32m    186\u001b[0m                     \u001b[0;32melse\u001b[0m\u001b[0;34m:\u001b[0m\u001b[0;34m\u001b[0m\u001b[0m\n\u001b[0;32m--> 187\u001b[0;31m                         \u001b[0mins_batch\u001b[0m \u001b[0;34m=\u001b[0m \u001b[0mslice_arrays\u001b[0m\u001b[0;34m(\u001b[0m\u001b[0mins\u001b[0m\u001b[0;34m,\u001b[0m \u001b[0mbatch_ids\u001b[0m\u001b[0;34m)\u001b[0m\u001b[0;34m\u001b[0m\u001b[0m\n\u001b[0m\u001b[1;32m    188\u001b[0m                 \u001b[0;32mexcept\u001b[0m \u001b[0mTypeError\u001b[0m\u001b[0;34m:\u001b[0m\u001b[0;34m\u001b[0m\u001b[0m\n\u001b[1;32m    189\u001b[0m                     raise TypeError('TypeError while preparing batch. '\n",
      "\u001b[0;32m/home/casapanshop/anaconda2/lib/python2.7/site-packages/keras/utils/generic_utils.pyc\u001b[0m in \u001b[0;36mslice_arrays\u001b[0;34m(arrays, start, stop)\u001b[0m\n\u001b[1;32m    505\u001b[0m             \u001b[0;32mif\u001b[0m \u001b[0mhasattr\u001b[0m\u001b[0;34m(\u001b[0m\u001b[0mstart\u001b[0m\u001b[0;34m,\u001b[0m \u001b[0;34m'shape'\u001b[0m\u001b[0;34m)\u001b[0m\u001b[0;34m:\u001b[0m\u001b[0;34m\u001b[0m\u001b[0m\n\u001b[1;32m    506\u001b[0m                 \u001b[0mstart\u001b[0m \u001b[0;34m=\u001b[0m \u001b[0mstart\u001b[0m\u001b[0;34m.\u001b[0m\u001b[0mtolist\u001b[0m\u001b[0;34m(\u001b[0m\u001b[0;34m)\u001b[0m\u001b[0;34m\u001b[0m\u001b[0m\n\u001b[0;32m--> 507\u001b[0;31m             \u001b[0;32mreturn\u001b[0m \u001b[0;34m[\u001b[0m\u001b[0mNone\u001b[0m \u001b[0;32mif\u001b[0m \u001b[0mx\u001b[0m \u001b[0;32mis\u001b[0m \u001b[0mNone\u001b[0m \u001b[0;32melse\u001b[0m \u001b[0mx\u001b[0m\u001b[0;34m[\u001b[0m\u001b[0mstart\u001b[0m\u001b[0;34m]\u001b[0m \u001b[0;32mfor\u001b[0m \u001b[0mx\u001b[0m \u001b[0;32min\u001b[0m \u001b[0marrays\u001b[0m\u001b[0;34m]\u001b[0m\u001b[0;34m\u001b[0m\u001b[0m\n\u001b[0m\u001b[1;32m    508\u001b[0m         \u001b[0;32melse\u001b[0m\u001b[0;34m:\u001b[0m\u001b[0;34m\u001b[0m\u001b[0m\n\u001b[1;32m    509\u001b[0m             \u001b[0;32mreturn\u001b[0m \u001b[0;34m[\u001b[0m\u001b[0mNone\u001b[0m \u001b[0;32mif\u001b[0m \u001b[0mx\u001b[0m \u001b[0;32mis\u001b[0m \u001b[0mNone\u001b[0m \u001b[0;32melse\u001b[0m \u001b[0mx\u001b[0m\u001b[0;34m[\u001b[0m\u001b[0mstart\u001b[0m\u001b[0;34m:\u001b[0m\u001b[0mstop\u001b[0m\u001b[0;34m]\u001b[0m \u001b[0;32mfor\u001b[0m \u001b[0mx\u001b[0m \u001b[0;32min\u001b[0m \u001b[0marrays\u001b[0m\u001b[0;34m]\u001b[0m\u001b[0;34m\u001b[0m\u001b[0m\n",
      "\u001b[0;31mKeyboardInterrupt\u001b[0m: "
     ]
    }
   ],
   "source": [
    "arquitectura.compile(loss='mse',optimizer='rmsprop')\n",
    "arquitectura.fit(data_t,label_t, batch_size=32,epochs=10)"
   ]
  },
  {
   "cell_type": "code",
   "execution_count": 31,
   "metadata": {
    "collapsed": false,
    "scrolled": true
   },
   "outputs": [
    {
     "name": "stdout",
     "output_type": "stream",
     "text": [
      "Epoch 1/10\n",
      "1000/1000 [==============================] - 16s 16ms/step - loss: 1.1541\n",
      "Epoch 2/10\n",
      "1000/1000 [==============================] - 12s 12ms/step - loss: 0.3614\n",
      "Epoch 3/10\n",
      "1000/1000 [==============================] - 12s 12ms/step - loss: 0.3983\n",
      "Epoch 4/10\n",
      "1000/1000 [==============================] - 12s 12ms/step - loss: 0.3218\n",
      "Epoch 5/10\n",
      "1000/1000 [==============================] - 12s 12ms/step - loss: 0.2602\n",
      "Epoch 6/10\n",
      "1000/1000 [==============================] - 12s 12ms/step - loss: 0.1645\n",
      "Epoch 7/10\n",
      "1000/1000 [==============================] - 12s 12ms/step - loss: 0.0740\n",
      "Epoch 8/10\n",
      "1000/1000 [==============================] - 12s 12ms/step - loss: 0.0608\n",
      "Epoch 9/10\n",
      "1000/1000 [==============================] - 12s 12ms/step - loss: 0.0572\n",
      "Epoch 10/10\n",
      "1000/1000 [==============================] - 12s 12ms/step - loss: 0.0468\n"
     ]
    },
    {
     "data": {
      "text/plain": [
       "<keras.callbacks.History at 0x7f3e9c801c50>"
      ]
     },
     "execution_count": 31,
     "metadata": {},
     "output_type": "execute_result"
    }
   ],
   "source": [
    "arquitectura.compile(loss='mse',optimizer='rmsprop')\n",
    "arquitectura.fit(data_t,label_t, batch_size=32,epochs=10)"
   ]
  },
  {
   "cell_type": "code",
   "execution_count": null,
   "metadata": {
    "collapsed": true
   },
   "outputs": [],
   "source": []
  },
  {
   "cell_type": "markdown",
   "metadata": {},
   "source": [
    "### Posibles mejoras:\n",
    "* BatchNormalization\n",
    "* Dropout\n",
    "\n",
    "### Comentarios:\n",
    "Convolucional solo es mucho mas rápido  \n",
    "Recurrente obtiene mejores scores pero es mas lento\n"
   ]
  }
 ],
 "metadata": {
  "kernelspec": {
   "display_name": "Python 3",
   "language": "python",
   "name": "python3"
  },
  "language_info": {
   "codemirror_mode": {
    "name": "ipython",
    "version": 3
   },
   "file_extension": ".py",
   "mimetype": "text/x-python",
   "name": "python",
   "nbconvert_exporter": "python",
   "pygments_lexer": "ipython3",
   "version": "3.6.0"
  }
 },
 "nbformat": 4,
 "nbformat_minor": 2
}
