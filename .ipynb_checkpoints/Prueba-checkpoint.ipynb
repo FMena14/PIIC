{
 "cells": [
  {
   "cell_type": "code",
   "execution_count": 1,
   "metadata": {},
   "outputs": [],
   "source": [
    "import keras\n",
    "import numpy as np\n",
    "from keras.layers import *\n",
    "from keras.models import Sequential\n"
   ]
  },
  {
   "cell_type": "code",
   "execution_count": 31,
   "metadata": {},
   "outputs": [
    {
     "name": "stdout",
     "output_type": "stream",
     "text": [
      "_________________________________________________________________\n",
      "Layer (type)                 Output Shape              Param #   \n",
      "=================================================================\n",
      "masking_7 (Masking)          (None, 3, 2)              0         \n",
      "_________________________________________________________________\n",
      "gru_6 (GRU)                  (None, 3, 3)              54        \n",
      "_________________________________________________________________\n",
      "dense_4 (Dense)              (None, 3, 1)              4         \n",
      "=================================================================\n",
      "Total params: 58\n",
      "Trainable params: 58\n",
      "Non-trainable params: 0\n",
      "_________________________________________________________________\n"
     ]
    }
   ],
   "source": [
    "model = Sequential()\n",
    "model.add(Masking(mask_value=-1, input_shape=(3, 2)))\n",
    "model.add(GRU(3,return_sequences=True))\n",
    "model.add(Dense(1))\n",
    "model.summary()"
   ]
  },
  {
   "cell_type": "code",
   "execution_count": 29,
   "metadata": {},
   "outputs": [
    {
     "data": {
      "text/plain": [
       "array([[[-1, 14],\n",
       "        [-1, -1],\n",
       "        [ 5,  5]],\n",
       "\n",
       "       [[ 1,  2],\n",
       "        [ 1,  5],\n",
       "        [ 5,  6]]])"
      ]
     },
     "execution_count": 29,
     "metadata": {},
     "output_type": "execute_result"
    }
   ],
   "source": [
    "aux = np.asarray([[[-1,14],[-1,-1],[5,5]],[[1,2],[1,5],[5,6]]])#.reshape(aux.shape[0],aux.shape[1],1)\n",
    "aux"
   ]
  },
  {
   "cell_type": "code",
   "execution_count": 32,
   "metadata": {},
   "outputs": [
    {
     "data": {
      "text/plain": [
       "array([[[ 0.325468  ],\n",
       "        [ 0.325468  ],\n",
       "        [-0.58919764]],\n",
       "\n",
       "       [[ 0.13965449],\n",
       "        [ 0.54364693],\n",
       "        [-0.39772266]]], dtype=float32)"
      ]
     },
     "execution_count": 32,
     "metadata": {},
     "output_type": "execute_result"
    }
   ],
   "source": [
    "model.predict(aux)"
   ]
  }
 ],
 "metadata": {
  "kernelspec": {
   "display_name": "Python [conda env:py3]",
   "language": "python",
   "name": "conda-env-py3-py"
  },
  "language_info": {
   "codemirror_mode": {
    "name": "ipython",
    "version": 3
   },
   "file_extension": ".py",
   "mimetype": "text/x-python",
   "name": "python",
   "nbconvert_exporter": "python",
   "pygments_lexer": "ipython3",
   "version": "3.5.5"
  }
 },
 "nbformat": 4,
 "nbformat_minor": 2
}
