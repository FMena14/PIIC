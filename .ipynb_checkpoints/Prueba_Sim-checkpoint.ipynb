{
 "cells": [
  {
   "cell_type": "code",
   "execution_count": 1,
   "metadata": {
    "collapsed": false
   },
   "outputs": [
    {
     "name": "stderr",
     "output_type": "stream",
     "text": [
      "Using TensorFlow backend.\n"
     ]
    }
   ],
   "source": [
    "import keras\n",
    "from keras.layers import *\n",
    "from keras.models import Model, Sequential\n",
    "import numpy as np\n",
    "import matplotlib.pyplot as plt\n",
    "%matplotlib inline\n",
    "from IPython.display import SVG\n",
    "from keras.utils.vis_utils import model_to_dot"
   ]
  },
  {
   "cell_type": "code",
   "execution_count": 9,
   "metadata": {
    "collapsed": false
   },
   "outputs": [
    {
     "data": {
      "text/plain": [
       "(998, 48, 40, 50, 15)"
      ]
     },
     "execution_count": 9,
     "metadata": {},
     "output_type": "execute_result"
    }
   ],
   "source": [
    "X_ind_norm = np.load(\"./DataSim/inputX_verano_Independencia_norm.npy\")\n",
    "y_ind = np.load(\"./DataSim/targetY_verano_Independencia.npy\").astype('float32')\n",
    "\n",
    "N,T,W,H,Ch = X_ind_norm.shape\n",
    "X_ind_norm.shape"
   ]
  },
  {
   "cell_type": "code",
   "execution_count": null,
   "metadata": {
    "collapsed": true
   },
   "outputs": [],
   "source": [
    "#only a subset of the components\n"
   ]
  },
  {
   "cell_type": "code",
   "execution_count": 10,
   "metadata": {
    "collapsed": false
   },
   "outputs": [
    {
     "name": "stdout",
     "output_type": "stream",
     "text": [
      "Maximo calculado\n"
     ]
    },
    {
     "data": {
      "text/plain": [
       "(998,)"
      ]
     },
     "execution_count": 10,
     "metadata": {},
     "output_type": "execute_result"
    }
   ],
   "source": [
    "#o predecir el maximo en etiqueta...\n",
    "y_ind = np.nanmax(y_ind,axis=1)\n",
    "print(\"Maximo calculado\")\n",
    "y_ind.shape"
   ]
  },
  {
   "cell_type": "code",
   "execution_count": 18,
   "metadata": {
    "collapsed": false
   },
   "outputs": [
    {
     "data": {
      "text/plain": [
       "<matplotlib.image.AxesImage at 0x2aab269d1710>"
      ]
     },
     "execution_count": 18,
     "metadata": {},
     "output_type": "execute_result"
    },
    {
     "data": {
      "image/png": "[encoded data removed]",
      "text/plain": [
       "<matplotlib.figure.Figure at 0x2aab269660f0>"
      ]
     },
     "metadata": {},
     "output_type": "display_data"
    }
   ],
   "source": [
    "plt.imshow(X_ind_norm[0,30,:,:,-1])"
   ]
  },
  {
   "cell_type": "code",
   "execution_count": 26,
   "metadata": {
    "collapsed": false
   },
   "outputs": [
    {
     "name": "stdout",
     "output_type": "stream",
     "text": [
      "_________________________________________________________________\n",
      "Layer (type)                 Output Shape              Param #   \n",
      "=================================================================\n",
      "input_3 (InputLayer)         (None, 48, 40, 50, 3)     0         \n",
      "_________________________________________________________________\n",
      "conv3d_7 (Conv3D)            (None, 48, 40, 50, 16)    1312      \n",
      "_________________________________________________________________\n",
      "max_pooling3d_7 (MaxPooling3 (None, 24, 20, 25, 16)    0         \n",
      "_________________________________________________________________\n",
      "conv3d_8 (Conv3D)            (None, 24, 20, 25, 32)    13856     \n",
      "_________________________________________________________________\n",
      "max_pooling3d_8 (MaxPooling3 (None, 12, 10, 12, 32)    0         \n",
      "_________________________________________________________________\n",
      "conv3d_9 (Conv3D)            (None, 12, 10, 12, 64)    55360     \n",
      "_________________________________________________________________\n",
      "max_pooling3d_9 (MaxPooling3 (None, 6, 5, 6, 64)       0         \n",
      "_________________________________________________________________\n",
      "flatten_3 (Flatten)          (None, 11520)             0         \n",
      "_________________________________________________________________\n",
      "dense_5 (Dense)              (None, 512)               5898752   \n",
      "_________________________________________________________________\n",
      "dense_6 (Dense)              (None, 1)                 513       \n",
      "=================================================================\n",
      "Total params: 5,969,793\n",
      "Trainable params: 5,969,793\n",
      "Non-trainable params: 0\n",
      "_________________________________________________________________\n"
     ]
    }
   ],
   "source": [
    "#3d CNN\n",
    "i1 = Input(shape=(T,W,H,3)) #four dimensional array (3 without the channels of the image) \n",
    "#extraer caracteristicas\n",
    "kernel_size = (3,3,3) # tercera es el largo temporal\n",
    "f1 = Conv3D(16,kernel_size, strides=(1, 1, 1), padding='same', data_format=None, activation='relu')(i1)\n",
    "f1 = MaxPool3D((2,2,2))(f1)\n",
    "#drop\n",
    "f2 = Conv3D(32,kernel_size, strides=(1, 1, 1), padding='same', data_format=None, activation='relu')(f1)\n",
    "f2 = MaxPool3D((2,2,2))(f2)\n",
    "#drop\n",
    "\n",
    "#mas conv3D?\n",
    "f3 = Conv3D(64,kernel_size, strides=(1, 1, 1), padding='same', data_format=None, activation='relu')(f2)\n",
    "f3 = MaxPool3D((2,2,2))(f3)\n",
    "\n",
    "#flatten\n",
    "fla = Flatten()(f3)\n",
    "\n",
    "#dense\n",
    "f3 = Dense(512,activation='relu')(fla)\n",
    "\n",
    "#clasificacion\n",
    "f4 = Dense(1,activation='linear')(f3)\n",
    "\n",
    "arquitectura = Model(i1,f4)\n",
    "arquitectura.summary()"
   ]
  },
  {
   "cell_type": "code",
   "execution_count": 23,
   "metadata": {
    "collapsed": true
   },
   "outputs": [],
   "source": [
    "X_ind_norm = X_ind_norm[:,:,:,:,:3]"
   ]
  },
  {
   "cell_type": "code",
   "execution_count": null,
   "metadata": {
    "collapsed": false
   },
   "outputs": [
    {
     "name": "stdout",
     "output_type": "stream",
     "text": [
      "Epoch 1/10\n",
      "128/998 [==>...........................] - ETA: 420s - loss: 3612.3110"
     ]
    }
   ],
   "source": [
    "arquitectura.compile(loss='mse',optimizer='rmsprop')\n",
    "arquitectura.fit(X_ind_norm, y_ind, batch_size=128, epochs=10)"
   ]
  },
  {
   "cell_type": "code",
   "execution_count": null,
   "metadata": {
    "collapsed": true
   },
   "outputs": [],
   "source": []
  }
 ],
 "metadata": {
  "kernelspec": {
   "display_name": "Python 3",
   "language": "python",
   "name": "python3"
  },
  "language_info": {
   "codemirror_mode": {
    "name": "ipython",
    "version": 3
   },
   "file_extension": ".py",
   "mimetype": "text/x-python",
   "name": "python",
   "nbconvert_exporter": "python",
   "pygments_lexer": "ipython3",
   "version": "3.6.0"
  }
 },
 "nbformat": 4,
 "nbformat_minor": 2
}
