{
 "cells": [
  {
   "cell_type": "code",
   "execution_count": 3,
   "metadata": {},
   "outputs": [],
   "source": [
    "import pandas as pd\n",
    "import numpy as np\n",
    "import matplotlib.pyplot as plt\n",
    "import seaborn as sns\n",
    "import keras,gc,time\n",
    "from keras.layers import *\n",
    "from keras.models import Sequential,Model"
   ]
  },
  {
   "cell_type": "markdown",
   "metadata": {},
   "source": [
    "### Cargar datos"
   ]
  },
  {
   "cell_type": "code",
   "execution_count": 4,
   "metadata": {},
   "outputs": [
    {
     "data": {
      "text/html": [
       "<div>\n",
       "<style scoped>\n",
       "    .dataframe tbody tr th:only-of-type {\n",
       "        vertical-align: middle;\n",
       "    }\n",
       "\n",
       "    .dataframe tbody tr th {\n",
       "        vertical-align: top;\n",
       "    }\n",
       "\n",
       "    .dataframe thead th {\n",
       "        text-align: right;\n",
       "    }\n",
       "</style>\n",
       "<table border=\"1\" class=\"dataframe\">\n",
       "  <thead>\n",
       "    <tr style=\"text-align: right;\">\n",
       "      <th></th>\n",
       "      <th>registered_on</th>\n",
       "      <th>CO</th>\n",
       "      <th>PM10</th>\n",
       "      <th>PM25</th>\n",
       "      <th>NO2</th>\n",
       "      <th>NO</th>\n",
       "      <th>NOX</th>\n",
       "      <th>SO2</th>\n",
       "      <th>WD</th>\n",
       "      <th>RH</th>\n",
       "      <th>TEMP</th>\n",
       "      <th>WS</th>\n",
       "      <th>HCNM</th>\n",
       "      <th>UVA</th>\n",
       "      <th>UVB</th>\n",
       "      <th>O3</th>\n",
       "    </tr>\n",
       "  </thead>\n",
       "  <tbody>\n",
       "    <tr>\n",
       "      <th>0</th>\n",
       "      <td>1997-11-01 01:00:00</td>\n",
       "      <td>2.7</td>\n",
       "      <td>63.0</td>\n",
       "      <td>NaN</td>\n",
       "      <td>NaN</td>\n",
       "      <td>NaN</td>\n",
       "      <td>NaN</td>\n",
       "      <td>6.0</td>\n",
       "      <td>NaN</td>\n",
       "      <td>NaN</td>\n",
       "      <td>NaN</td>\n",
       "      <td>NaN</td>\n",
       "      <td>NaN</td>\n",
       "      <td>NaN</td>\n",
       "      <td>NaN</td>\n",
       "      <td>1.0</td>\n",
       "    </tr>\n",
       "    <tr>\n",
       "      <th>1</th>\n",
       "      <td>1997-11-01 02:00:00</td>\n",
       "      <td>2.6</td>\n",
       "      <td>54.0</td>\n",
       "      <td>NaN</td>\n",
       "      <td>NaN</td>\n",
       "      <td>NaN</td>\n",
       "      <td>NaN</td>\n",
       "      <td>6.0</td>\n",
       "      <td>NaN</td>\n",
       "      <td>NaN</td>\n",
       "      <td>NaN</td>\n",
       "      <td>NaN</td>\n",
       "      <td>NaN</td>\n",
       "      <td>NaN</td>\n",
       "      <td>NaN</td>\n",
       "      <td>1.0</td>\n",
       "    </tr>\n",
       "    <tr>\n",
       "      <th>2</th>\n",
       "      <td>1997-11-01 03:00:00</td>\n",
       "      <td>2.2</td>\n",
       "      <td>53.0</td>\n",
       "      <td>NaN</td>\n",
       "      <td>NaN</td>\n",
       "      <td>NaN</td>\n",
       "      <td>NaN</td>\n",
       "      <td>5.0</td>\n",
       "      <td>NaN</td>\n",
       "      <td>NaN</td>\n",
       "      <td>NaN</td>\n",
       "      <td>NaN</td>\n",
       "      <td>NaN</td>\n",
       "      <td>NaN</td>\n",
       "      <td>NaN</td>\n",
       "      <td>1.0</td>\n",
       "    </tr>\n",
       "    <tr>\n",
       "      <th>3</th>\n",
       "      <td>1997-11-01 04:00:00</td>\n",
       "      <td>2.5</td>\n",
       "      <td>65.0</td>\n",
       "      <td>NaN</td>\n",
       "      <td>NaN</td>\n",
       "      <td>NaN</td>\n",
       "      <td>NaN</td>\n",
       "      <td>5.0</td>\n",
       "      <td>NaN</td>\n",
       "      <td>NaN</td>\n",
       "      <td>NaN</td>\n",
       "      <td>NaN</td>\n",
       "      <td>NaN</td>\n",
       "      <td>NaN</td>\n",
       "      <td>NaN</td>\n",
       "      <td>1.0</td>\n",
       "    </tr>\n",
       "    <tr>\n",
       "      <th>4</th>\n",
       "      <td>1997-11-01 05:00:00</td>\n",
       "      <td>2.3</td>\n",
       "      <td>118.0</td>\n",
       "      <td>NaN</td>\n",
       "      <td>NaN</td>\n",
       "      <td>NaN</td>\n",
       "      <td>NaN</td>\n",
       "      <td>8.0</td>\n",
       "      <td>NaN</td>\n",
       "      <td>NaN</td>\n",
       "      <td>NaN</td>\n",
       "      <td>NaN</td>\n",
       "      <td>NaN</td>\n",
       "      <td>NaN</td>\n",
       "      <td>NaN</td>\n",
       "      <td>1.0</td>\n",
       "    </tr>\n",
       "  </tbody>\n",
       "</table>\n",
       "</div>"
      ],
      "text/plain": [
       "         registered_on   CO   PM10  PM25  NO2  NO  NOX  SO2  WD  RH  TEMP  WS  \\\n",
       "0  1997-11-01 01:00:00  2.7   63.0   NaN  NaN NaN  NaN  6.0 NaN NaN   NaN NaN   \n",
       "1  1997-11-01 02:00:00  2.6   54.0   NaN  NaN NaN  NaN  6.0 NaN NaN   NaN NaN   \n",
       "2  1997-11-01 03:00:00  2.2   53.0   NaN  NaN NaN  NaN  5.0 NaN NaN   NaN NaN   \n",
       "3  1997-11-01 04:00:00  2.5   65.0   NaN  NaN NaN  NaN  5.0 NaN NaN   NaN NaN   \n",
       "4  1997-11-01 05:00:00  2.3  118.0   NaN  NaN NaN  NaN  8.0 NaN NaN   NaN NaN   \n",
       "\n",
       "   HCNM  UVA  UVB   O3  \n",
       "0   NaN  NaN  NaN  1.0  \n",
       "1   NaN  NaN  NaN  1.0  \n",
       "2   NaN  NaN  NaN  1.0  \n",
       "3   NaN  NaN  NaN  1.0  \n",
       "4   NaN  NaN  NaN  1.0  "
      ]
     },
     "execution_count": 4,
     "metadata": {},
     "output_type": "execute_result"
    }
   ],
   "source": [
    "folder = \"../proyecto/datasets/\"\n",
    "df_independencia_verano = pd.read_csv(folder+\"dump-Independencia_2018-04-12_230000-verano.csv\")\n",
    "df_independencia_invierno = pd.read_csv(folder+\"dump-Independencia_2018-04-12_230000-invierno.csv\")\n",
    "\n",
    "df_condes_verano = pd.read_csv(folder+\"dump-Las_Condes_2018-04-12_230000-verano.csv\")\n",
    "df_condes_invierno = pd.read_csv(folder+\"dump-Las_Condes_2018-04-12_230000-invierno.csv\")\n",
    "\n",
    "df_independencia_verano.head()"
   ]
  },
  {
   "cell_type": "code",
   "execution_count": 5,
   "metadata": {},
   "outputs": [
    {
     "data": {
      "text/html": [
       "<div>\n",
       "<style scoped>\n",
       "    .dataframe tbody tr th:only-of-type {\n",
       "        vertical-align: middle;\n",
       "    }\n",
       "\n",
       "    .dataframe tbody tr th {\n",
       "        vertical-align: top;\n",
       "    }\n",
       "\n",
       "    .dataframe thead th {\n",
       "        text-align: right;\n",
       "    }\n",
       "</style>\n",
       "<table border=\"1\" class=\"dataframe\">\n",
       "  <thead>\n",
       "    <tr style=\"text-align: right;\">\n",
       "      <th></th>\n",
       "      <th>registered_on</th>\n",
       "      <th>CO</th>\n",
       "      <th>PM10</th>\n",
       "      <th>PM25</th>\n",
       "      <th>NO2</th>\n",
       "      <th>NO</th>\n",
       "      <th>NOX</th>\n",
       "      <th>SO2</th>\n",
       "      <th>WD</th>\n",
       "      <th>RH</th>\n",
       "      <th>TEMP</th>\n",
       "      <th>WS</th>\n",
       "      <th>HCNM</th>\n",
       "      <th>UVA</th>\n",
       "      <th>UVB</th>\n",
       "      <th>O3</th>\n",
       "    </tr>\n",
       "  </thead>\n",
       "  <tbody>\n",
       "    <tr>\n",
       "      <th>75081</th>\n",
       "      <td>2018-03-31 19:00:00</td>\n",
       "      <td>NaN</td>\n",
       "      <td>40.0</td>\n",
       "      <td>9.0</td>\n",
       "      <td>NaN</td>\n",
       "      <td>NaN</td>\n",
       "      <td>NaN</td>\n",
       "      <td>NaN</td>\n",
       "      <td>164.584</td>\n",
       "      <td>43.0000</td>\n",
       "      <td>21.5583</td>\n",
       "      <td>1.245590</td>\n",
       "      <td>NaN</td>\n",
       "      <td>0.0</td>\n",
       "      <td>0.0</td>\n",
       "      <td>6.86500</td>\n",
       "    </tr>\n",
       "    <tr>\n",
       "      <th>75082</th>\n",
       "      <td>2018-03-31 20:00:00</td>\n",
       "      <td>NaN</td>\n",
       "      <td>33.5</td>\n",
       "      <td>9.0</td>\n",
       "      <td>NaN</td>\n",
       "      <td>NaN</td>\n",
       "      <td>NaN</td>\n",
       "      <td>NaN</td>\n",
       "      <td>169.048</td>\n",
       "      <td>50.0000</td>\n",
       "      <td>19.5583</td>\n",
       "      <td>1.169250</td>\n",
       "      <td>NaN</td>\n",
       "      <td>0.0</td>\n",
       "      <td>0.0</td>\n",
       "      <td>5.95750</td>\n",
       "    </tr>\n",
       "    <tr>\n",
       "      <th>75083</th>\n",
       "      <td>2018-03-31 21:00:00</td>\n",
       "      <td>NaN</td>\n",
       "      <td>24.5</td>\n",
       "      <td>11.0</td>\n",
       "      <td>NaN</td>\n",
       "      <td>NaN</td>\n",
       "      <td>NaN</td>\n",
       "      <td>NaN</td>\n",
       "      <td>207.717</td>\n",
       "      <td>54.5833</td>\n",
       "      <td>17.8083</td>\n",
       "      <td>0.966588</td>\n",
       "      <td>NaN</td>\n",
       "      <td>0.0</td>\n",
       "      <td>0.0</td>\n",
       "      <td>8.92751</td>\n",
       "    </tr>\n",
       "    <tr>\n",
       "      <th>75084</th>\n",
       "      <td>2018-03-31 22:00:00</td>\n",
       "      <td>NaN</td>\n",
       "      <td>27.5</td>\n",
       "      <td>10.0</td>\n",
       "      <td>NaN</td>\n",
       "      <td>NaN</td>\n",
       "      <td>NaN</td>\n",
       "      <td>NaN</td>\n",
       "      <td>189.509</td>\n",
       "      <td>58.4167</td>\n",
       "      <td>16.6667</td>\n",
       "      <td>0.816365</td>\n",
       "      <td>NaN</td>\n",
       "      <td>0.0</td>\n",
       "      <td>0.0</td>\n",
       "      <td>4.88500</td>\n",
       "    </tr>\n",
       "    <tr>\n",
       "      <th>75085</th>\n",
       "      <td>2018-03-31 23:00:00</td>\n",
       "      <td>NaN</td>\n",
       "      <td>29.0</td>\n",
       "      <td>10.0</td>\n",
       "      <td>NaN</td>\n",
       "      <td>NaN</td>\n",
       "      <td>NaN</td>\n",
       "      <td>NaN</td>\n",
       "      <td>231.942</td>\n",
       "      <td>61.4167</td>\n",
       "      <td>15.9083</td>\n",
       "      <td>1.116220</td>\n",
       "      <td>NaN</td>\n",
       "      <td>0.0</td>\n",
       "      <td>0.0</td>\n",
       "      <td>2.41000</td>\n",
       "    </tr>\n",
       "  </tbody>\n",
       "</table>\n",
       "</div>"
      ],
      "text/plain": [
       "             registered_on  CO  PM10  PM25  NO2  NO  NOX  SO2       WD  \\\n",
       "75081  2018-03-31 19:00:00 NaN  40.0   9.0  NaN NaN  NaN  NaN  164.584   \n",
       "75082  2018-03-31 20:00:00 NaN  33.5   9.0  NaN NaN  NaN  NaN  169.048   \n",
       "75083  2018-03-31 21:00:00 NaN  24.5  11.0  NaN NaN  NaN  NaN  207.717   \n",
       "75084  2018-03-31 22:00:00 NaN  27.5  10.0  NaN NaN  NaN  NaN  189.509   \n",
       "75085  2018-03-31 23:00:00 NaN  29.0  10.0  NaN NaN  NaN  NaN  231.942   \n",
       "\n",
       "            RH     TEMP        WS  HCNM  UVA  UVB       O3  \n",
       "75081  43.0000  21.5583  1.245590   NaN  0.0  0.0  6.86500  \n",
       "75082  50.0000  19.5583  1.169250   NaN  0.0  0.0  5.95750  \n",
       "75083  54.5833  17.8083  0.966588   NaN  0.0  0.0  8.92751  \n",
       "75084  58.4167  16.6667  0.816365   NaN  0.0  0.0  4.88500  \n",
       "75085  61.4167  15.9083  1.116220   NaN  0.0  0.0  2.41000  "
      ]
     },
     "execution_count": 5,
     "metadata": {},
     "output_type": "execute_result"
    }
   ],
   "source": [
    "df_independencia_verano.tail()"
   ]
  },
  {
   "cell_type": "code",
   "execution_count": 6,
   "metadata": {},
   "outputs": [
    {
     "data": {
      "text/html": [
       "<div>\n",
       "<style scoped>\n",
       "    .dataframe tbody tr th:only-of-type {\n",
       "        vertical-align: middle;\n",
       "    }\n",
       "\n",
       "    .dataframe tbody tr th {\n",
       "        vertical-align: top;\n",
       "    }\n",
       "\n",
       "    .dataframe thead th {\n",
       "        text-align: right;\n",
       "    }\n",
       "</style>\n",
       "<table border=\"1\" class=\"dataframe\">\n",
       "  <thead>\n",
       "    <tr style=\"text-align: right;\">\n",
       "      <th></th>\n",
       "      <th>registered_on</th>\n",
       "      <th>CH4</th>\n",
       "      <th>CO</th>\n",
       "      <th>PM10</th>\n",
       "      <th>PM25</th>\n",
       "      <th>NO2</th>\n",
       "      <th>NO</th>\n",
       "      <th>NOX</th>\n",
       "      <th>SO2</th>\n",
       "      <th>WD</th>\n",
       "      <th>RH</th>\n",
       "      <th>TEMP</th>\n",
       "      <th>WS</th>\n",
       "      <th>HCNM</th>\n",
       "      <th>UVA</th>\n",
       "      <th>UVB</th>\n",
       "      <th>O3</th>\n",
       "    </tr>\n",
       "  </thead>\n",
       "  <tbody>\n",
       "    <tr>\n",
       "      <th>69390</th>\n",
       "      <td>2016-12-31 14:00:00</td>\n",
       "      <td>NaN</td>\n",
       "      <td>0.553417</td>\n",
       "      <td>53.0</td>\n",
       "      <td>24.0</td>\n",
       "      <td>7.0400</td>\n",
       "      <td>3.2450</td>\n",
       "      <td>10.28500</td>\n",
       "      <td>NaN</td>\n",
       "      <td>NaN</td>\n",
       "      <td>41.8333</td>\n",
       "      <td>26.6333</td>\n",
       "      <td>NaN</td>\n",
       "      <td>NaN</td>\n",
       "      <td>NaN</td>\n",
       "      <td>NaN</td>\n",
       "      <td>72.5233</td>\n",
       "    </tr>\n",
       "    <tr>\n",
       "      <th>69391</th>\n",
       "      <td>2016-12-31 15:00:00</td>\n",
       "      <td>NaN</td>\n",
       "      <td>0.467584</td>\n",
       "      <td>22.0</td>\n",
       "      <td>21.0</td>\n",
       "      <td>4.4825</td>\n",
       "      <td>2.7500</td>\n",
       "      <td>7.23250</td>\n",
       "      <td>NaN</td>\n",
       "      <td>NaN</td>\n",
       "      <td>39.3333</td>\n",
       "      <td>26.3167</td>\n",
       "      <td>NaN</td>\n",
       "      <td>NaN</td>\n",
       "      <td>NaN</td>\n",
       "      <td>NaN</td>\n",
       "      <td>58.9725</td>\n",
       "    </tr>\n",
       "    <tr>\n",
       "      <th>69392</th>\n",
       "      <td>2016-12-31 16:00:00</td>\n",
       "      <td>NaN</td>\n",
       "      <td>0.459000</td>\n",
       "      <td>16.5</td>\n",
       "      <td>13.0</td>\n",
       "      <td>3.4925</td>\n",
       "      <td>2.9975</td>\n",
       "      <td>6.49000</td>\n",
       "      <td>NaN</td>\n",
       "      <td>NaN</td>\n",
       "      <td>37.3333</td>\n",
       "      <td>26.0583</td>\n",
       "      <td>NaN</td>\n",
       "      <td>NaN</td>\n",
       "      <td>NaN</td>\n",
       "      <td>NaN</td>\n",
       "      <td>50.3033</td>\n",
       "    </tr>\n",
       "    <tr>\n",
       "      <th>69393</th>\n",
       "      <td>2016-12-31 17:00:00</td>\n",
       "      <td>NaN</td>\n",
       "      <td>0.459000</td>\n",
       "      <td>15.0</td>\n",
       "      <td>14.0</td>\n",
       "      <td>3.9050</td>\n",
       "      <td>3.4100</td>\n",
       "      <td>7.31500</td>\n",
       "      <td>NaN</td>\n",
       "      <td>NaN</td>\n",
       "      <td>36.3333</td>\n",
       "      <td>25.1417</td>\n",
       "      <td>NaN</td>\n",
       "      <td>NaN</td>\n",
       "      <td>NaN</td>\n",
       "      <td>NaN</td>\n",
       "      <td>42.9808</td>\n",
       "    </tr>\n",
       "    <tr>\n",
       "      <th>69394</th>\n",
       "      <td>2016-12-31 18:00:00</td>\n",
       "      <td>NaN</td>\n",
       "      <td>0.450417</td>\n",
       "      <td>NaN</td>\n",
       "      <td>NaN</td>\n",
       "      <td>6.6275</td>\n",
       "      <td>3.1625</td>\n",
       "      <td>9.79001</td>\n",
       "      <td>NaN</td>\n",
       "      <td>NaN</td>\n",
       "      <td>38.8333</td>\n",
       "      <td>24.1750</td>\n",
       "      <td>NaN</td>\n",
       "      <td>NaN</td>\n",
       "      <td>NaN</td>\n",
       "      <td>NaN</td>\n",
       "      <td>NaN</td>\n",
       "    </tr>\n",
       "  </tbody>\n",
       "</table>\n",
       "</div>"
      ],
      "text/plain": [
       "             registered_on  CH4        CO  PM10  PM25     NO2      NO  \\\n",
       "69390  2016-12-31 14:00:00  NaN  0.553417  53.0  24.0  7.0400  3.2450   \n",
       "69391  2016-12-31 15:00:00  NaN  0.467584  22.0  21.0  4.4825  2.7500   \n",
       "69392  2016-12-31 16:00:00  NaN  0.459000  16.5  13.0  3.4925  2.9975   \n",
       "69393  2016-12-31 17:00:00  NaN  0.459000  15.0  14.0  3.9050  3.4100   \n",
       "69394  2016-12-31 18:00:00  NaN  0.450417   NaN   NaN  6.6275  3.1625   \n",
       "\n",
       "            NOX  SO2  WD       RH     TEMP  WS  HCNM  UVA  UVB       O3  \n",
       "69390  10.28500  NaN NaN  41.8333  26.6333 NaN   NaN  NaN  NaN  72.5233  \n",
       "69391   7.23250  NaN NaN  39.3333  26.3167 NaN   NaN  NaN  NaN  58.9725  \n",
       "69392   6.49000  NaN NaN  37.3333  26.0583 NaN   NaN  NaN  NaN  50.3033  \n",
       "69393   7.31500  NaN NaN  36.3333  25.1417 NaN   NaN  NaN  NaN  42.9808  \n",
       "69394   9.79001  NaN NaN  38.8333  24.1750 NaN   NaN  NaN  NaN      NaN  "
      ]
     },
     "execution_count": 6,
     "metadata": {},
     "output_type": "execute_result"
    }
   ],
   "source": [
    "## ultimo año como test\n",
    "df_condes_verano_train = df_condes_verano[(df_condes_verano[\"registered_on\"]<\"2017\")]\n",
    "df_condes_invierno_train = df_condes_invierno[(df_condes_invierno[\"registered_on\"]<\"2017\")]\n",
    "df_condes_verano_test = df_condes_verano[df_condes_verano[\"registered_on\"]>=\"2017\"]\n",
    "df_condes_invierno_test = df_condes_invierno[df_condes_invierno[\"registered_on\"]>=\"2017\"]\n",
    "\n",
    "df_condes_verano_train.tail()"
   ]
  },
  {
   "cell_type": "code",
   "execution_count": 6,
   "metadata": {},
   "outputs": [
    {
     "data": {
      "text/html": [
       "<div>\n",
       "<style scoped>\n",
       "    .dataframe tbody tr th:only-of-type {\n",
       "        vertical-align: middle;\n",
       "    }\n",
       "\n",
       "    .dataframe tbody tr th {\n",
       "        vertical-align: top;\n",
       "    }\n",
       "\n",
       "    .dataframe thead th {\n",
       "        text-align: right;\n",
       "    }\n",
       "</style>\n",
       "<table border=\"1\" class=\"dataframe\">\n",
       "  <thead>\n",
       "    <tr style=\"text-align: right;\">\n",
       "      <th></th>\n",
       "      <th>registered_on</th>\n",
       "      <th>CH4</th>\n",
       "      <th>CO</th>\n",
       "      <th>PM10</th>\n",
       "      <th>PM25</th>\n",
       "      <th>NO2</th>\n",
       "      <th>NO</th>\n",
       "      <th>NOX</th>\n",
       "      <th>SO2</th>\n",
       "      <th>WD</th>\n",
       "      <th>RH</th>\n",
       "      <th>TEMP</th>\n",
       "      <th>WS</th>\n",
       "      <th>HCNM</th>\n",
       "      <th>UVA</th>\n",
       "      <th>UVB</th>\n",
       "      <th>O3</th>\n",
       "    </tr>\n",
       "  </thead>\n",
       "  <tbody>\n",
       "    <tr>\n",
       "      <th>69395</th>\n",
       "      <td>2017-01-03 13:00:00</td>\n",
       "      <td>NaN</td>\n",
       "      <td>NaN</td>\n",
       "      <td>NaN</td>\n",
       "      <td>NaN</td>\n",
       "      <td>NaN</td>\n",
       "      <td>NaN</td>\n",
       "      <td>NaN</td>\n",
       "      <td>NaN</td>\n",
       "      <td>NaN</td>\n",
       "      <td>NaN</td>\n",
       "      <td>NaN</td>\n",
       "      <td>NaN</td>\n",
       "      <td>NaN</td>\n",
       "      <td>0.0</td>\n",
       "      <td>28.834697</td>\n",
       "      <td>NaN</td>\n",
       "    </tr>\n",
       "    <tr>\n",
       "      <th>69396</th>\n",
       "      <td>2017-01-03 14:00:00</td>\n",
       "      <td>NaN</td>\n",
       "      <td>NaN</td>\n",
       "      <td>19.5</td>\n",
       "      <td>21.0</td>\n",
       "      <td>NaN</td>\n",
       "      <td>NaN</td>\n",
       "      <td>NaN</td>\n",
       "      <td>NaN</td>\n",
       "      <td>NaN</td>\n",
       "      <td>NaN</td>\n",
       "      <td>NaN</td>\n",
       "      <td>NaN</td>\n",
       "      <td>NaN</td>\n",
       "      <td>0.0</td>\n",
       "      <td>24.715235</td>\n",
       "      <td>NaN</td>\n",
       "    </tr>\n",
       "    <tr>\n",
       "      <th>69397</th>\n",
       "      <td>2017-01-03 15:00:00</td>\n",
       "      <td>NaN</td>\n",
       "      <td>0.836667</td>\n",
       "      <td>13.5</td>\n",
       "      <td>18.0</td>\n",
       "      <td>10.2575</td>\n",
       "      <td>1.7600</td>\n",
       "      <td>12.0175</td>\n",
       "      <td>NaN</td>\n",
       "      <td>NaN</td>\n",
       "      <td>14.9167</td>\n",
       "      <td>28.8167</td>\n",
       "      <td>NaN</td>\n",
       "      <td>NaN</td>\n",
       "      <td>0.0</td>\n",
       "      <td>24.537322</td>\n",
       "      <td>73.6176</td>\n",
       "    </tr>\n",
       "    <tr>\n",
       "      <th>69398</th>\n",
       "      <td>2017-01-03 16:00:00</td>\n",
       "      <td>NaN</td>\n",
       "      <td>0.768001</td>\n",
       "      <td>19.5</td>\n",
       "      <td>2.0</td>\n",
       "      <td>10.8350</td>\n",
       "      <td>2.5025</td>\n",
       "      <td>13.3375</td>\n",
       "      <td>NaN</td>\n",
       "      <td>NaN</td>\n",
       "      <td>12.2500</td>\n",
       "      <td>28.2917</td>\n",
       "      <td>NaN</td>\n",
       "      <td>NaN</td>\n",
       "      <td>0.0</td>\n",
       "      <td>17.778006</td>\n",
       "      <td>57.6258</td>\n",
       "    </tr>\n",
       "    <tr>\n",
       "      <th>69399</th>\n",
       "      <td>2017-01-03 17:00:00</td>\n",
       "      <td>NaN</td>\n",
       "      <td>0.793750</td>\n",
       "      <td>72.0</td>\n",
       "      <td>10.0</td>\n",
       "      <td>11.5775</td>\n",
       "      <td>2.5850</td>\n",
       "      <td>14.1625</td>\n",
       "      <td>NaN</td>\n",
       "      <td>NaN</td>\n",
       "      <td>14.5000</td>\n",
       "      <td>27.4250</td>\n",
       "      <td>NaN</td>\n",
       "      <td>NaN</td>\n",
       "      <td>0.0</td>\n",
       "      <td>9.862870</td>\n",
       "      <td>51.9867</td>\n",
       "    </tr>\n",
       "  </tbody>\n",
       "</table>\n",
       "</div>"
      ],
      "text/plain": [
       "             registered_on  CH4        CO  PM10  PM25      NO2      NO  \\\n",
       "69395  2017-01-03 13:00:00  NaN       NaN   NaN   NaN      NaN     NaN   \n",
       "69396  2017-01-03 14:00:00  NaN       NaN  19.5  21.0      NaN     NaN   \n",
       "69397  2017-01-03 15:00:00  NaN  0.836667  13.5  18.0  10.2575  1.7600   \n",
       "69398  2017-01-03 16:00:00  NaN  0.768001  19.5   2.0  10.8350  2.5025   \n",
       "69399  2017-01-03 17:00:00  NaN  0.793750  72.0  10.0  11.5775  2.5850   \n",
       "\n",
       "           NOX  SO2  WD       RH     TEMP  WS  HCNM  UVA        UVB       O3  \n",
       "69395      NaN  NaN NaN      NaN      NaN NaN   NaN  0.0  28.834697      NaN  \n",
       "69396      NaN  NaN NaN      NaN      NaN NaN   NaN  0.0  24.715235      NaN  \n",
       "69397  12.0175  NaN NaN  14.9167  28.8167 NaN   NaN  0.0  24.537322  73.6176  \n",
       "69398  13.3375  NaN NaN  12.2500  28.2917 NaN   NaN  0.0  17.778006  57.6258  \n",
       "69399  14.1625  NaN NaN  14.5000  27.4250 NaN   NaN  0.0   9.862870  51.9867  "
      ]
     },
     "execution_count": 6,
     "metadata": {},
     "output_type": "execute_result"
    }
   ],
   "source": [
    "df_condes_verano_test.head()"
   ]
  },
  {
   "cell_type": "code",
   "execution_count": 7,
   "metadata": {},
   "outputs": [
    {
     "data": {
      "text/html": [
       "<div>\n",
       "<style scoped>\n",
       "    .dataframe tbody tr th:only-of-type {\n",
       "        vertical-align: middle;\n",
       "    }\n",
       "\n",
       "    .dataframe tbody tr th {\n",
       "        vertical-align: top;\n",
       "    }\n",
       "\n",
       "    .dataframe thead th {\n",
       "        text-align: right;\n",
       "    }\n",
       "</style>\n",
       "<table border=\"1\" class=\"dataframe\">\n",
       "  <thead>\n",
       "    <tr style=\"text-align: right;\">\n",
       "      <th></th>\n",
       "      <th>registered_on</th>\n",
       "      <th>CH4</th>\n",
       "      <th>CO</th>\n",
       "      <th>PM10</th>\n",
       "      <th>PM25</th>\n",
       "      <th>NO2</th>\n",
       "      <th>NO</th>\n",
       "      <th>NOX</th>\n",
       "      <th>SO2</th>\n",
       "      <th>WD</th>\n",
       "      <th>RH</th>\n",
       "      <th>TEMP</th>\n",
       "      <th>WS</th>\n",
       "      <th>HCNM</th>\n",
       "      <th>UVA</th>\n",
       "      <th>UVB</th>\n",
       "      <th>O3</th>\n",
       "    </tr>\n",
       "  </thead>\n",
       "  <tbody>\n",
       "  </tbody>\n",
       "</table>\n",
       "</div>"
      ],
      "text/plain": [
       "Empty DataFrame\n",
       "Columns: [registered_on, CH4, CO, PM10, PM25, NO2, NO, NOX, SO2, WD, RH, TEMP, WS, HCNM, UVA, UVB, O3]\n",
       "Index: []"
      ]
     },
     "execution_count": 7,
     "metadata": {},
     "output_type": "execute_result"
    }
   ],
   "source": [
    "df_condes_verano.dropna(how='any')"
   ]
  },
  {
   "cell_type": "markdown",
   "metadata": {},
   "source": [
    "Si elimino todas las que tengan al menos un null se eliminan todos los registros"
   ]
  },
  {
   "cell_type": "code",
   "execution_count": 8,
   "metadata": {},
   "outputs": [
    {
     "ename": "NameError",
     "evalue": "name 'rows_to_use' is not defined",
     "output_type": "error",
     "traceback": [
      "\u001b[0;31m---------------------------------------------------------------------------\u001b[0m",
      "\u001b[0;31mNameError\u001b[0m                                 Traceback (most recent call last)",
      "\u001b[0;32m<ipython-input-8-cf4d455d21bf>\u001b[0m in \u001b[0;36m<module>\u001b[0;34m()\u001b[0m\n\u001b[0;32m----> 1\u001b[0;31m \u001b[0mdf_condes_verano_train\u001b[0m\u001b[0;34m.\u001b[0m\u001b[0mloc\u001b[0m\u001b[0;34m[\u001b[0m\u001b[0;34m:\u001b[0m\u001b[0;34m,\u001b[0m\u001b[0mrows_to_use\u001b[0m\u001b[0;34m]\u001b[0m\u001b[0;34m.\u001b[0m\u001b[0mdropna\u001b[0m\u001b[0;34m(\u001b[0m\u001b[0msubset\u001b[0m\u001b[0;34m=\u001b[0m\u001b[0;34m[\u001b[0m\u001b[0;34m\"O3\"\u001b[0m\u001b[0;34m]\u001b[0m\u001b[0;34m)\u001b[0m\u001b[0;31m#(how=\"all\",O3)\u001b[0m\u001b[0;34m\u001b[0m\u001b[0m\n\u001b[0m",
      "\u001b[0;31mNameError\u001b[0m: name 'rows_to_use' is not defined"
     ]
    }
   ],
   "source": [
    "df_condes_verano_train.loc[:,rows_to_use].dropna(subset=[\"O3\"])#(how=\"all\",O3)"
   ]
  },
  {
   "cell_type": "markdown",
   "metadata": {},
   "source": [
    "### PRe PRocesarlos"
   ]
  },
  {
   "cell_type": "code",
   "execution_count": 7,
   "metadata": {},
   "outputs": [],
   "source": [
    "## representacion\n",
    "rows_to_use = [\"CO\",\"PM10\",\"PM25\",\"NO2\",\"NO\",\"NOX\",\"SO2\",\"WD\",\"RH\",\"TEMP\",\"WS\",\"HCNM\",\"UVA\",\"UVB\",\"O3\"]\n",
    "\n",
    "\n",
    "def create_sequences(dataframe,lag=1,dia=True):\n",
    "    #preprocesamiento asumiendo dataset es una secuencia\n",
    "    timestep = dataframe.loc[:,\"registered_on\"].values\n",
    "    \n",
    "    if dia:\n",
    "        indices_orden = []\n",
    "        dia = timestep[0].split(\"-\")[-1].split(\" \")[0]\n",
    "        aux_indices1 = 0\n",
    "        aux_indices2 = 0 \n",
    "        for dato in timestep[1:]:\n",
    "            nuevo_dia = dato.split(\"-\")[-1].split(\" \")[0]\n",
    "            aux_indices2+=1\n",
    "            if dia != nuevo_dia:\n",
    "                dia = nuevo_dia\n",
    "                indices_orden.append([aux_indices1,aux_indices2])\n",
    "                aux_indices1 = aux_indices2\n",
    "        indices_orden.append([aux_indices1,aux_indices2+1])\n",
    "        \n",
    "        aux =  []\n",
    "        data = dataframe.loc[:,rows_to_use].values\n",
    "        for init,finit in indices_orden:\n",
    "            aux+=[np.nanmax(data[init:finit],axis=0)]\n",
    "        data = np.asarray(aux)\n",
    "        #dropnan... de O3\n",
    "        data = data[~np.isnan(data)[:,-1]]\n",
    "    else:\n",
    "        #dropnan... de o3\n",
    "        data = dataframe.loc[:,rows_to_use].dropna(subset=[\"O3\"]).values\n",
    "    \n",
    "    #rellenar nans de valores nada?\n",
    "   # data = np.asarray([[-1. if np.isnan(x) else x for x in array] for array in data])\n",
    "    \n",
    "    dataX = []\n",
    "    dataY =[]\n",
    "    for t_plus_1 in range(lag,len(data)):\n",
    "        #se crea el Y (target)\n",
    "        predecir = data[t_plus_1][-1] #ultima columna es O3\n",
    "        dataY.append(predecir)\n",
    "        #se crea el X (inputs) columnas para predecir Y\n",
    "        columnasX = []\n",
    "        for i in np.arange(lag,0,-1): #para los valores anteriores al t_plus_1 durante un lag\n",
    "            columnasX.append( data[t_plus_1-i] )\n",
    "        dataX.append(columnasX)\n",
    "    return np.array(dataX),np.array(dataY).reshape(len(dataY),1)"
   ]
  },
  {
   "cell_type": "code",
   "execution_count": 8,
   "metadata": {
    "scrolled": true
   },
   "outputs": [
    {
     "name": "stderr",
     "output_type": "stream",
     "text": [
      "/home/casapanshop/anaconda2/envs/py3/lib/python3.5/site-packages/ipykernel/__main__.py:26: RuntimeWarning: All-NaN slice encountered\n"
     ]
    },
    {
     "name": "stdout",
     "output_type": "stream",
     "text": [
      "All arrays shapes\n",
      "Train verano (input):  (2931, 3, 15)\n",
      "Train invierno (input):  (2401, 3, 15)\n",
      "Train verano (output):  (2931, 1)\n",
      "Train invierno (output):  (2401, 1)\n"
     ]
    }
   ],
   "source": [
    "lag = 3\n",
    "dia=True\n",
    "trainX1, trainY1 = create_sequences(df_condes_verano_train, lag,dia)\n",
    "trainX2, trainY2 = create_sequences(df_condes_invierno_train, lag,dia)\n",
    "\n",
    "testX1, testY1 = create_sequences(df_condes_verano_test, lag,dia)\n",
    "testX2, testY2 = create_sequences(df_condes_invierno_test, lag,dia)\n",
    "\n",
    "print(\"All arrays shapes\")\n",
    "print(\"Train verano (input): \",trainX1.shape)\n",
    "print(\"Train invierno (input): \",trainX2.shape)\n",
    "print(\"Train verano (output): \",trainY1.shape)\n",
    "print(\"Train invierno (output): \",trainY2.shape)"
   ]
  },
  {
   "cell_type": "code",
   "execution_count": 10,
   "metadata": {},
   "outputs": [],
   "source": [
    "def trid_to_2d(array,backward=False):\n",
    "    if backward:\n",
    "        return array.reshape(array.shape[0]/lag, lag ,array.shape[-1])\n",
    "    else:\n",
    "        return array.reshape((np.prod(array.shape[:2]), array.shape[-1]))"
   ]
  },
  {
   "cell_type": "code",
   "execution_count": 11,
   "metadata": {},
   "outputs": [
    {
     "ename": "NameError",
     "evalue": "name 'trainX' is not defined",
     "output_type": "error",
     "traceback": [
      "\u001b[0;31m---------------------------------------------------------------------------\u001b[0m",
      "\u001b[0;31mNameError\u001b[0m                                 Traceback (most recent call last)",
      "\u001b[0;32m<ipython-input-11-355a8517d883>\u001b[0m in \u001b[0;36m<module>\u001b[0;34m()\u001b[0m\n\u001b[0;32m----> 1\u001b[0;31m \u001b[0mtrid_to_2d\u001b[0m\u001b[0;34m(\u001b[0m\u001b[0mtrid_to_2d\u001b[0m\u001b[0;34m(\u001b[0m\u001b[0mtrainX\u001b[0m\u001b[0;34m)\u001b[0m\u001b[0;34m,\u001b[0m\u001b[0mbackward\u001b[0m\u001b[0;34m=\u001b[0m\u001b[0mTrue\u001b[0m\u001b[0;34m)\u001b[0m\u001b[0;34m.\u001b[0m\u001b[0mshape\u001b[0m\u001b[0;34m\u001b[0m\u001b[0m\n\u001b[0m",
      "\u001b[0;31mNameError\u001b[0m: name 'trainX' is not defined"
     ]
    }
   ],
   "source": [
    "trid_to_2d(trid_to_2d(trainX),backward=True).shape"
   ]
  },
  {
   "cell_type": "markdown",
   "metadata": {},
   "source": [
    "### Escalar datos y transformar para entrada"
   ]
  },
  {
   "cell_type": "code",
   "execution_count": 9,
   "metadata": {},
   "outputs": [
    {
     "data": {
      "text/plain": [
       "(2931, 3, 15)"
      ]
     },
     "execution_count": 9,
     "metadata": {},
     "output_type": "execute_result"
    }
   ],
   "source": [
    "#calculo de estadisticos (\"fit\") MinMaxScaler\n",
    "class MinMax(object):\n",
    "    def __init__(self,aux=True):\n",
    "        self.minimos = None\n",
    "        self.maximos = None\n",
    "        \n",
    "    def fit(self,data):\n",
    "        self.minimos = np.nanmin(data, axis=(0,1))#, keepdims=True)\n",
    "        self.maximos = np.nanmax(data ,axis=(0,1))#, keepdims=True)\n",
    "    \n",
    "    def transform(self,data):\n",
    "        #normalize between 0 and 1 every statisctic\n",
    "        return (data-self.minimos) / (self.maximos-self.minimos)\n",
    "    \n",
    "    def inverse_transform(self,data):\n",
    "        return data*(self.maximos-self.minimos) + self.minimos\n",
    "    \n",
    "scaler_model1 = MinMax()\n",
    "scaler_model1.fit(trainX1)\n",
    "X_train1 = scaler_model1.transform(trainX1)\n",
    "X_test1 = scaler_model1.transform(testX1)\n",
    "\n",
    "scaler_model2 = MinMax()\n",
    "scaler_model2.fit(trainX2)\n",
    "X_train2 = scaler_model2.transform(trainX2)\n",
    "X_test2 = scaler_model2.transform(testX2)\n",
    "\n",
    "X_train1.shape"
   ]
  },
  {
   "cell_type": "code",
   "execution_count": 10,
   "metadata": {},
   "outputs": [
    {
     "name": "stdout",
     "output_type": "stream",
     "text": [
      "Minimos en train:  [0. 0. 0. 0. 0. 0. 0. 0. 0. 0. 0. 0. 0. 0. 0.]\n",
      "Minimos en test:  [6.89655125e-08 2.74869110e-02 2.99625468e-02 1.12001868e-01\n",
      " 4.98162247e-03 2.49952114e-02            nan            nan\n",
      " 2.50000000e-01 8.71331507e-02            nan            nan\n",
      " 0.00000000e+00 5.81265886e-04 8.90017964e-02]\n"
     ]
    },
    {
     "name": "stderr",
     "output_type": "stream",
     "text": [
      "/home/casapanshop/anaconda2/envs/py3/lib/python3.5/site-packages/ipykernel/__main__.py:2: RuntimeWarning: All-NaN slice encountered\n",
      "  from ipykernel import kernelapp as app\n"
     ]
    }
   ],
   "source": [
    "print(\"Minimos en train: \", np.nanmin(X_train1, axis=(0,1)))\n",
    "print(\"Minimos en test: \", np.nanmin(X_test1, axis=(0,1)))"
   ]
  },
  {
   "cell_type": "code",
   "execution_count": 11,
   "metadata": {},
   "outputs": [
    {
     "name": "stdout",
     "output_type": "stream",
     "text": [
      "Maximos en train:  [1. 1. 1. 1. 1. 1. 1. 1. 1. 1. 1. 1. 1. 1. 1.]\n",
      "Maximos en test:  [0.25981294 0.34102142 0.58563536 0.93545451 0.74557729 0.70256368\n",
      "        nan        nan 0.91729421 0.85851963        nan        nan\n",
      " 0.04044388 0.24578276 0.37012987]\n"
     ]
    },
    {
     "name": "stderr",
     "output_type": "stream",
     "text": [
      "/home/casapanshop/anaconda2/envs/py3/lib/python3.5/site-packages/ipykernel/__main__.py:2: RuntimeWarning: All-NaN slice encountered\n",
      "  from ipykernel import kernelapp as app\n"
     ]
    }
   ],
   "source": [
    "print(\"Maximos en train: \", np.nanmax(X_train2, axis=(0,1)))\n",
    "print(\"Maximos en test: \", np.nanmax(X_test2, axis=(0,1)))"
   ]
  },
  {
   "cell_type": "code",
   "execution_count": 12,
   "metadata": {},
   "outputs": [
    {
     "name": "stdout",
     "output_type": "stream",
     "text": [
      "Mascara agregada\n"
     ]
    }
   ],
   "source": [
    "mask_value = -1.\n",
    "def nan_to_num(data,mask_value):\n",
    "    return np.asarray([[[mask_value if np.isnan(x) else x for x in timestep] for timestep in array] for array in data])\n",
    "\n",
    "X_train1 = nan_to_num(X_train1,mask_value)\n",
    "X_test1 = nan_to_num(X_test1,mask_value)\n",
    "X_train2 = nan_to_num(X_train2,mask_value)\n",
    "X_test2 = nan_to_num(X_test2,mask_value)\n",
    "print(\"Mascara agregada\")"
   ]
  },
  {
   "cell_type": "code",
   "execution_count": null,
   "metadata": {},
   "outputs": [],
   "source": []
  },
  {
   "cell_type": "code",
   "execution_count": 16,
   "metadata": {},
   "outputs": [
    {
     "ename": "NameError",
     "evalue": "name 'trainY' is not defined",
     "output_type": "error",
     "traceback": [
      "\u001b[0;31m---------------------------------------------------------------------------\u001b[0m",
      "\u001b[0;31mNameError\u001b[0m                                 Traceback (most recent call last)",
      "\u001b[0;32m<ipython-input-16-0f9758f54d87>\u001b[0m in \u001b[0;36m<module>\u001b[0;34m()\u001b[0m\n\u001b[1;32m      2\u001b[0m \u001b[0;32mfrom\u001b[0m \u001b[0msklearn\u001b[0m\u001b[0;34m.\u001b[0m\u001b[0mpreprocessing\u001b[0m \u001b[0;32mimport\u001b[0m \u001b[0mMinMaxScaler\u001b[0m\u001b[0;34m\u001b[0m\u001b[0m\n\u001b[1;32m      3\u001b[0m \u001b[0mscaler_model\u001b[0m \u001b[0;34m=\u001b[0m \u001b[0mMinMaxScaler\u001b[0m\u001b[0;34m(\u001b[0m\u001b[0;34m)\u001b[0m\u001b[0;34m\u001b[0m\u001b[0m\n\u001b[0;32m----> 4\u001b[0;31m \u001b[0mscaler_model\u001b[0m\u001b[0;34m.\u001b[0m\u001b[0mfit\u001b[0m\u001b[0;34m(\u001b[0m\u001b[0mtrainY\u001b[0m\u001b[0;34m)\u001b[0m\u001b[0;34m\u001b[0m\u001b[0m\n\u001b[0m\u001b[1;32m      5\u001b[0m \u001b[0my_train\u001b[0m \u001b[0;34m=\u001b[0m \u001b[0mscaler_model\u001b[0m\u001b[0;34m.\u001b[0m\u001b[0mtransform\u001b[0m\u001b[0;34m(\u001b[0m\u001b[0mtrainY\u001b[0m\u001b[0;34m)\u001b[0m\u001b[0;34m\u001b[0m\u001b[0m\n\u001b[1;32m      6\u001b[0m \u001b[0my_test\u001b[0m \u001b[0;34m=\u001b[0m \u001b[0mscaler_model\u001b[0m\u001b[0;34m.\u001b[0m\u001b[0mtransform\u001b[0m\u001b[0;34m(\u001b[0m\u001b[0mtestY\u001b[0m\u001b[0;34m)\u001b[0m\u001b[0;34m\u001b[0m\u001b[0m\n",
      "\u001b[0;31mNameError\u001b[0m: name 'trainY' is not defined"
     ]
    }
   ],
   "source": [
    "#para el Y tambien...\n",
    "from sklearn.preprocessing import MinMaxScaler\n",
    "#o standar\n",
    "from sklearn.preprocessing import StandardScaler\n",
    "\n",
    "scaler_model = MinMaxScaler()\n",
    "scaler_model.fit(trainY)\n",
    "y_train = scaler_model.transform(trainY)\n",
    "y_test = scaler_model.transform(testY)\n",
    "y_train.shape"
   ]
  },
  {
   "cell_type": "code",
   "execution_count": null,
   "metadata": {},
   "outputs": [],
   "source": []
  },
  {
   "cell_type": "markdown",
   "metadata": {},
   "source": [
    "Características del modelo:\n",
    "* Predecir el máximo de ozono $O_3$ del día siguiente (del período de 24 horas).\n",
    "* Grano de predicción: Horas o día?\n",
    "* Cuanta información anterior utilizar? ..3 dias\n",
    "* Nulos? en $O_3$ o contaminantes?\n",
    "    * Borrar\n",
    "    * Mascara"
   ]
  },
  {
   "cell_type": "code",
   "execution_count": null,
   "metadata": {},
   "outputs": [],
   "source": [
    "#predecir el máximo del dia siguiente...\n",
    "#"
   ]
  },
  {
   "cell_type": "code",
   "execution_count": null,
   "metadata": {},
   "outputs": [],
   "source": []
  },
  {
   "cell_type": "markdown",
   "metadata": {},
   "source": [
    "## Modelo"
   ]
  },
  {
   "cell_type": "code",
   "execution_count": 13,
   "metadata": {},
   "outputs": [],
   "source": [
    "batch_size = 32\n",
    "epochs = 15\n",
    "opt = 'adam'\n",
    "loss_utilizada = 'mse' #?\n",
    "nhidden = 64\n",
    "from attention import *"
   ]
  },
  {
   "cell_type": "code",
   "execution_count": 136,
   "metadata": {},
   "outputs": [
    {
     "name": "stdout",
     "output_type": "stream",
     "text": [
      "_________________________________________________________________\n",
      "Layer (type)                 Output Shape              Param #   \n",
      "=================================================================\n",
      "AttentionDecoder (AttentionD (None, 3, 64)             43008     \n",
      "_________________________________________________________________\n",
      "dense_12 (Dense)             (None, 3, 1)              65        \n",
      "=================================================================\n",
      "Total params: 43,073\n",
      "Trainable params: 43,073\n",
      "Non-trainable params: 0\n",
      "_________________________________________________________________\n"
     ]
    }
   ],
   "source": [
    "modelo1 = Sequential()\n",
    "#modelo1.add(LSTM(nhidden, input_shape=(timesteps, features), return_sequences=True))\n",
    "modelo1.add(AttentionDecoder(nhidden, nhidden,input_shape=(timesteps,features),return_sequences=False)) #que son esos  (units, output_dim)\n",
    "\n",
    "#modelo1.add(LSTM(nhidden, return_sequences=False))\n",
    "\n",
    "modelo1.add(Dense(1,activation='linear')) #1 prediccion?\n",
    "modelo1.compile(loss=loss_utilizada, optimizer=opt, metrics=['acc'])\n",
    "modelo1.summary()\n",
    "# train LSTM"
   ]
  },
  {
   "cell_type": "code",
   "execution_count": 14,
   "metadata": {
    "scrolled": true
   },
   "outputs": [
    {
     "name": "stdout",
     "output_type": "stream",
     "text": [
      "__________________________________________________________________________________________________\n",
      "Layer (type)                    Output Shape         Param #     Connected to                     \n",
      "==================================================================================================\n",
      "input_91 (InputLayer)           (None, None, 5)      0                                            \n",
      "__________________________________________________________________________________________________\n",
      "time_distributed_1 (TimeDistrib (None, None, 10)     60          input_91[0][0]                   \n",
      "__________________________________________________________________________________________________\n",
      "private__optional_input_place_h (2,)                 0                                            \n",
      "__________________________________________________________________________________________________\n",
      "private__optional_input_place_h (2,)                 0                                            \n",
      "__________________________________________________________________________________________________\n",
      "private__optional_input_place_h (2,)                 0                                            \n",
      "__________________________________________________________________________________________________\n",
      "recurrent_sequential_5 (Recurre [(None, 10), (None,  840         time_distributed_1[0][0]         \n",
      "                                                                 private__optional_input_place_hol\n",
      "                                                                 private__optional_input_place_hol\n",
      "                                                                 private__optional_input_place_hol\n",
      "__________________________________________________________________________________________________\n",
      "dense_48 (Dense)                (None, 8)            88          recurrent_sequential_5[0][0]     \n",
      "__________________________________________________________________________________________________\n",
      "recurrent_sequential_6 (Recurre (None, 8, 8)         848         dense_48[0][0]                   \n",
      "                                                                 recurrent_sequential_5[0][1]     \n",
      "                                                                 recurrent_sequential_5[0][2]     \n",
      "                                                                 dense_48[0][0]                   \n",
      "==================================================================================================\n",
      "Total params: 1,836\n",
      "Trainable params: 1,836\n",
      "Non-trainable params: 0\n",
      "__________________________________________________________________________________________________\n"
     ]
    }
   ],
   "source": [
    "#https://github.com/farizrahman4u/seq2seq\n",
    "import seq2seq\n",
    "from seq2seq.models import Seq2Seq\n",
    "\n",
    "model = Seq2Seq(input_dim=5, hidden_dim=10, output_length=8, output_dim=8)\n",
    "model.compile(loss='mse', optimizer='rmsprop')\n",
    "model.summary()"
   ]
  },
  {
   "cell_type": "code",
   "execution_count": 32,
   "metadata": {
    "scrolled": true
   },
   "outputs": [
    {
     "name": "stdout",
     "output_type": "stream",
     "text": [
      "__________________________________________________________________________________________________\n",
      "Layer (type)                    Output Shape         Param #     Connected to                     \n",
      "==================================================================================================\n",
      "input_725 (InputLayer)          (None, 3, 15)        0                                            \n",
      "__________________________________________________________________________________________________\n",
      "bidirectional_4 (Bidirectional) (None, 3, 10)        2080        input_725[0][0]                  \n",
      "__________________________________________________________________________________________________\n",
      "private__optional_input_place_h (2,)                 0                                            \n",
      "__________________________________________________________________________________________________\n",
      "private__optional_input_place_h (2,)                 0                                            \n",
      "__________________________________________________________________________________________________\n",
      "recurrent_sequential_20 (Recurr (None, 3, 20)        1121        bidirectional_4[0][0]            \n",
      "                                                                 private__optional_input_place_hol\n",
      "                                                                 private__optional_input_place_hol\n",
      "==================================================================================================\n",
      "Total params: 3,201\n",
      "Trainable params: 3,201\n",
      "Non-trainable params: 0\n",
      "__________________________________________________________________________________________________\n"
     ]
    }
   ],
   "source": [
    "from seq2seq.models import AttentionSeq2Seq\n",
    "\n",
    "model = AttentionSeq2Seq(input_dim=features, input_length=timesteps, hidden_dim=10, output_length=timesteps, output_dim=20, depth=1)\n",
    "model.compile(loss='mse', optimizer='rmsprop')\n",
    "model.summary()"
   ]
  },
  {
   "cell_type": "code",
   "execution_count": 33,
   "metadata": {},
   "outputs": [
    {
     "data": {
      "text/plain": [
       "<tf.Tensor 'masking_13/mul:0' shape=(?, 3, 15) dtype=float32>"
      ]
     },
     "execution_count": 33,
     "metadata": {},
     "output_type": "execute_result"
    }
   ],
   "source": [
    "bla = Sequential()\n",
    "bla.add(Masking(mask_value=mask_value, input_shape=(timesteps, features)))\n",
    "bla.layers[-1].output"
   ]
  },
  {
   "cell_type": "code",
   "execution_count": 46,
   "metadata": {},
   "outputs": [
    {
     "name": "stdout",
     "output_type": "stream",
     "text": [
      "__________________________________________________________________________________________________\n",
      "Layer (type)                    Output Shape         Param #     Connected to                     \n",
      "==================================================================================================\n",
      "input_725 (InputLayer)          (None, 3, 15)        0                                            \n",
      "__________________________________________________________________________________________________\n",
      "bidirectional_4 (Bidirectional) (None, 3, 10)        2080        input_725[0][0]                  \n",
      "__________________________________________________________________________________________________\n",
      "private__optional_input_place_h (2,)                 0                                            \n",
      "__________________________________________________________________________________________________\n",
      "private__optional_input_place_h (2,)                 0                                            \n",
      "__________________________________________________________________________________________________\n",
      "recurrent_sequential_20 (Recurr (None, 3, 20)        1121        bidirectional_4[0][0]            \n",
      "                                                                 private__optional_input_place_hol\n",
      "                                                                 private__optional_input_place_hol\n",
      "==================================================================================================\n",
      "Total params: 3,201\n",
      "Trainable params: 3,201\n",
      "Non-trainable params: 0\n",
      "__________________________________________________________________________________________________\n"
     ]
    }
   ],
   "source": [
    "auuuux = Model(inputs=model.layers[1].input,outputs=model.outputs)\n",
    "auuuux.summary()"
   ]
  },
  {
   "cell_type": "code",
   "execution_count": 39,
   "metadata": {},
   "outputs": [
    {
     "data": {
      "text/plain": [
       "<tf.Tensor 'model_236_1/recurrent_sequential_20/transpose_1:0' shape=(?, ?, 20) dtype=float32>"
      ]
     },
     "execution_count": 39,
     "metadata": {},
     "output_type": "execute_result"
    }
   ],
   "source": [
    "auuuux(model.layers[0].input)"
   ]
  },
  {
   "cell_type": "code",
   "execution_count": 47,
   "metadata": {},
   "outputs": [
    {
     "ename": "ValueError",
     "evalue": "Shapes must be equal rank, but are 2 and 3 for 'model_239/recurrent_sequential_20/while/Select' (op: 'Select') with input shapes: [?,?], [?,20], [?,?,10].",
     "output_type": "error",
     "traceback": [
      "\u001b[0;31m---------------------------------------------------------------------------\u001b[0m",
      "\u001b[0;31mInvalidArgumentError\u001b[0m                      Traceback (most recent call last)",
      "\u001b[0;32m/home/casapanshop/anaconda2/envs/py3/lib/python3.5/site-packages/tensorflow/python/framework/ops.py\u001b[0m in \u001b[0;36m_create_c_op\u001b[0;34m(graph, node_def, inputs, control_inputs)\u001b[0m\n\u001b[1;32m   1566\u001b[0m   \u001b[0;32mtry\u001b[0m\u001b[0;34m:\u001b[0m\u001b[0;34m\u001b[0m\u001b[0m\n\u001b[0;32m-> 1567\u001b[0;31m     \u001b[0mc_op\u001b[0m \u001b[0;34m=\u001b[0m \u001b[0mc_api\u001b[0m\u001b[0;34m.\u001b[0m\u001b[0mTF_FinishOperation\u001b[0m\u001b[0;34m(\u001b[0m\u001b[0mop_desc\u001b[0m\u001b[0;34m)\u001b[0m\u001b[0;34m\u001b[0m\u001b[0m\n\u001b[0m\u001b[1;32m   1568\u001b[0m   \u001b[0;32mexcept\u001b[0m \u001b[0merrors\u001b[0m\u001b[0;34m.\u001b[0m\u001b[0mInvalidArgumentError\u001b[0m \u001b[0;32mas\u001b[0m \u001b[0me\u001b[0m\u001b[0;34m:\u001b[0m\u001b[0;34m\u001b[0m\u001b[0m\n",
      "\u001b[0;31mInvalidArgumentError\u001b[0m: Shapes must be equal rank, but are 2 and 3 for 'model_239/recurrent_sequential_20/while/Select' (op: 'Select') with input shapes: [?,?], [?,20], [?,?,10].",
      "\nDuring handling of the above exception, another exception occurred:\n",
      "\u001b[0;31mValueError\u001b[0m                                Traceback (most recent call last)",
      "\u001b[0;32m<ipython-input-47-8d4daf972d29>\u001b[0m in \u001b[0;36m<module>\u001b[0;34m()\u001b[0m\n\u001b[0;32m----> 1\u001b[0;31m \u001b[0mauuuux\u001b[0m\u001b[0;34m(\u001b[0m\u001b[0mbla\u001b[0m\u001b[0;34m.\u001b[0m\u001b[0moutput\u001b[0m\u001b[0;34m)\u001b[0m\u001b[0;34m\u001b[0m\u001b[0m\n\u001b[0m",
      "\u001b[0;32m/home/casapanshop/anaconda2/envs/py3/lib/python3.5/site-packages/keras/engine/base_layer.py\u001b[0m in \u001b[0;36m__call__\u001b[0;34m(self, inputs, **kwargs)\u001b[0m\n\u001b[1;32m    458\u001b[0m             \u001b[0;31m# Actually call the layer,\u001b[0m\u001b[0;34m\u001b[0m\u001b[0;34m\u001b[0m\u001b[0m\n\u001b[1;32m    459\u001b[0m             \u001b[0;31m# collecting output(s), mask(s), and shape(s).\u001b[0m\u001b[0;34m\u001b[0m\u001b[0;34m\u001b[0m\u001b[0m\n\u001b[0;32m--> 460\u001b[0;31m             \u001b[0moutput\u001b[0m \u001b[0;34m=\u001b[0m \u001b[0mself\u001b[0m\u001b[0;34m.\u001b[0m\u001b[0mcall\u001b[0m\u001b[0;34m(\u001b[0m\u001b[0minputs\u001b[0m\u001b[0;34m,\u001b[0m \u001b[0;34m**\u001b[0m\u001b[0mkwargs\u001b[0m\u001b[0;34m)\u001b[0m\u001b[0;34m\u001b[0m\u001b[0m\n\u001b[0m\u001b[1;32m    461\u001b[0m             \u001b[0moutput_mask\u001b[0m \u001b[0;34m=\u001b[0m \u001b[0mself\u001b[0m\u001b[0;34m.\u001b[0m\u001b[0mcompute_mask\u001b[0m\u001b[0;34m(\u001b[0m\u001b[0minputs\u001b[0m\u001b[0;34m,\u001b[0m \u001b[0mprevious_mask\u001b[0m\u001b[0;34m)\u001b[0m\u001b[0;34m\u001b[0m\u001b[0m\n\u001b[1;32m    462\u001b[0m \u001b[0;34m\u001b[0m\u001b[0m\n",
      "\u001b[0;32m/home/casapanshop/anaconda2/envs/py3/lib/python3.5/site-packages/keras/engine/network.py\u001b[0m in \u001b[0;36mcall\u001b[0;34m(self, inputs, mask)\u001b[0m\n\u001b[1;32m    571\u001b[0m             \u001b[0;32mreturn\u001b[0m \u001b[0mself\u001b[0m\u001b[0;34m.\u001b[0m\u001b[0m_output_tensor_cache\u001b[0m\u001b[0;34m[\u001b[0m\u001b[0mcache_key\u001b[0m\u001b[0;34m]\u001b[0m\u001b[0;34m\u001b[0m\u001b[0m\n\u001b[1;32m    572\u001b[0m         \u001b[0;32melse\u001b[0m\u001b[0;34m:\u001b[0m\u001b[0;34m\u001b[0m\u001b[0m\n\u001b[0;32m--> 573\u001b[0;31m             \u001b[0moutput_tensors\u001b[0m\u001b[0;34m,\u001b[0m \u001b[0m_\u001b[0m\u001b[0;34m,\u001b[0m \u001b[0m_\u001b[0m \u001b[0;34m=\u001b[0m \u001b[0mself\u001b[0m\u001b[0;34m.\u001b[0m\u001b[0mrun_internal_graph\u001b[0m\u001b[0;34m(\u001b[0m\u001b[0minputs\u001b[0m\u001b[0;34m,\u001b[0m \u001b[0mmasks\u001b[0m\u001b[0;34m)\u001b[0m\u001b[0;34m\u001b[0m\u001b[0m\n\u001b[0m\u001b[1;32m    574\u001b[0m             \u001b[0;32mreturn\u001b[0m \u001b[0moutput_tensors\u001b[0m\u001b[0;34m\u001b[0m\u001b[0m\n\u001b[1;32m    575\u001b[0m \u001b[0;34m\u001b[0m\u001b[0m\n",
      "\u001b[0;32m/home/casapanshop/anaconda2/envs/py3/lib/python3.5/site-packages/keras/engine/network.py\u001b[0m in \u001b[0;36mrun_internal_graph\u001b[0;34m(self, inputs, masks)\u001b[0m\n\u001b[1;32m    744\u001b[0m                                     \u001b[0mkwargs\u001b[0m\u001b[0;34m[\u001b[0m\u001b[0;34m'mask'\u001b[0m\u001b[0;34m]\u001b[0m \u001b[0;34m=\u001b[0m \u001b[0mcomputed_masks\u001b[0m\u001b[0;34m\u001b[0m\u001b[0m\n\u001b[1;32m    745\u001b[0m                             output_tensors = to_list(\n\u001b[0;32m--> 746\u001b[0;31m                                 layer.call(computed_tensors, **kwargs))\n\u001b[0m\u001b[1;32m    747\u001b[0m                             output_masks = layer.compute_mask(computed_tensors,\n\u001b[1;32m    748\u001b[0m                                                               computed_masks)\n",
      "\u001b[0;32m/home/casapanshop/anaconda2/envs/py3/lib/python3.5/site-packages/recurrentshop-1.0.0-py3.5.egg/recurrentshop/engine.py\u001b[0m in \u001b[0;36mcall\u001b[0;34m(self, inputs, initial_state, initial_readout, ground_truth, mask, training)\u001b[0m\n\u001b[1;32m    623\u001b[0m                                                         \u001b[0mconstants\u001b[0m\u001b[0;34m=\u001b[0m\u001b[0mconstants\u001b[0m\u001b[0;34m,\u001b[0m\u001b[0;34m\u001b[0m\u001b[0m\n\u001b[1;32m    624\u001b[0m                                                         \u001b[0munroll\u001b[0m\u001b[0;34m=\u001b[0m\u001b[0mself\u001b[0m\u001b[0;34m.\u001b[0m\u001b[0munroll\u001b[0m\u001b[0;34m,\u001b[0m\u001b[0;34m\u001b[0m\u001b[0m\n\u001b[0;32m--> 625\u001b[0;31m                                                         input_length=input_length)\n\u001b[0m\u001b[1;32m    626\u001b[0m         \u001b[0mstates\u001b[0m \u001b[0;34m=\u001b[0m \u001b[0mlist\u001b[0m\u001b[0;34m(\u001b[0m\u001b[0mstates\u001b[0m\u001b[0;34m)\u001b[0m\u001b[0;34m\u001b[0m\u001b[0m\n\u001b[1;32m    627\u001b[0m         \u001b[0;32mif\u001b[0m \u001b[0mself\u001b[0m\u001b[0;34m.\u001b[0m\u001b[0mdecode\u001b[0m\u001b[0;34m:\u001b[0m\u001b[0;34m\u001b[0m\u001b[0m\n",
      "\u001b[0;32m/home/casapanshop/anaconda2/envs/py3/lib/python3.5/site-packages/recurrentshop-1.0.0-py3.5.egg/recurrentshop/backend/__init__.py\u001b[0m in \u001b[0;36m<lambda>\u001b[0;34m(*args, **kwargs)\u001b[0m\n\u001b[1;32m      4\u001b[0m \u001b[0;32mif\u001b[0m \u001b[0mK\u001b[0m\u001b[0;34m.\u001b[0m\u001b[0mbackend\u001b[0m\u001b[0;34m(\u001b[0m\u001b[0;34m)\u001b[0m \u001b[0;34m==\u001b[0m \u001b[0;34m'tensorflow'\u001b[0m\u001b[0;34m:\u001b[0m\u001b[0;34m\u001b[0m\u001b[0m\n\u001b[1;32m      5\u001b[0m         \u001b[0;32mfrom\u001b[0m \u001b[0;34m.\u001b[0m\u001b[0mtensorflow_backend\u001b[0m \u001b[0;32mimport\u001b[0m \u001b[0;34m*\u001b[0m\u001b[0;34m\u001b[0m\u001b[0m\n\u001b[0;32m----> 6\u001b[0;31m         \u001b[0mrnn\u001b[0m \u001b[0;34m=\u001b[0m \u001b[0;32mlambda\u001b[0m \u001b[0;34m*\u001b[0m\u001b[0margs\u001b[0m\u001b[0;34m,\u001b[0m \u001b[0;34m**\u001b[0m\u001b[0mkwargs\u001b[0m\u001b[0;34m:\u001b[0m \u001b[0mK\u001b[0m\u001b[0;34m.\u001b[0m\u001b[0mrnn\u001b[0m\u001b[0;34m(\u001b[0m\u001b[0;34m*\u001b[0m\u001b[0margs\u001b[0m\u001b[0;34m,\u001b[0m \u001b[0;34m**\u001b[0m\u001b[0mkwargs\u001b[0m\u001b[0;34m)\u001b[0m \u001b[0;34m+\u001b[0m \u001b[0;34m(\u001b[0m\u001b[0;34m[\u001b[0m\u001b[0;34m]\u001b[0m\u001b[0;34m,\u001b[0m\u001b[0;34m)\u001b[0m\u001b[0;34m\u001b[0m\u001b[0m\n\u001b[0m\u001b[1;32m      7\u001b[0m \u001b[0;32melif\u001b[0m \u001b[0mK\u001b[0m\u001b[0;34m.\u001b[0m\u001b[0mbackend\u001b[0m\u001b[0;34m(\u001b[0m\u001b[0;34m)\u001b[0m \u001b[0;34m==\u001b[0m \u001b[0;34m'theano'\u001b[0m\u001b[0;34m:\u001b[0m\u001b[0;34m\u001b[0m\u001b[0m\n\u001b[1;32m      8\u001b[0m         \u001b[0;32mfrom\u001b[0m \u001b[0;34m.\u001b[0m\u001b[0mtheano_backend\u001b[0m \u001b[0;32mimport\u001b[0m \u001b[0;34m*\u001b[0m\u001b[0;34m\u001b[0m\u001b[0m\n",
      "\u001b[0;32m/home/casapanshop/anaconda2/envs/py3/lib/python3.5/site-packages/keras/backend/tensorflow_backend.py\u001b[0m in \u001b[0;36mrnn\u001b[0;34m(step_function, inputs, initial_states, go_backwards, mask, constants, unroll, input_length)\u001b[0m\n\u001b[1;32m   2955\u001b[0m             \u001b[0mparallel_iterations\u001b[0m\u001b[0;34m=\u001b[0m\u001b[0;36m32\u001b[0m\u001b[0;34m,\u001b[0m\u001b[0;34m\u001b[0m\u001b[0m\n\u001b[1;32m   2956\u001b[0m             \u001b[0mswap_memory\u001b[0m\u001b[0;34m=\u001b[0m\u001b[0;32mTrue\u001b[0m\u001b[0;34m,\u001b[0m\u001b[0;34m\u001b[0m\u001b[0m\n\u001b[0;32m-> 2957\u001b[0;31m             maximum_iterations=input_length)\n\u001b[0m\u001b[1;32m   2958\u001b[0m         \u001b[0mlast_time\u001b[0m \u001b[0;34m=\u001b[0m \u001b[0mfinal_outputs\u001b[0m\u001b[0;34m[\u001b[0m\u001b[0;36m0\u001b[0m\u001b[0;34m]\u001b[0m\u001b[0;34m\u001b[0m\u001b[0m\n\u001b[1;32m   2959\u001b[0m         \u001b[0moutput_ta\u001b[0m \u001b[0;34m=\u001b[0m \u001b[0mfinal_outputs\u001b[0m\u001b[0;34m[\u001b[0m\u001b[0;36m1\u001b[0m\u001b[0;34m]\u001b[0m\u001b[0;34m\u001b[0m\u001b[0m\n",
      "\u001b[0;32m/home/casapanshop/anaconda2/envs/py3/lib/python3.5/site-packages/tensorflow/python/ops/control_flow_ops.py\u001b[0m in \u001b[0;36mwhile_loop\u001b[0;34m(cond, body, loop_vars, shape_invariants, parallel_iterations, back_prop, swap_memory, name, maximum_iterations)\u001b[0m\n\u001b[1;32m   3222\u001b[0m     \u001b[0;32mif\u001b[0m \u001b[0mloop_context\u001b[0m\u001b[0;34m.\u001b[0m\u001b[0mouter_context\u001b[0m \u001b[0;32mis\u001b[0m \u001b[0;32mNone\u001b[0m\u001b[0;34m:\u001b[0m\u001b[0;34m\u001b[0m\u001b[0m\n\u001b[1;32m   3223\u001b[0m       \u001b[0mops\u001b[0m\u001b[0;34m.\u001b[0m\u001b[0madd_to_collection\u001b[0m\u001b[0;34m(\u001b[0m\u001b[0mops\u001b[0m\u001b[0;34m.\u001b[0m\u001b[0mGraphKeys\u001b[0m\u001b[0;34m.\u001b[0m\u001b[0mWHILE_CONTEXT\u001b[0m\u001b[0;34m,\u001b[0m \u001b[0mloop_context\u001b[0m\u001b[0;34m)\u001b[0m\u001b[0;34m\u001b[0m\u001b[0m\n\u001b[0;32m-> 3224\u001b[0;31m     \u001b[0mresult\u001b[0m \u001b[0;34m=\u001b[0m \u001b[0mloop_context\u001b[0m\u001b[0;34m.\u001b[0m\u001b[0mBuildLoop\u001b[0m\u001b[0;34m(\u001b[0m\u001b[0mcond\u001b[0m\u001b[0;34m,\u001b[0m \u001b[0mbody\u001b[0m\u001b[0;34m,\u001b[0m \u001b[0mloop_vars\u001b[0m\u001b[0;34m,\u001b[0m \u001b[0mshape_invariants\u001b[0m\u001b[0;34m)\u001b[0m\u001b[0;34m\u001b[0m\u001b[0m\n\u001b[0m\u001b[1;32m   3225\u001b[0m     \u001b[0;32mif\u001b[0m \u001b[0mmaximum_iterations\u001b[0m \u001b[0;32mis\u001b[0m \u001b[0;32mnot\u001b[0m \u001b[0;32mNone\u001b[0m\u001b[0;34m:\u001b[0m\u001b[0;34m\u001b[0m\u001b[0m\n\u001b[1;32m   3226\u001b[0m       \u001b[0;32mreturn\u001b[0m \u001b[0mresult\u001b[0m\u001b[0;34m[\u001b[0m\u001b[0;36m1\u001b[0m\u001b[0;34m]\u001b[0m\u001b[0;34m\u001b[0m\u001b[0m\n",
      "\u001b[0;32m/home/casapanshop/anaconda2/envs/py3/lib/python3.5/site-packages/tensorflow/python/ops/control_flow_ops.py\u001b[0m in \u001b[0;36mBuildLoop\u001b[0;34m(self, pred, body, loop_vars, shape_invariants)\u001b[0m\n\u001b[1;32m   2954\u001b[0m       \u001b[0;32mwith\u001b[0m \u001b[0mops\u001b[0m\u001b[0;34m.\u001b[0m\u001b[0mget_default_graph\u001b[0m\u001b[0;34m(\u001b[0m\u001b[0;34m)\u001b[0m\u001b[0;34m.\u001b[0m\u001b[0m_lock\u001b[0m\u001b[0;34m:\u001b[0m  \u001b[0;31m# pylint: disable=protected-access\u001b[0m\u001b[0;34m\u001b[0m\u001b[0m\n\u001b[1;32m   2955\u001b[0m         original_body_result, exit_vars = self._BuildLoop(\n\u001b[0;32m-> 2956\u001b[0;31m             pred, body, original_loop_vars, loop_vars, shape_invariants)\n\u001b[0m\u001b[1;32m   2957\u001b[0m     \u001b[0;32mfinally\u001b[0m\u001b[0;34m:\u001b[0m\u001b[0;34m\u001b[0m\u001b[0m\n\u001b[1;32m   2958\u001b[0m       \u001b[0mself\u001b[0m\u001b[0;34m.\u001b[0m\u001b[0mExit\u001b[0m\u001b[0;34m(\u001b[0m\u001b[0;34m)\u001b[0m\u001b[0;34m\u001b[0m\u001b[0m\n",
      "\u001b[0;32m/home/casapanshop/anaconda2/envs/py3/lib/python3.5/site-packages/tensorflow/python/ops/control_flow_ops.py\u001b[0m in \u001b[0;36m_BuildLoop\u001b[0;34m(self, pred, body, original_loop_vars, loop_vars, shape_invariants)\u001b[0m\n\u001b[1;32m   2891\u001b[0m         flat_sequence=vars_for_body_with_tensor_arrays)\n\u001b[1;32m   2892\u001b[0m     \u001b[0mpre_summaries\u001b[0m \u001b[0;34m=\u001b[0m \u001b[0mops\u001b[0m\u001b[0;34m.\u001b[0m\u001b[0mget_collection\u001b[0m\u001b[0;34m(\u001b[0m\u001b[0mops\u001b[0m\u001b[0;34m.\u001b[0m\u001b[0mGraphKeys\u001b[0m\u001b[0;34m.\u001b[0m\u001b[0m_SUMMARY_COLLECTION\u001b[0m\u001b[0;34m)\u001b[0m  \u001b[0;31m# pylint: disable=protected-access\u001b[0m\u001b[0;34m\u001b[0m\u001b[0m\n\u001b[0;32m-> 2893\u001b[0;31m     \u001b[0mbody_result\u001b[0m \u001b[0;34m=\u001b[0m \u001b[0mbody\u001b[0m\u001b[0;34m(\u001b[0m\u001b[0;34m*\u001b[0m\u001b[0mpacked_vars_for_body\u001b[0m\u001b[0;34m)\u001b[0m\u001b[0;34m\u001b[0m\u001b[0m\n\u001b[0m\u001b[1;32m   2894\u001b[0m     \u001b[0mpost_summaries\u001b[0m \u001b[0;34m=\u001b[0m \u001b[0mops\u001b[0m\u001b[0;34m.\u001b[0m\u001b[0mget_collection\u001b[0m\u001b[0;34m(\u001b[0m\u001b[0mops\u001b[0m\u001b[0;34m.\u001b[0m\u001b[0mGraphKeys\u001b[0m\u001b[0;34m.\u001b[0m\u001b[0m_SUMMARY_COLLECTION\u001b[0m\u001b[0;34m)\u001b[0m  \u001b[0;31m# pylint: disable=protected-access\u001b[0m\u001b[0;34m\u001b[0m\u001b[0m\n\u001b[1;32m   2895\u001b[0m     \u001b[0;32mif\u001b[0m \u001b[0;32mnot\u001b[0m \u001b[0mnest\u001b[0m\u001b[0;34m.\u001b[0m\u001b[0mis_sequence\u001b[0m\u001b[0;34m(\u001b[0m\u001b[0mbody_result\u001b[0m\u001b[0;34m)\u001b[0m\u001b[0;34m:\u001b[0m\u001b[0;34m\u001b[0m\u001b[0m\n",
      "\u001b[0;32m/home/casapanshop/anaconda2/envs/py3/lib/python3.5/site-packages/tensorflow/python/ops/control_flow_ops.py\u001b[0m in \u001b[0;36m<lambda>\u001b[0;34m(i, lv)\u001b[0m\n\u001b[1;32m   3192\u001b[0m         cond = lambda i, lv: (  # pylint: disable=g-long-lambda\n\u001b[1;32m   3193\u001b[0m             math_ops.logical_and(i < maximum_iterations, orig_cond(*lv)))\n\u001b[0;32m-> 3194\u001b[0;31m         \u001b[0mbody\u001b[0m \u001b[0;34m=\u001b[0m \u001b[0;32mlambda\u001b[0m \u001b[0mi\u001b[0m\u001b[0;34m,\u001b[0m \u001b[0mlv\u001b[0m\u001b[0;34m:\u001b[0m \u001b[0;34m(\u001b[0m\u001b[0mi\u001b[0m \u001b[0;34m+\u001b[0m \u001b[0;36m1\u001b[0m\u001b[0;34m,\u001b[0m \u001b[0morig_body\u001b[0m\u001b[0;34m(\u001b[0m\u001b[0;34m*\u001b[0m\u001b[0mlv\u001b[0m\u001b[0;34m)\u001b[0m\u001b[0;34m)\u001b[0m\u001b[0;34m\u001b[0m\u001b[0m\n\u001b[0m\u001b[1;32m   3195\u001b[0m \u001b[0;34m\u001b[0m\u001b[0m\n\u001b[1;32m   3196\u001b[0m     \u001b[0;32mif\u001b[0m \u001b[0mcontext\u001b[0m\u001b[0;34m.\u001b[0m\u001b[0mexecuting_eagerly\u001b[0m\u001b[0;34m(\u001b[0m\u001b[0;34m)\u001b[0m\u001b[0;34m:\u001b[0m\u001b[0;34m\u001b[0m\u001b[0m\n",
      "\u001b[0;32m/home/casapanshop/anaconda2/envs/py3/lib/python3.5/site-packages/keras/backend/tensorflow_backend.py\u001b[0m in \u001b[0;36m_step\u001b[0;34m(time, output_ta_t, *states)\u001b[0m\n\u001b[1;32m   2918\u001b[0m                 tiled_mask_t = tf.tile(mask_t,\n\u001b[1;32m   2919\u001b[0m                                        tf.stack([1, tf.shape(output)[1]]))\n\u001b[0;32m-> 2920\u001b[0;31m                 \u001b[0moutput\u001b[0m \u001b[0;34m=\u001b[0m \u001b[0mtf\u001b[0m\u001b[0;34m.\u001b[0m\u001b[0mwhere\u001b[0m\u001b[0;34m(\u001b[0m\u001b[0mtiled_mask_t\u001b[0m\u001b[0;34m,\u001b[0m \u001b[0moutput\u001b[0m\u001b[0;34m,\u001b[0m \u001b[0mstates\u001b[0m\u001b[0;34m[\u001b[0m\u001b[0;36m0\u001b[0m\u001b[0;34m]\u001b[0m\u001b[0;34m)\u001b[0m\u001b[0;34m\u001b[0m\u001b[0m\n\u001b[0m\u001b[1;32m   2921\u001b[0m                 new_states = [\n\u001b[1;32m   2922\u001b[0m                     tf.where(tf.tile(mask_t, tf.stack([1, tf.shape(new_states[i])[1]])),\n",
      "\u001b[0;32m/home/casapanshop/anaconda2/envs/py3/lib/python3.5/site-packages/tensorflow/python/ops/array_ops.py\u001b[0m in \u001b[0;36mwhere\u001b[0;34m(condition, x, y, name)\u001b[0m\n\u001b[1;32m   2679\u001b[0m       \u001b[0;32mreturn\u001b[0m \u001b[0mgen_array_ops\u001b[0m\u001b[0;34m.\u001b[0m\u001b[0mwhere\u001b[0m\u001b[0;34m(\u001b[0m\u001b[0mcondition\u001b[0m\u001b[0;34m=\u001b[0m\u001b[0mcondition\u001b[0m\u001b[0;34m,\u001b[0m \u001b[0mname\u001b[0m\u001b[0;34m=\u001b[0m\u001b[0mname\u001b[0m\u001b[0;34m)\u001b[0m\u001b[0;34m\u001b[0m\u001b[0m\n\u001b[1;32m   2680\u001b[0m   \u001b[0;32melif\u001b[0m \u001b[0mx\u001b[0m \u001b[0;32mis\u001b[0m \u001b[0;32mnot\u001b[0m \u001b[0;32mNone\u001b[0m \u001b[0;32mand\u001b[0m \u001b[0my\u001b[0m \u001b[0;32mis\u001b[0m \u001b[0;32mnot\u001b[0m \u001b[0;32mNone\u001b[0m\u001b[0;34m:\u001b[0m\u001b[0;34m\u001b[0m\u001b[0m\n\u001b[0;32m-> 2681\u001b[0;31m     \u001b[0;32mreturn\u001b[0m \u001b[0mgen_math_ops\u001b[0m\u001b[0;34m.\u001b[0m\u001b[0mselect\u001b[0m\u001b[0;34m(\u001b[0m\u001b[0mcondition\u001b[0m\u001b[0;34m=\u001b[0m\u001b[0mcondition\u001b[0m\u001b[0;34m,\u001b[0m \u001b[0mx\u001b[0m\u001b[0;34m=\u001b[0m\u001b[0mx\u001b[0m\u001b[0;34m,\u001b[0m \u001b[0my\u001b[0m\u001b[0;34m=\u001b[0m\u001b[0my\u001b[0m\u001b[0;34m,\u001b[0m \u001b[0mname\u001b[0m\u001b[0;34m=\u001b[0m\u001b[0mname\u001b[0m\u001b[0;34m)\u001b[0m\u001b[0;34m\u001b[0m\u001b[0m\n\u001b[0m\u001b[1;32m   2682\u001b[0m   \u001b[0;32melse\u001b[0m\u001b[0;34m:\u001b[0m\u001b[0;34m\u001b[0m\u001b[0m\n\u001b[1;32m   2683\u001b[0m     \u001b[0;32mraise\u001b[0m \u001b[0mValueError\u001b[0m\u001b[0;34m(\u001b[0m\u001b[0;34m\"x and y must both be non-None or both be None.\"\u001b[0m\u001b[0;34m)\u001b[0m\u001b[0;34m\u001b[0m\u001b[0m\n",
      "\u001b[0;32m/home/casapanshop/anaconda2/envs/py3/lib/python3.5/site-packages/tensorflow/python/ops/gen_math_ops.py\u001b[0m in \u001b[0;36mselect\u001b[0;34m(condition, x, y, name)\u001b[0m\n\u001b[1;32m   6697\u001b[0m   \u001b[0;32mif\u001b[0m \u001b[0m_ctx\u001b[0m \u001b[0;32mis\u001b[0m \u001b[0;32mNone\u001b[0m \u001b[0;32mor\u001b[0m \u001b[0;32mnot\u001b[0m \u001b[0m_ctx\u001b[0m\u001b[0;34m.\u001b[0m\u001b[0m_eager_context\u001b[0m\u001b[0;34m.\u001b[0m\u001b[0mis_eager\u001b[0m\u001b[0;34m:\u001b[0m\u001b[0;34m\u001b[0m\u001b[0m\n\u001b[1;32m   6698\u001b[0m     _, _, _op = _op_def_lib._apply_op_helper(\n\u001b[0;32m-> 6699\u001b[0;31m         \"Select\", condition=condition, t=x, e=y, name=name)\n\u001b[0m\u001b[1;32m   6700\u001b[0m     \u001b[0m_result\u001b[0m \u001b[0;34m=\u001b[0m \u001b[0m_op\u001b[0m\u001b[0;34m.\u001b[0m\u001b[0moutputs\u001b[0m\u001b[0;34m[\u001b[0m\u001b[0;34m:\u001b[0m\u001b[0;34m]\u001b[0m\u001b[0;34m\u001b[0m\u001b[0m\n\u001b[1;32m   6701\u001b[0m     \u001b[0m_inputs_flat\u001b[0m \u001b[0;34m=\u001b[0m \u001b[0m_op\u001b[0m\u001b[0;34m.\u001b[0m\u001b[0minputs\u001b[0m\u001b[0;34m\u001b[0m\u001b[0m\n",
      "\u001b[0;32m/home/casapanshop/anaconda2/envs/py3/lib/python3.5/site-packages/tensorflow/python/framework/op_def_library.py\u001b[0m in \u001b[0;36m_apply_op_helper\u001b[0;34m(self, op_type_name, name, **keywords)\u001b[0m\n\u001b[1;32m    785\u001b[0m         op = g.create_op(op_type_name, inputs, output_types, name=scope,\n\u001b[1;32m    786\u001b[0m                          \u001b[0minput_types\u001b[0m\u001b[0;34m=\u001b[0m\u001b[0minput_types\u001b[0m\u001b[0;34m,\u001b[0m \u001b[0mattrs\u001b[0m\u001b[0;34m=\u001b[0m\u001b[0mattr_protos\u001b[0m\u001b[0;34m,\u001b[0m\u001b[0;34m\u001b[0m\u001b[0m\n\u001b[0;32m--> 787\u001b[0;31m                          op_def=op_def)\n\u001b[0m\u001b[1;32m    788\u001b[0m       \u001b[0;32mreturn\u001b[0m \u001b[0moutput_structure\u001b[0m\u001b[0;34m,\u001b[0m \u001b[0mop_def\u001b[0m\u001b[0;34m.\u001b[0m\u001b[0mis_stateful\u001b[0m\u001b[0;34m,\u001b[0m \u001b[0mop\u001b[0m\u001b[0;34m\u001b[0m\u001b[0m\n\u001b[1;32m    789\u001b[0m \u001b[0;34m\u001b[0m\u001b[0m\n",
      "\u001b[0;32m/home/casapanshop/anaconda2/envs/py3/lib/python3.5/site-packages/tensorflow/python/framework/ops.py\u001b[0m in \u001b[0;36mcreate_op\u001b[0;34m(self, op_type, inputs, dtypes, input_types, name, attrs, op_def, compute_shapes, compute_device)\u001b[0m\n\u001b[1;32m   3390\u001b[0m           \u001b[0minput_types\u001b[0m\u001b[0;34m=\u001b[0m\u001b[0minput_types\u001b[0m\u001b[0;34m,\u001b[0m\u001b[0;34m\u001b[0m\u001b[0m\n\u001b[1;32m   3391\u001b[0m           \u001b[0moriginal_op\u001b[0m\u001b[0;34m=\u001b[0m\u001b[0mself\u001b[0m\u001b[0;34m.\u001b[0m\u001b[0m_default_original_op\u001b[0m\u001b[0;34m,\u001b[0m\u001b[0;34m\u001b[0m\u001b[0m\n\u001b[0;32m-> 3392\u001b[0;31m           op_def=op_def)\n\u001b[0m\u001b[1;32m   3393\u001b[0m \u001b[0;34m\u001b[0m\u001b[0m\n\u001b[1;32m   3394\u001b[0m       \u001b[0;31m# Note: shapes are lazily computed with the C API enabled.\u001b[0m\u001b[0;34m\u001b[0m\u001b[0;34m\u001b[0m\u001b[0m\n",
      "\u001b[0;32m/home/casapanshop/anaconda2/envs/py3/lib/python3.5/site-packages/tensorflow/python/framework/ops.py\u001b[0m in \u001b[0;36m__init__\u001b[0;34m(self, node_def, g, inputs, output_types, control_inputs, input_types, original_op, op_def)\u001b[0m\n\u001b[1;32m   1732\u001b[0m           op_def, inputs, node_def.attr)\n\u001b[1;32m   1733\u001b[0m       self._c_op = _create_c_op(self._graph, node_def, grouped_inputs,\n\u001b[0;32m-> 1734\u001b[0;31m                                 control_input_ops)\n\u001b[0m\u001b[1;32m   1735\u001b[0m     \u001b[0;32melse\u001b[0m\u001b[0;34m:\u001b[0m\u001b[0;34m\u001b[0m\u001b[0m\n\u001b[1;32m   1736\u001b[0m       \u001b[0mself\u001b[0m\u001b[0;34m.\u001b[0m\u001b[0m_c_op\u001b[0m \u001b[0;34m=\u001b[0m \u001b[0;32mNone\u001b[0m\u001b[0;34m\u001b[0m\u001b[0m\n",
      "\u001b[0;32m/home/casapanshop/anaconda2/envs/py3/lib/python3.5/site-packages/tensorflow/python/framework/ops.py\u001b[0m in \u001b[0;36m_create_c_op\u001b[0;34m(graph, node_def, inputs, control_inputs)\u001b[0m\n\u001b[1;32m   1568\u001b[0m   \u001b[0;32mexcept\u001b[0m \u001b[0merrors\u001b[0m\u001b[0;34m.\u001b[0m\u001b[0mInvalidArgumentError\u001b[0m \u001b[0;32mas\u001b[0m \u001b[0me\u001b[0m\u001b[0;34m:\u001b[0m\u001b[0;34m\u001b[0m\u001b[0m\n\u001b[1;32m   1569\u001b[0m     \u001b[0;31m# Convert to ValueError for backwards compatibility.\u001b[0m\u001b[0;34m\u001b[0m\u001b[0;34m\u001b[0m\u001b[0m\n\u001b[0;32m-> 1570\u001b[0;31m     \u001b[0;32mraise\u001b[0m \u001b[0mValueError\u001b[0m\u001b[0;34m(\u001b[0m\u001b[0mstr\u001b[0m\u001b[0;34m(\u001b[0m\u001b[0me\u001b[0m\u001b[0;34m)\u001b[0m\u001b[0;34m)\u001b[0m\u001b[0;34m\u001b[0m\u001b[0m\n\u001b[0m\u001b[1;32m   1571\u001b[0m \u001b[0;34m\u001b[0m\u001b[0m\n\u001b[1;32m   1572\u001b[0m   \u001b[0;32mreturn\u001b[0m \u001b[0mc_op\u001b[0m\u001b[0;34m\u001b[0m\u001b[0m\n",
      "\u001b[0;31mValueError\u001b[0m: Shapes must be equal rank, but are 2 and 3 for 'model_239/recurrent_sequential_20/while/Select' (op: 'Select') with input shapes: [?,?], [?,20], [?,?,10]."
     ]
    }
   ],
   "source": [
    "auuuux(bla.output)"
   ]
  },
  {
   "cell_type": "code",
   "execution_count": 22,
   "metadata": {},
   "outputs": [
    {
     "name": "stdout",
     "output_type": "stream",
     "text": [
      "_________________________________________________________________\n",
      "Layer (type)                 Output Shape              Param #   \n",
      "=================================================================\n",
      "masking_10_input (InputLayer (None, 3, 15)             0         \n",
      "_________________________________________________________________\n",
      "masking_10 (Masking)         (None, 3, 15)             0         \n",
      "=================================================================\n",
      "Total params: 0\n",
      "Trainable params: 0\n",
      "Non-trainable params: 0\n",
      "_________________________________________________________________\n"
     ]
    }
   ],
   "source": [
    "chikilin = Model(inputs=bla.inputs,outputs=bla.outputs)\n",
    "chikilin.summary()"
   ]
  },
  {
   "cell_type": "code",
   "execution_count": 49,
   "metadata": {
    "scrolled": true
   },
   "outputs": [
    {
     "name": "stdout",
     "output_type": "stream",
     "text": [
      "_________________________________________________________________\n",
      "Layer (type)                 Output Shape              Param #   \n",
      "=================================================================\n",
      "masking_17 (Masking)         (None, 3, 15)             0         \n",
      "_________________________________________________________________\n",
      "gru_21 (GRU)                 (None, 3, 64)             15360     \n",
      "_________________________________________________________________\n",
      "gru_22 (GRU)                 (None, 3, 64)             24768     \n",
      "_________________________________________________________________\n",
      "gru_23 (GRU)                 (None, 64)                24768     \n",
      "_________________________________________________________________\n",
      "dense_482 (Dense)            (None, 1)                 65        \n",
      "=================================================================\n",
      "Total params: 64,961\n",
      "Trainable params: 64,961\n",
      "Non-trainable params: 0\n",
      "_________________________________________________________________\n",
      "_________________________________________________________________\n",
      "Layer (type)                 Output Shape              Param #   \n",
      "=================================================================\n",
      "masking_18 (Masking)         (None, 3, 15)             0         \n",
      "_________________________________________________________________\n",
      "gru_24 (GRU)                 (None, 3, 64)             15360     \n",
      "_________________________________________________________________\n",
      "AttentionDecoder (AttentionD (None, 3, 64)             61824     \n",
      "_________________________________________________________________\n",
      "gru_25 (GRU)                 (None, 64)                24768     \n",
      "_________________________________________________________________\n",
      "dense_483 (Dense)            (None, 1)                 65        \n",
      "=================================================================\n",
      "Total params: 102,017\n",
      "Trainable params: 102,017\n",
      "Non-trainable params: 0\n",
      "_________________________________________________________________\n",
      "__________________________________________________________________________________________________\n",
      "Layer (type)                    Output Shape         Param #     Connected to                     \n",
      "==================================================================================================\n",
      "input_814 (InputLayer)          (None, None, 15)     0                                            \n",
      "__________________________________________________________________________________________________\n",
      "time_distributed_6 (TimeDistrib (None, None, 64)     1024        input_814[0][0]                  \n",
      "__________________________________________________________________________________________________\n",
      "private__optional_input_place_h (2,)                 0                                            \n",
      "__________________________________________________________________________________________________\n",
      "private__optional_input_place_h (2,)                 0                                            \n",
      "__________________________________________________________________________________________________\n",
      "private__optional_input_place_h (2,)                 0                                            \n",
      "__________________________________________________________________________________________________\n",
      "recurrent_sequential_23 (Recurr [(None, 64), (None,  33024       time_distributed_6[0][0]         \n",
      "                                                                 private__optional_input_place_hol\n",
      "                                                                 private__optional_input_place_hol\n",
      "                                                                 private__optional_input_place_hol\n",
      "__________________________________________________________________________________________________\n",
      "dense_487 (Dense)               (None, 64)           4160        recurrent_sequential_23[0][0]    \n",
      "__________________________________________________________________________________________________\n",
      "recurrent_sequential_24 (Recurr (None, 3, 64)        37184       dense_487[0][0]                  \n",
      "                                                                 recurrent_sequential_23[0][1]    \n",
      "                                                                 recurrent_sequential_23[0][2]    \n",
      "                                                                 dense_487[0][0]                  \n",
      "__________________________________________________________________________________________________\n",
      "gru_26 (GRU)                    (None, 64)           24768       recurrent_sequential_24[0][0]    \n",
      "__________________________________________________________________________________________________\n",
      "dense_501 (Dense)               (None, 1)            65          gru_26[0][0]                     \n",
      "==================================================================================================\n",
      "Total params: 100,225\n",
      "Trainable params: 100,225\n",
      "Non-trainable params: 0\n",
      "__________________________________________________________________________________________________\n",
      "_________________________________________________________________\n",
      "Layer (type)                 Output Shape              Param #   \n",
      "=================================================================\n",
      "model_280 (Model)            (None, 3, 64)             78529     \n",
      "_________________________________________________________________\n",
      "gru_27 (GRU)                 (None, 64)                24768     \n",
      "_________________________________________________________________\n",
      "dense_534 (Dense)            (None, 1)                 65        \n",
      "=================================================================\n",
      "Total params: 103,362\n",
      "Trainable params: 103,362\n",
      "Non-trainable params: 0\n",
      "_________________________________________________________________\n"
     ]
    }
   ],
   "source": [
    "timesteps = X_train1.shape[1]\n",
    "features = X_train1.shape[2] #todo excepto o3\n",
    "\n",
    "def root_mean_squared_error(y_true, y_pred):\n",
    "    return K.sqrt(K.mean(K.square(y_pred - y_true), axis=-1)) \n",
    "def attention_multiply(vects):\n",
    "    encoder, attention = vects\n",
    "    return K.batch_dot(attention,encoder, axes=1)\n",
    "\n",
    "def modelo(tipo,dia=True):\n",
    "    model = Sequential()\n",
    "    model.add(Masking(mask_value=mask_value, input_shape=(timesteps, features)))\n",
    "\n",
    "    if tipo==\"sin atencion\":\n",
    "        model.add(GRU(nhidden,return_sequences=True))\n",
    "        model.add(GRU(nhidden,return_sequences=True))\n",
    "    elif tipo==\"atencion\":\n",
    "        model.add(GRU(nhidden, return_sequences=True))\n",
    "        model.add(AttentionDecoder(nhidden, nhidden)) #que son esos  (units, output_dim)\n",
    "    \n",
    "    elif tipo==\"sin atencion libreria\":\n",
    "        aux_model = Seq2Seq(input_dim=features, hidden_dim=nhidden, output_length=timesteps, output_dim=nhidden,depth=1)\n",
    "        #teacherforse=True\n",
    "        #aux_model = Model(inputs=model.inputs,outputs=aux_model(model.outputs))\n",
    "        \n",
    "        layer_aux =  GRU(nhidden, return_sequences=False)(aux_model.outputs)\n",
    "        layer_aux = Dense(1,activation='linear')(layer_aux) #1 prediccion?\n",
    "        \n",
    "        model = Model(inputs=aux_model.inputs,outputs=layer_aux)\n",
    "        model.compile(loss=loss_utilizada,optimizer=opt)\n",
    "        model.summary()\n",
    "        return model\n",
    "    \n",
    "    elif tipo==\"atencion libreria\":\n",
    "        aux_model = AttentionSeq2Seq(input_dim=features,input_length=timesteps,hidden_dim=nhidden\n",
    "                                     ,output_length=timesteps,output_dim=nhidden,depth=1)\n",
    "        model = Sequential()\n",
    "        model.add(aux_model)\n",
    "    \n",
    "    if dia:\n",
    "        model.add(GRU(nhidden, return_sequences=False))\n",
    "        model.add(Dense(1,activation='linear')) #1 prediccion?\n",
    "    else:\n",
    "        model.add(TimeDistributed(Dense(1,activation='linear'))) #varias prediccions--a nivel de horario..\n",
    "        model.add(GlobalMaxPooling1D())\n",
    "    \n",
    "    model.compile(loss=loss_utilizada,optimizer=opt)\n",
    "    model.summary()\n",
    "    return model\n",
    "\n",
    "modelo1 = modelo(\"sin atencion\",dia)\n",
    "modelo2 = modelo(\"atencion\",dia)\n",
    "modelo3 = modelo(\"sin atencion libreria\",dia)\n",
    "modelo4 = modelo(\"atencion libreria\",dia)"
   ]
  },
  {
   "cell_type": "code",
   "execution_count": null,
   "metadata": {},
   "outputs": [],
   "source": []
  },
  {
   "cell_type": "code",
   "execution_count": 48,
   "metadata": {
    "scrolled": true
   },
   "outputs": [
    {
     "name": "stdout",
     "output_type": "stream",
     "text": [
      "Train on 2931 samples, validate on 195 samples\n",
      "Epoch 1/15\n",
      "2931/2931 [==============================] - 8s 3ms/step - loss: 5679.5794 - val_loss: 3322.8662\n",
      "Epoch 2/15\n",
      "2931/2931 [==============================] - 3s 1ms/step - loss: 4446.7375 - val_loss: 2694.6711\n",
      "Epoch 3/15\n",
      "2931/2931 [==============================] - 3s 1000us/step - loss: 3744.6682 - val_loss: 2193.5595\n",
      "Epoch 4/15\n",
      "2931/2931 [==============================] - 3s 1ms/step - loss: 3159.5775 - val_loss: 1783.9648\n",
      "Epoch 5/15\n",
      "2931/2931 [==============================] - 3s 998us/step - loss: 2666.9916 - val_loss: 1451.4994\n",
      "Epoch 6/15\n",
      "2931/2931 [==============================] - 3s 1ms/step - loss: 2253.8573 - val_loss: 1183.3077\n",
      "Epoch 7/15\n",
      "2931/2931 [==============================] - 3s 997us/step - loss: 1909.0314 - val_loss: 974.3556\n",
      "Epoch 8/15\n",
      "2931/2931 [==============================] - 3s 997us/step - loss: 1623.9548 - val_loss: 811.3651\n",
      "Epoch 9/15\n",
      "2931/2931 [==============================] - 3s 1ms/step - loss: 1390.5674 - val_loss: 690.3166\n",
      "Epoch 10/15\n",
      "2931/2931 [==============================] - 3s 1ms/step - loss: 1202.1328 - val_loss: 603.4057\n",
      "Epoch 11/15\n",
      "2931/2931 [==============================] - 3s 1ms/step - loss: 1051.7104 - val_loss: 544.7718\n",
      "Epoch 12/15\n",
      "2931/2931 [==============================] - 3s 1ms/step - loss: 933.2710 - val_loss: 508.6220\n",
      "Epoch 13/15\n",
      "2931/2931 [==============================] - 3s 1ms/step - loss: 841.7375 - val_loss: 489.7078\n",
      "Epoch 14/15\n",
      "2931/2931 [==============================] - 3s 1ms/step - loss: 772.3043 - val_loss: 483.9557\n",
      "Epoch 15/15\n",
      "2931/2931 [==============================] - 3s 1ms/step - loss: 720.2374 - val_loss: 487.6284\n"
     ]
    },
    {
     "data": {
      "text/plain": [
       "<keras.callbacks.History at 0x7f9b12d60790>"
      ]
     },
     "execution_count": 48,
     "metadata": {},
     "output_type": "execute_result"
    }
   ],
   "source": [
    "modelo1.fit(X_train1, trainY1, epochs=epochs, batch_size=batch_size, validation_data=(X_test1, testY1))"
   ]
  },
  {
   "cell_type": "code",
   "execution_count": 49,
   "metadata": {
    "scrolled": true
   },
   "outputs": [
    {
     "name": "stdout",
     "output_type": "stream",
     "text": [
      "Train on 2931 samples, validate on 195 samples\n",
      "Epoch 1/15\n",
      "2931/2931 [==============================] - 9s 3ms/step - loss: 6232.6228 - val_loss: 3216.8350\n",
      "Epoch 2/15\n",
      "2931/2931 [==============================] - 4s 1ms/step - loss: 4226.4116 - val_loss: 2479.1321\n",
      "Epoch 3/15\n",
      "2931/2931 [==============================] - 4s 1ms/step - loss: 3458.2206 - val_loss: 1965.5802\n",
      "Epoch 4/15\n",
      "2931/2931 [==============================] - 4s 1ms/step - loss: 2867.0932 - val_loss: 1568.8552\n",
      "Epoch 5/15\n",
      "2931/2931 [==============================] - 4s 1ms/step - loss: 2388.3118 - val_loss: 1259.6303\n",
      "Epoch 6/15\n",
      "2931/2931 [==============================] - 4s 1ms/step - loss: 1998.0834 - val_loss: 1019.3847\n",
      "Epoch 7/15\n",
      "2931/2931 [==============================] - 4s 1ms/step - loss: 1680.8844 - val_loss: 838.3726\n",
      "Epoch 8/15\n",
      "2931/2931 [==============================] - 4s 1ms/step - loss: 1424.3935 - val_loss: 704.2349\n",
      "Epoch 9/15\n",
      "2931/2931 [==============================] - 4s 1ms/step - loss: 1220.1080 - val_loss: 609.0806\n",
      "Epoch 10/15\n",
      "2931/2931 [==============================] - 4s 1ms/step - loss: 1059.1014 - val_loss: 545.8861\n",
      "Epoch 11/15\n",
      "2931/2931 [==============================] - 4s 1ms/step - loss: 934.0744 - val_loss: 507.9065\n",
      "Epoch 12/15\n",
      "2931/2931 [==============================] - 4s 1ms/step - loss: 838.5788 - val_loss: 489.0267\n",
      "Epoch 13/15\n",
      "2931/2931 [==============================] - 4s 1ms/step - loss: 767.1142 - val_loss: 483.9621\n",
      "Epoch 14/15\n",
      "2931/2931 [==============================] - 4s 1ms/step - loss: 714.5045 - val_loss: 488.7316\n",
      "Epoch 15/15\n",
      "2931/2931 [==============================] - 4s 1ms/step - loss: 676.7846 - val_loss: 499.7949\n"
     ]
    },
    {
     "data": {
      "text/plain": [
       "<keras.callbacks.History at 0x7f9b10b6c690>"
      ]
     },
     "execution_count": 49,
     "metadata": {},
     "output_type": "execute_result"
    }
   ],
   "source": [
    "modelo2.fit(X_train1, trainY1, epochs=epochs, batch_size=batch_size, validation_data=(X_test1, testY1))"
   ]
  },
  {
   "cell_type": "code",
   "execution_count": 52,
   "metadata": {
    "scrolled": true
   },
   "outputs": [
    {
     "name": "stdout",
     "output_type": "stream",
     "text": [
      "Train on 2931 samples, validate on 195 samples\n",
      "Epoch 1/15\n",
      "2931/2931 [==============================] - 22s 8ms/step - loss: 5651.3490 - val_loss: 3342.4192\n",
      "Epoch 2/15\n",
      "2931/2931 [==============================] - 3s 899us/step - loss: 4475.7698 - val_loss: 2720.9909\n",
      "Epoch 3/15\n",
      "2931/2931 [==============================] - 3s 892us/step - loss: 3776.4309 - val_loss: 2217.7048\n",
      "Epoch 4/15\n",
      "2931/2931 [==============================] - 3s 885us/step - loss: 3190.8862 - val_loss: 1806.2612\n",
      "Epoch 5/15\n",
      "2931/2931 [==============================] - 3s 895us/step - loss: 2697.2063 - val_loss: 1472.0465\n",
      "Epoch 6/15\n",
      "2931/2931 [==============================] - 3s 885us/step - loss: 2281.5682 - val_loss: 1201.0886\n",
      "Epoch 7/15\n",
      "2931/2931 [==============================] - 3s 890us/step - loss: 1933.8492 - val_loss: 988.2500\n",
      "Epoch 8/15\n",
      "2931/2931 [==============================] - 3s 891us/step - loss: 1645.8529 - val_loss: 823.1851\n",
      "Epoch 9/15\n",
      "2931/2931 [==============================] - 3s 883us/step - loss: 1409.4371 - val_loss: 700.0454\n",
      "Epoch 10/15\n",
      "2931/2931 [==============================] - 3s 878us/step - loss: 1217.9470 - val_loss: 610.4410\n",
      "Epoch 11/15\n",
      "2931/2931 [==============================] - 3s 891us/step - loss: 1064.3766 - val_loss: 549.5469\n",
      "Epoch 12/15\n",
      "2931/2931 [==============================] - 3s 887us/step - loss: 943.3945 - val_loss: 511.4719\n",
      "Epoch 13/15\n",
      "2931/2931 [==============================] - 3s 883us/step - loss: 849.8065 - val_loss: 490.9177\n",
      "Epoch 14/15\n",
      "2931/2931 [==============================] - 3s 886us/step - loss: 778.3798 - val_loss: 484.0696\n",
      "Epoch 15/15\n",
      "2931/2931 [==============================] - 3s 889us/step - loss: 725.0539 - val_loss: 486.8505\n"
     ]
    },
    {
     "data": {
      "text/plain": [
       "<keras.callbacks.History at 0x7fa6514604e0>"
      ]
     },
     "execution_count": 52,
     "metadata": {},
     "output_type": "execute_result"
    }
   ],
   "source": [
    "modelo3.fit(X_train1, trainY1, epochs=epochs, batch_size=batch_size, validation_data=(X_test1, testY1))"
   ]
  },
  {
   "cell_type": "code",
   "execution_count": 53,
   "metadata": {
    "scrolled": true
   },
   "outputs": [
    {
     "name": "stdout",
     "output_type": "stream",
     "text": [
      "Train on 2931 samples, validate on 195 samples\n",
      "Epoch 1/15\n",
      "2931/2931 [==============================] - 13s 4ms/step - loss: 5641.3066 - val_loss: 3279.1513\n",
      "Epoch 2/15\n",
      "2931/2931 [==============================] - 3s 1ms/step - loss: 4395.8773 - val_loss: 2658.1465\n",
      "Epoch 3/15\n",
      "2931/2931 [==============================] - 3s 1ms/step - loss: 3699.4842 - val_loss: 2159.9836\n",
      "Epoch 4/15\n",
      "2931/2931 [==============================] - 3s 1ms/step - loss: 3119.7706 - val_loss: 1755.7045\n",
      "Epoch 5/15\n",
      "2931/2931 [==============================] - 3s 1ms/step - loss: 2632.7764 - val_loss: 1427.1046\n",
      "Epoch 6/15\n",
      "2931/2931 [==============================] - 3s 1ms/step - loss: 2224.0965 - val_loss: 1164.2534\n",
      "Epoch 7/15\n",
      "2931/2931 [==============================] - 3s 1ms/step - loss: 1883.1651 - val_loss: 957.8679\n",
      "Epoch 8/15\n",
      "2931/2931 [==============================] - 3s 1ms/step - loss: 1602.1872 - val_loss: 798.1491\n",
      "Epoch 9/15\n",
      "2931/2931 [==============================] - 3s 1ms/step - loss: 1372.0597 - val_loss: 681.4103\n",
      "Epoch 10/15\n",
      "2931/2931 [==============================] - 3s 1ms/step - loss: 1186.4264 - val_loss: 596.6783\n",
      "Epoch 11/15\n",
      "2931/2931 [==============================] - 3s 1ms/step - loss: 1038.5359 - val_loss: 540.3697\n",
      "Epoch 12/15\n",
      "2931/2931 [==============================] - 3s 1ms/step - loss: 922.7308 - val_loss: 505.7938\n",
      "Epoch 13/15\n",
      "2931/2931 [==============================] - 3s 1ms/step - loss: 833.2775 - val_loss: 488.4626\n",
      "Epoch 14/15\n",
      "2931/2931 [==============================] - 3s 1ms/step - loss: 765.7111 - val_loss: 483.9621\n",
      "Epoch 15/15\n",
      "2931/2931 [==============================] - 3s 1ms/step - loss: 715.2201 - val_loss: 488.3781\n"
     ]
    },
    {
     "data": {
      "text/plain": [
       "<keras.callbacks.History at 0x7fa651460400>"
      ]
     },
     "execution_count": 53,
     "metadata": {},
     "output_type": "execute_result"
    }
   ],
   "source": [
    "modelo4.fit(X_train1, trainY1, epochs=epochs, batch_size=batch_size, validation_data=(X_test1, testY1))"
   ]
  },
  {
   "cell_type": "code",
   "execution_count": null,
   "metadata": {},
   "outputs": [],
   "source": []
  },
  {
   "cell_type": "code",
   "execution_count": 84,
   "metadata": {
    "scrolled": true
   },
   "outputs": [
    {
     "name": "stdout",
     "output_type": "stream",
     "text": [
      "Train on 2401 samples, validate on 116 samples\n",
      "Epoch 1/15\n",
      "2401/2401 [==============================] - 6s 3ms/step - loss: 995.3553 - val_loss: 91.2107\n",
      "Epoch 2/15\n",
      "2401/2401 [==============================] - 2s 807us/step - loss: 584.0577 - val_loss: 81.9976\n",
      "Epoch 3/15\n",
      "2401/2401 [==============================] - 2s 805us/step - loss: 497.9957 - val_loss: 104.9367\n",
      "Epoch 4/15\n",
      "2401/2401 [==============================] - 2s 819us/step - loss: 459.7946 - val_loss: 135.8880\n",
      "Epoch 5/15\n",
      "2401/2401 [==============================] - 2s 810us/step - loss: 443.6389 - val_loss: 160.3402\n",
      "Epoch 6/15\n",
      "2401/2401 [==============================] - 2s 811us/step - loss: 437.5684 - val_loss: 178.2333\n",
      "Epoch 7/15\n",
      "2401/2401 [==============================] - 2s 796us/step - loss: 435.0719 - val_loss: 191.1585\n",
      "Epoch 8/15\n",
      "2401/2401 [==============================] - 2s 827us/step - loss: 433.9959 - val_loss: 201.6697\n",
      "Epoch 9/15\n",
      "2401/2401 [==============================] - 2s 800us/step - loss: 433.6821 - val_loss: 207.2870\n",
      "Epoch 10/15\n",
      "2401/2401 [==============================] - 2s 803us/step - loss: 433.0303 - val_loss: 206.6016\n",
      "Epoch 11/15\n",
      "2401/2401 [==============================] - 2s 805us/step - loss: 431.3019 - val_loss: 194.3920\n",
      "Epoch 12/15\n",
      "2401/2401 [==============================] - 2s 801us/step - loss: 407.7243 - val_loss: 176.7798\n",
      "Epoch 13/15\n",
      "2401/2401 [==============================] - 2s 806us/step - loss: 384.6176 - val_loss: 220.5985\n",
      "Epoch 14/15\n",
      "2401/2401 [==============================] - 2s 804us/step - loss: 368.4301 - val_loss: 228.6221\n",
      "Epoch 15/15\n",
      "2401/2401 [==============================] - 2s 810us/step - loss: 359.1543 - val_loss: 240.7277\n",
      "Train on 2401 samples, validate on 116 samples\n",
      "Epoch 1/15\n",
      "2401/2401 [==============================] - 9s 4ms/step - loss: 1149.7745 - val_loss: 126.6672\n",
      "Epoch 2/15\n",
      "2401/2401 [==============================] - 3s 1ms/step - loss: 584.7321 - val_loss: 84.9876\n",
      "Epoch 3/15\n",
      "2401/2401 [==============================] - 3s 1ms/step - loss: 482.5031 - val_loss: 116.7412\n",
      "Epoch 4/15\n",
      "2401/2401 [==============================] - 3s 1ms/step - loss: 449.5337 - val_loss: 151.0951\n",
      "Epoch 5/15\n",
      "2401/2401 [==============================] - 3s 1ms/step - loss: 437.1526 - val_loss: 178.5327\n",
      "Epoch 6/15\n",
      "2401/2401 [==============================] - 3s 1ms/step - loss: 434.1824 - val_loss: 192.0038\n",
      "Epoch 7/15\n",
      "2401/2401 [==============================] - 3s 1ms/step - loss: 433.4413 - val_loss: 198.1497\n",
      "Epoch 8/15\n",
      "2401/2401 [==============================] - 3s 1ms/step - loss: 433.2255 - val_loss: 204.6981\n",
      "Epoch 9/15\n",
      "2401/2401 [==============================] - 3s 1ms/step - loss: 433.1485 - val_loss: 202.7599\n",
      "Epoch 10/15\n",
      "2401/2401 [==============================] - 3s 1ms/step - loss: 433.0907 - val_loss: 204.6444\n",
      "Epoch 11/15\n",
      "2401/2401 [==============================] - 3s 1ms/step - loss: 433.0435 - val_loss: 205.3382\n",
      "Epoch 12/15\n",
      "2401/2401 [==============================] - 3s 1ms/step - loss: 433.0541 - val_loss: 205.1862\n",
      "Epoch 13/15\n",
      "2401/2401 [==============================] - 3s 1ms/step - loss: 433.2033 - val_loss: 205.8076\n",
      "Epoch 14/15\n",
      "2401/2401 [==============================] - 3s 1ms/step - loss: 433.1083 - val_loss: 206.6267\n",
      "Epoch 15/15\n",
      "2401/2401 [==============================] - 3s 1ms/step - loss: 433.0553 - val_loss: 204.4379\n"
     ]
    },
    {
     "data": {
      "text/plain": [
       "<keras.callbacks.History at 0x7f3fa1a84e10>"
      ]
     },
     "execution_count": 84,
     "metadata": {},
     "output_type": "execute_result"
    }
   ],
   "source": [
    "#ivnierno\n",
    "modelo1.fit(X_train2, trainY2, epochs=epochs, batch_size=batch_size, validation_data=(X_test2, testY2))\n",
    "modelo2.fit(X_train2, trainY2, epochs=epochs, batch_size=batch_size, validation_data=(X_test2, testY2))"
   ]
  },
  {
   "cell_type": "code",
   "execution_count": null,
   "metadata": {},
   "outputs": [],
   "source": []
  },
  {
   "cell_type": "code",
   "execution_count": 9,
   "metadata": {},
   "outputs": [],
   "source": [
    "## evaluación?\n",
    "rmse?\n",
    "\n",
    "\n",
    "\n",
    "#if es hora.. max\n",
    "# si es por dia ya predice max"
   ]
  },
  {
   "cell_type": "code",
   "execution_count": 50,
   "metadata": {},
   "outputs": [],
   "source": [
    "def evaluar_modelo(modelito,data):\n",
    "    mse_test = modelito.evaluate(data[0],data[1])\n",
    "    print(\"RMSE del modelo en test: \",np.sqrt(mse_test))"
   ]
  },
  {
   "cell_type": "code",
   "execution_count": 51,
   "metadata": {},
   "outputs": [
    {
     "name": "stdout",
     "output_type": "stream",
     "text": [
      "195/195 [==============================] - 0s 455us/step\n",
      "('RMSE del modelo en test: ', 22.082310224584013)\n"
     ]
    }
   ],
   "source": [
    "evaluar_modelo(modelo1,[X_test1,testY1])   "
   ]
  },
  {
   "cell_type": "code",
   "execution_count": 52,
   "metadata": {},
   "outputs": [
    {
     "name": "stdout",
     "output_type": "stream",
     "text": [
      "195/195 [==============================] - 0s 456us/step\n",
      "('RMSE del modelo en test: ', 22.356093350644233)\n"
     ]
    }
   ],
   "source": [
    "evaluar_modelo(modelo2,[X_test1,testY1])      "
   ]
  },
  {
   "cell_type": "code",
   "execution_count": null,
   "metadata": {},
   "outputs": [],
   "source": []
  }
 ],
 "metadata": {
  "kernelspec": {
   "display_name": "Python [conda env:py3]",
   "language": "python",
   "name": "conda-env-py3-py"
  },
  "language_info": {
   "codemirror_mode": {
    "name": "ipython",
    "version": 3
   },
   "file_extension": ".py",
   "mimetype": "text/x-python",
   "name": "python",
   "nbconvert_exporter": "python",
   "pygments_lexer": "ipython3",
   "version": "3.5.5"
  }
 },
 "nbformat": 4,
 "nbformat_minor": 2
}
